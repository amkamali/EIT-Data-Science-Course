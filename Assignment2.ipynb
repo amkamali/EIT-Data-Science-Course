{
 "cells": [
  {
   "cell_type": "markdown",
   "metadata": {},
   "source": [
    "# Assignment 2: OCR via Different Bayes Classifiers\n",
    "## By: Amir Kamali"
   ]
  },
  {
   "cell_type": "code",
   "execution_count": 184,
   "metadata": {},
   "outputs": [
    {
     "data": {
      "text/plain": [
       "'/Users/amir'"
      ]
     },
     "execution_count": 184,
     "metadata": {},
     "output_type": "execute_result"
    }
   ],
   "source": [
    "import pandas as pd\n",
    "import numpy as np\n",
    "import seaborn as sn\n",
    "\n",
    "import matplotlib.pyplot as plt\n",
    "from matplotlib.colors import ListedColormap\n",
    "\n",
    "from scipy.stats import multivariate_normal as mvn\n",
    "\n",
    "%matplotlib inline\n"
   ]
  },
  {
   "cell_type": "markdown",
   "metadata": {},
   "source": [
    "The functions that is used in this noteook:"
   ]
  },
  {
   "cell_type": "code",
   "execution_count": 131,
   "metadata": {},
   "outputs": [],
   "source": [
    "def show_me(X):\n",
    "    plt.imshow(X.reshape(28,28))\n",
    "    \n",
    "def normalize(X):\n",
    "    return X.astype(float) / 255\n",
    "\n",
    "class GenBayes():\n",
    "    \n",
    "    def fit(self, X, y, DistStr, epsilon = 1e-3):\n",
    "        N, D = X.shape\n",
    "        \n",
    "        self.likelihoods = dict()\n",
    "        self.priors = dict()\n",
    "        \n",
    "        # sometimes y is float or boolean, etc. So we make sure they are converted into ints\n",
    "        self.K = set(y.astype(int))\n",
    "\n",
    "\n",
    "        if DistStr == \"Naive\":\n",
    "            for k in self.K:\n",
    "                X_k = X[y==k, :]\n",
    "                self.likelihoods[k] = {\"mean\":X_k.mean(axis=0), \"cov\":X_k.var(axis=0) + epsilon}\n",
    "                self.priors[k] = len(X_k)/N\n",
    "        \n",
    "        if DistStr == \"Gauss\":\n",
    "            for k in self.K:\n",
    "                X_k = X[y == k,:]\n",
    "                N_k, D = X_k.shape\n",
    "                mu_k=X_k.mean(axis=0)\n",
    "                \n",
    "                self.likelihoods[k] = {\"mean\":X_k.mean(axis=0), \"cov\":(1/(N_k-1))*np.matmul((X_k-mu_k).T,X_k-mu_k)+ epsilon*np.identity(D)}\n",
    "                self.priors[k] = len(X_k)/N\n",
    "        \n",
    "        if DistStr == \"Multinomial\":\n",
    "            pass\n",
    "        \n",
    "        if DistStr == \"Bernoulli\":\n",
    "            for k in self.K:\n",
    "                X_k = X[y==k, :]\n",
    "                N_k, D = X_k.shape\n",
    "                p = (sum(X_k)+1) / (N_k + 2)\n",
    "                # p is a list if X is a matrix.\n",
    "                self.likelihoods[k] = {'mean' : p, 'cov' : p * (1-p) + epsilon}\n",
    "                self.priors[k] = N_k/N\n",
    "            \n",
    "            \n",
    "    def predict(self, X, DistStr):\n",
    "        N, D = X.shape\n",
    "        P_hat = np.zeros((N,len(self.K)))\n",
    "\n",
    "        if DistStr == \"Naive\":\n",
    "            for k,l in self.likelihoods.items():\n",
    "                P_hat[:,k] = mvn.logpdf(X, l[\"mean\"], l[\"cov\"])+np.log(self.priors[k])\n",
    "            return P_hat.argmax(axis = 1)\n",
    "\n",
    "        if DistStr == \"Gauss\":\n",
    "            for k, l in self.likelihoods.items():\n",
    "                P_hat[:,k] = mvn.logpdf(X, l[\"mean\"], l[\"cov\"]) + np.log(self.priors[k])\n",
    "            return P_hat.argmax(axis = 1)\n",
    "        \n",
    "        if DistStr == \"Multinomial\":\n",
    "            pass\n",
    "        \n",
    "        if DistStr == \"Bernoulli\":\n",
    "            for k, l in self.likelihoods.items():\n",
    "                # matmul is matrix multiplication\n",
    "                # Using bernoulli function/formula. Trick is to get the matrices/vectors to go from m*n to a 1*1 number for each k value.\n",
    "                P_hat[:,k] = np.log(self.priors[k]) + np.matmul(X, np.log(l[\"mean\"])) + np.matmul((1-X), np.log(l[\"cov\"]))\n",
    "            return P_hat.argmax(axis = 1)\n",
    "        \n",
    "def accuracy(y, y_hat):\n",
    "    return np.mean(y == y_hat)\n",
    "\n",
    "def predict_gaussian(gb1, gb2, gb3, X_test, y_test):\n",
    "    result = []\n",
    "    y_hat_test_1 = gb1.predict(X_test, 'Gauss')\n",
    "    print('Accuracy of the first classifier=', accuracy(y_test, y_hat_test_1))\n",
    "\n",
    "    y_hat_test_2 = gb2.predict(X_test, 'Gauss')\n",
    "    print('Accuracy of the second classifier=', accuracy(y_test, y_hat_test_1))\n",
    "\n",
    "    y_hat_test_3 = gb3.predict(X_test, 'Gauss')\n",
    "    print('Accuracy of the third classifier=', accuracy(y_test, y_hat_test_1))\n",
    "\n",
    "    allAgreedCount = 0\n",
    "    twoAgreedCount = 0\n",
    "    for i in range(len(y_hat_test_1)):\n",
    "        if y_hat_test_1[i] == y_hat_test_2[i] and y_hat_test_1[i] == y_hat_test_3[i]:\n",
    "            allAgreedCount += 1\n",
    "\n",
    "        if y_hat_test_1[i] == y_hat_test_2[i] or y_hat_test_1[i] == y_hat_test_3[i]:\n",
    "            twoAgreedCount += 1\n",
    "            result.append(y_hat_test_1[i])\n",
    "        elif y_hat_test_2[i] == y_hat_test_3[i]:\n",
    "            twoAgreedCount += 1\n",
    "            result.append(y_hat_test_2[i])\n",
    "        else:\n",
    "            # No two out of the three results are the same. I just pick y_hat_test_1 as the result.\n",
    "            result.append(y_hat_test_2[i])\n",
    "    print('All classifiers agreed on', allAgreedCount, 'samples')\n",
    "    print('At least two classifiers agreed on', twoAgreedCount, 'samples')\n",
    "    return result\n"
   ]
  },
  {
   "cell_type": "markdown",
   "metadata": {},
   "source": [
    "The main body of the code:"
   ]
  },
  {
   "cell_type": "code",
   "execution_count": 132,
   "metadata": {},
   "outputs": [
    {
     "name": "stdout",
     "output_type": "stream",
     "text": [
      "(60000, 787)\n"
     ]
    },
    {
     "data": {
      "text/html": [
       "<div>\n",
       "<style scoped>\n",
       "    .dataframe tbody tr th:only-of-type {\n",
       "        vertical-align: middle;\n",
       "    }\n",
       "\n",
       "    .dataframe tbody tr th {\n",
       "        vertical-align: top;\n",
       "    }\n",
       "\n",
       "    .dataframe thead th {\n",
       "        text-align: right;\n",
       "    }\n",
       "</style>\n",
       "<table border=\"1\" class=\"dataframe\">\n",
       "  <thead>\n",
       "    <tr style=\"text-align: right;\">\n",
       "      <th></th>\n",
       "      <th>Unnamed: 0</th>\n",
       "      <th>index</th>\n",
       "      <th>labels</th>\n",
       "      <th>0</th>\n",
       "      <th>1</th>\n",
       "      <th>2</th>\n",
       "      <th>3</th>\n",
       "      <th>4</th>\n",
       "      <th>5</th>\n",
       "      <th>6</th>\n",
       "      <th>...</th>\n",
       "      <th>774</th>\n",
       "      <th>775</th>\n",
       "      <th>776</th>\n",
       "      <th>777</th>\n",
       "      <th>778</th>\n",
       "      <th>779</th>\n",
       "      <th>780</th>\n",
       "      <th>781</th>\n",
       "      <th>782</th>\n",
       "      <th>783</th>\n",
       "    </tr>\n",
       "  </thead>\n",
       "  <tbody>\n",
       "    <tr>\n",
       "      <th>count</th>\n",
       "      <td>60000.000000</td>\n",
       "      <td>60000.000000</td>\n",
       "      <td>60000.000000</td>\n",
       "      <td>60000.0</td>\n",
       "      <td>60000.0</td>\n",
       "      <td>60000.0</td>\n",
       "      <td>60000.0</td>\n",
       "      <td>60000.0</td>\n",
       "      <td>60000.0</td>\n",
       "      <td>60000.0</td>\n",
       "      <td>...</td>\n",
       "      <td>60000.000000</td>\n",
       "      <td>60000.000000</td>\n",
       "      <td>60000.000000</td>\n",
       "      <td>60000.000000</td>\n",
       "      <td>60000.000000</td>\n",
       "      <td>60000.0000</td>\n",
       "      <td>60000.0</td>\n",
       "      <td>60000.0</td>\n",
       "      <td>60000.0</td>\n",
       "      <td>60000.0</td>\n",
       "    </tr>\n",
       "    <tr>\n",
       "      <th>mean</th>\n",
       "      <td>29999.500000</td>\n",
       "      <td>29999.500000</td>\n",
       "      <td>4.453933</td>\n",
       "      <td>0.0</td>\n",
       "      <td>0.0</td>\n",
       "      <td>0.0</td>\n",
       "      <td>0.0</td>\n",
       "      <td>0.0</td>\n",
       "      <td>0.0</td>\n",
       "      <td>0.0</td>\n",
       "      <td>...</td>\n",
       "      <td>0.200433</td>\n",
       "      <td>0.088867</td>\n",
       "      <td>0.045633</td>\n",
       "      <td>0.019283</td>\n",
       "      <td>0.015117</td>\n",
       "      <td>0.0020</td>\n",
       "      <td>0.0</td>\n",
       "      <td>0.0</td>\n",
       "      <td>0.0</td>\n",
       "      <td>0.0</td>\n",
       "    </tr>\n",
       "    <tr>\n",
       "      <th>std</th>\n",
       "      <td>17320.652413</td>\n",
       "      <td>17320.652413</td>\n",
       "      <td>2.889270</td>\n",
       "      <td>0.0</td>\n",
       "      <td>0.0</td>\n",
       "      <td>0.0</td>\n",
       "      <td>0.0</td>\n",
       "      <td>0.0</td>\n",
       "      <td>0.0</td>\n",
       "      <td>0.0</td>\n",
       "      <td>...</td>\n",
       "      <td>6.042472</td>\n",
       "      <td>3.956189</td>\n",
       "      <td>2.839845</td>\n",
       "      <td>1.686770</td>\n",
       "      <td>1.678283</td>\n",
       "      <td>0.3466</td>\n",
       "      <td>0.0</td>\n",
       "      <td>0.0</td>\n",
       "      <td>0.0</td>\n",
       "      <td>0.0</td>\n",
       "    </tr>\n",
       "    <tr>\n",
       "      <th>min</th>\n",
       "      <td>0.000000</td>\n",
       "      <td>0.000000</td>\n",
       "      <td>0.000000</td>\n",
       "      <td>0.0</td>\n",
       "      <td>0.0</td>\n",
       "      <td>0.0</td>\n",
       "      <td>0.0</td>\n",
       "      <td>0.0</td>\n",
       "      <td>0.0</td>\n",
       "      <td>0.0</td>\n",
       "      <td>...</td>\n",
       "      <td>0.000000</td>\n",
       "      <td>0.000000</td>\n",
       "      <td>0.000000</td>\n",
       "      <td>0.000000</td>\n",
       "      <td>0.000000</td>\n",
       "      <td>0.0000</td>\n",
       "      <td>0.0</td>\n",
       "      <td>0.0</td>\n",
       "      <td>0.0</td>\n",
       "      <td>0.0</td>\n",
       "    </tr>\n",
       "    <tr>\n",
       "      <th>25%</th>\n",
       "      <td>14999.750000</td>\n",
       "      <td>14999.750000</td>\n",
       "      <td>2.000000</td>\n",
       "      <td>0.0</td>\n",
       "      <td>0.0</td>\n",
       "      <td>0.0</td>\n",
       "      <td>0.0</td>\n",
       "      <td>0.0</td>\n",
       "      <td>0.0</td>\n",
       "      <td>0.0</td>\n",
       "      <td>...</td>\n",
       "      <td>0.000000</td>\n",
       "      <td>0.000000</td>\n",
       "      <td>0.000000</td>\n",
       "      <td>0.000000</td>\n",
       "      <td>0.000000</td>\n",
       "      <td>0.0000</td>\n",
       "      <td>0.0</td>\n",
       "      <td>0.0</td>\n",
       "      <td>0.0</td>\n",
       "      <td>0.0</td>\n",
       "    </tr>\n",
       "    <tr>\n",
       "      <th>50%</th>\n",
       "      <td>29999.500000</td>\n",
       "      <td>29999.500000</td>\n",
       "      <td>4.000000</td>\n",
       "      <td>0.0</td>\n",
       "      <td>0.0</td>\n",
       "      <td>0.0</td>\n",
       "      <td>0.0</td>\n",
       "      <td>0.0</td>\n",
       "      <td>0.0</td>\n",
       "      <td>0.0</td>\n",
       "      <td>...</td>\n",
       "      <td>0.000000</td>\n",
       "      <td>0.000000</td>\n",
       "      <td>0.000000</td>\n",
       "      <td>0.000000</td>\n",
       "      <td>0.000000</td>\n",
       "      <td>0.0000</td>\n",
       "      <td>0.0</td>\n",
       "      <td>0.0</td>\n",
       "      <td>0.0</td>\n",
       "      <td>0.0</td>\n",
       "    </tr>\n",
       "    <tr>\n",
       "      <th>75%</th>\n",
       "      <td>44999.250000</td>\n",
       "      <td>44999.250000</td>\n",
       "      <td>7.000000</td>\n",
       "      <td>0.0</td>\n",
       "      <td>0.0</td>\n",
       "      <td>0.0</td>\n",
       "      <td>0.0</td>\n",
       "      <td>0.0</td>\n",
       "      <td>0.0</td>\n",
       "      <td>0.0</td>\n",
       "      <td>...</td>\n",
       "      <td>0.000000</td>\n",
       "      <td>0.000000</td>\n",
       "      <td>0.000000</td>\n",
       "      <td>0.000000</td>\n",
       "      <td>0.000000</td>\n",
       "      <td>0.0000</td>\n",
       "      <td>0.0</td>\n",
       "      <td>0.0</td>\n",
       "      <td>0.0</td>\n",
       "      <td>0.0</td>\n",
       "    </tr>\n",
       "    <tr>\n",
       "      <th>max</th>\n",
       "      <td>59999.000000</td>\n",
       "      <td>59999.000000</td>\n",
       "      <td>9.000000</td>\n",
       "      <td>0.0</td>\n",
       "      <td>0.0</td>\n",
       "      <td>0.0</td>\n",
       "      <td>0.0</td>\n",
       "      <td>0.0</td>\n",
       "      <td>0.0</td>\n",
       "      <td>0.0</td>\n",
       "      <td>...</td>\n",
       "      <td>254.000000</td>\n",
       "      <td>254.000000</td>\n",
       "      <td>253.000000</td>\n",
       "      <td>253.000000</td>\n",
       "      <td>254.000000</td>\n",
       "      <td>62.0000</td>\n",
       "      <td>0.0</td>\n",
       "      <td>0.0</td>\n",
       "      <td>0.0</td>\n",
       "      <td>0.0</td>\n",
       "    </tr>\n",
       "  </tbody>\n",
       "</table>\n",
       "<p>8 rows × 787 columns</p>\n",
       "</div>"
      ],
      "text/plain": [
       "         Unnamed: 0         index        labels        0        1        2  \\\n",
       "count  60000.000000  60000.000000  60000.000000  60000.0  60000.0  60000.0   \n",
       "mean   29999.500000  29999.500000      4.453933      0.0      0.0      0.0   \n",
       "std    17320.652413  17320.652413      2.889270      0.0      0.0      0.0   \n",
       "min        0.000000      0.000000      0.000000      0.0      0.0      0.0   \n",
       "25%    14999.750000  14999.750000      2.000000      0.0      0.0      0.0   \n",
       "50%    29999.500000  29999.500000      4.000000      0.0      0.0      0.0   \n",
       "75%    44999.250000  44999.250000      7.000000      0.0      0.0      0.0   \n",
       "max    59999.000000  59999.000000      9.000000      0.0      0.0      0.0   \n",
       "\n",
       "             3        4        5        6  ...           774           775  \\\n",
       "count  60000.0  60000.0  60000.0  60000.0  ...  60000.000000  60000.000000   \n",
       "mean       0.0      0.0      0.0      0.0  ...      0.200433      0.088867   \n",
       "std        0.0      0.0      0.0      0.0  ...      6.042472      3.956189   \n",
       "min        0.0      0.0      0.0      0.0  ...      0.000000      0.000000   \n",
       "25%        0.0      0.0      0.0      0.0  ...      0.000000      0.000000   \n",
       "50%        0.0      0.0      0.0      0.0  ...      0.000000      0.000000   \n",
       "75%        0.0      0.0      0.0      0.0  ...      0.000000      0.000000   \n",
       "max        0.0      0.0      0.0      0.0  ...    254.000000    254.000000   \n",
       "\n",
       "                776           777           778         779      780      781  \\\n",
       "count  60000.000000  60000.000000  60000.000000  60000.0000  60000.0  60000.0   \n",
       "mean       0.045633      0.019283      0.015117      0.0020      0.0      0.0   \n",
       "std        2.839845      1.686770      1.678283      0.3466      0.0      0.0   \n",
       "min        0.000000      0.000000      0.000000      0.0000      0.0      0.0   \n",
       "25%        0.000000      0.000000      0.000000      0.0000      0.0      0.0   \n",
       "50%        0.000000      0.000000      0.000000      0.0000      0.0      0.0   \n",
       "75%        0.000000      0.000000      0.000000      0.0000      0.0      0.0   \n",
       "max      253.000000    253.000000    254.000000     62.0000      0.0      0.0   \n",
       "\n",
       "           782      783  \n",
       "count  60000.0  60000.0  \n",
       "mean       0.0      0.0  \n",
       "std        0.0      0.0  \n",
       "min        0.0      0.0  \n",
       "25%        0.0      0.0  \n",
       "50%        0.0      0.0  \n",
       "75%        0.0      0.0  \n",
       "max        0.0      0.0  \n",
       "\n",
       "[8 rows x 787 columns]"
      ]
     },
     "execution_count": 132,
     "metadata": {},
     "output_type": "execute_result"
    }
   ],
   "source": [
    "train_data = pd.read_csv(\"Documents/Amir/SampleFiles/MNIST_train.csv\", header=0)\n",
    "X_train = train_data.to_numpy()\n",
    "print(X_train.shape)\n",
    "y_train = X_train[:, 2]\n",
    "X_train = X_train[:,3:]\n",
    "train_data.describe()"
   ]
  },
  {
   "cell_type": "code",
   "execution_count": 133,
   "metadata": {},
   "outputs": [
    {
     "name": "stdout",
     "output_type": "stream",
     "text": [
      "(10000, 787)\n"
     ]
    },
    {
     "data": {
      "text/html": [
       "<div>\n",
       "<style scoped>\n",
       "    .dataframe tbody tr th:only-of-type {\n",
       "        vertical-align: middle;\n",
       "    }\n",
       "\n",
       "    .dataframe tbody tr th {\n",
       "        vertical-align: top;\n",
       "    }\n",
       "\n",
       "    .dataframe thead th {\n",
       "        text-align: right;\n",
       "    }\n",
       "</style>\n",
       "<table border=\"1\" class=\"dataframe\">\n",
       "  <thead>\n",
       "    <tr style=\"text-align: right;\">\n",
       "      <th></th>\n",
       "      <th>Unnamed: 0</th>\n",
       "      <th>index</th>\n",
       "      <th>labels</th>\n",
       "      <th>0</th>\n",
       "      <th>1</th>\n",
       "      <th>2</th>\n",
       "      <th>3</th>\n",
       "      <th>4</th>\n",
       "      <th>5</th>\n",
       "      <th>6</th>\n",
       "      <th>...</th>\n",
       "      <th>774</th>\n",
       "      <th>775</th>\n",
       "      <th>776</th>\n",
       "      <th>777</th>\n",
       "      <th>778</th>\n",
       "      <th>779</th>\n",
       "      <th>780</th>\n",
       "      <th>781</th>\n",
       "      <th>782</th>\n",
       "      <th>783</th>\n",
       "    </tr>\n",
       "  </thead>\n",
       "  <tbody>\n",
       "    <tr>\n",
       "      <th>count</th>\n",
       "      <td>10000.00000</td>\n",
       "      <td>10000.00000</td>\n",
       "      <td>10000.000000</td>\n",
       "      <td>10000.0</td>\n",
       "      <td>10000.0</td>\n",
       "      <td>10000.0</td>\n",
       "      <td>10000.0</td>\n",
       "      <td>10000.0</td>\n",
       "      <td>10000.0</td>\n",
       "      <td>10000.0</td>\n",
       "      <td>...</td>\n",
       "      <td>10000.000000</td>\n",
       "      <td>10000.000000</td>\n",
       "      <td>10000.000000</td>\n",
       "      <td>10000.0000</td>\n",
       "      <td>10000.0</td>\n",
       "      <td>10000.0</td>\n",
       "      <td>10000.0</td>\n",
       "      <td>10000.0</td>\n",
       "      <td>10000.0</td>\n",
       "      <td>10000.0</td>\n",
       "    </tr>\n",
       "    <tr>\n",
       "      <th>mean</th>\n",
       "      <td>4999.50000</td>\n",
       "      <td>4999.50000</td>\n",
       "      <td>4.443400</td>\n",
       "      <td>0.0</td>\n",
       "      <td>0.0</td>\n",
       "      <td>0.0</td>\n",
       "      <td>0.0</td>\n",
       "      <td>0.0</td>\n",
       "      <td>0.0</td>\n",
       "      <td>0.0</td>\n",
       "      <td>...</td>\n",
       "      <td>0.179300</td>\n",
       "      <td>0.163600</td>\n",
       "      <td>0.052600</td>\n",
       "      <td>0.0006</td>\n",
       "      <td>0.0</td>\n",
       "      <td>0.0</td>\n",
       "      <td>0.0</td>\n",
       "      <td>0.0</td>\n",
       "      <td>0.0</td>\n",
       "      <td>0.0</td>\n",
       "    </tr>\n",
       "    <tr>\n",
       "      <th>std</th>\n",
       "      <td>2886.89568</td>\n",
       "      <td>2886.89568</td>\n",
       "      <td>2.895865</td>\n",
       "      <td>0.0</td>\n",
       "      <td>0.0</td>\n",
       "      <td>0.0</td>\n",
       "      <td>0.0</td>\n",
       "      <td>0.0</td>\n",
       "      <td>0.0</td>\n",
       "      <td>0.0</td>\n",
       "      <td>...</td>\n",
       "      <td>5.674149</td>\n",
       "      <td>5.736072</td>\n",
       "      <td>2.420004</td>\n",
       "      <td>0.0600</td>\n",
       "      <td>0.0</td>\n",
       "      <td>0.0</td>\n",
       "      <td>0.0</td>\n",
       "      <td>0.0</td>\n",
       "      <td>0.0</td>\n",
       "      <td>0.0</td>\n",
       "    </tr>\n",
       "    <tr>\n",
       "      <th>min</th>\n",
       "      <td>0.00000</td>\n",
       "      <td>0.00000</td>\n",
       "      <td>0.000000</td>\n",
       "      <td>0.0</td>\n",
       "      <td>0.0</td>\n",
       "      <td>0.0</td>\n",
       "      <td>0.0</td>\n",
       "      <td>0.0</td>\n",
       "      <td>0.0</td>\n",
       "      <td>0.0</td>\n",
       "      <td>...</td>\n",
       "      <td>0.000000</td>\n",
       "      <td>0.000000</td>\n",
       "      <td>0.000000</td>\n",
       "      <td>0.0000</td>\n",
       "      <td>0.0</td>\n",
       "      <td>0.0</td>\n",
       "      <td>0.0</td>\n",
       "      <td>0.0</td>\n",
       "      <td>0.0</td>\n",
       "      <td>0.0</td>\n",
       "    </tr>\n",
       "    <tr>\n",
       "      <th>25%</th>\n",
       "      <td>2499.75000</td>\n",
       "      <td>2499.75000</td>\n",
       "      <td>2.000000</td>\n",
       "      <td>0.0</td>\n",
       "      <td>0.0</td>\n",
       "      <td>0.0</td>\n",
       "      <td>0.0</td>\n",
       "      <td>0.0</td>\n",
       "      <td>0.0</td>\n",
       "      <td>0.0</td>\n",
       "      <td>...</td>\n",
       "      <td>0.000000</td>\n",
       "      <td>0.000000</td>\n",
       "      <td>0.000000</td>\n",
       "      <td>0.0000</td>\n",
       "      <td>0.0</td>\n",
       "      <td>0.0</td>\n",
       "      <td>0.0</td>\n",
       "      <td>0.0</td>\n",
       "      <td>0.0</td>\n",
       "      <td>0.0</td>\n",
       "    </tr>\n",
       "    <tr>\n",
       "      <th>50%</th>\n",
       "      <td>4999.50000</td>\n",
       "      <td>4999.50000</td>\n",
       "      <td>4.000000</td>\n",
       "      <td>0.0</td>\n",
       "      <td>0.0</td>\n",
       "      <td>0.0</td>\n",
       "      <td>0.0</td>\n",
       "      <td>0.0</td>\n",
       "      <td>0.0</td>\n",
       "      <td>0.0</td>\n",
       "      <td>...</td>\n",
       "      <td>0.000000</td>\n",
       "      <td>0.000000</td>\n",
       "      <td>0.000000</td>\n",
       "      <td>0.0000</td>\n",
       "      <td>0.0</td>\n",
       "      <td>0.0</td>\n",
       "      <td>0.0</td>\n",
       "      <td>0.0</td>\n",
       "      <td>0.0</td>\n",
       "      <td>0.0</td>\n",
       "    </tr>\n",
       "    <tr>\n",
       "      <th>75%</th>\n",
       "      <td>7499.25000</td>\n",
       "      <td>7499.25000</td>\n",
       "      <td>7.000000</td>\n",
       "      <td>0.0</td>\n",
       "      <td>0.0</td>\n",
       "      <td>0.0</td>\n",
       "      <td>0.0</td>\n",
       "      <td>0.0</td>\n",
       "      <td>0.0</td>\n",
       "      <td>0.0</td>\n",
       "      <td>...</td>\n",
       "      <td>0.000000</td>\n",
       "      <td>0.000000</td>\n",
       "      <td>0.000000</td>\n",
       "      <td>0.0000</td>\n",
       "      <td>0.0</td>\n",
       "      <td>0.0</td>\n",
       "      <td>0.0</td>\n",
       "      <td>0.0</td>\n",
       "      <td>0.0</td>\n",
       "      <td>0.0</td>\n",
       "    </tr>\n",
       "    <tr>\n",
       "      <th>max</th>\n",
       "      <td>9999.00000</td>\n",
       "      <td>9999.00000</td>\n",
       "      <td>9.000000</td>\n",
       "      <td>0.0</td>\n",
       "      <td>0.0</td>\n",
       "      <td>0.0</td>\n",
       "      <td>0.0</td>\n",
       "      <td>0.0</td>\n",
       "      <td>0.0</td>\n",
       "      <td>0.0</td>\n",
       "      <td>...</td>\n",
       "      <td>253.000000</td>\n",
       "      <td>253.000000</td>\n",
       "      <td>156.000000</td>\n",
       "      <td>6.0000</td>\n",
       "      <td>0.0</td>\n",
       "      <td>0.0</td>\n",
       "      <td>0.0</td>\n",
       "      <td>0.0</td>\n",
       "      <td>0.0</td>\n",
       "      <td>0.0</td>\n",
       "    </tr>\n",
       "  </tbody>\n",
       "</table>\n",
       "<p>8 rows × 787 columns</p>\n",
       "</div>"
      ],
      "text/plain": [
       "        Unnamed: 0        index        labels        0        1        2  \\\n",
       "count  10000.00000  10000.00000  10000.000000  10000.0  10000.0  10000.0   \n",
       "mean    4999.50000   4999.50000      4.443400      0.0      0.0      0.0   \n",
       "std     2886.89568   2886.89568      2.895865      0.0      0.0      0.0   \n",
       "min        0.00000      0.00000      0.000000      0.0      0.0      0.0   \n",
       "25%     2499.75000   2499.75000      2.000000      0.0      0.0      0.0   \n",
       "50%     4999.50000   4999.50000      4.000000      0.0      0.0      0.0   \n",
       "75%     7499.25000   7499.25000      7.000000      0.0      0.0      0.0   \n",
       "max     9999.00000   9999.00000      9.000000      0.0      0.0      0.0   \n",
       "\n",
       "             3        4        5        6  ...           774           775  \\\n",
       "count  10000.0  10000.0  10000.0  10000.0  ...  10000.000000  10000.000000   \n",
       "mean       0.0      0.0      0.0      0.0  ...      0.179300      0.163600   \n",
       "std        0.0      0.0      0.0      0.0  ...      5.674149      5.736072   \n",
       "min        0.0      0.0      0.0      0.0  ...      0.000000      0.000000   \n",
       "25%        0.0      0.0      0.0      0.0  ...      0.000000      0.000000   \n",
       "50%        0.0      0.0      0.0      0.0  ...      0.000000      0.000000   \n",
       "75%        0.0      0.0      0.0      0.0  ...      0.000000      0.000000   \n",
       "max        0.0      0.0      0.0      0.0  ...    253.000000    253.000000   \n",
       "\n",
       "                776         777      778      779      780      781      782  \\\n",
       "count  10000.000000  10000.0000  10000.0  10000.0  10000.0  10000.0  10000.0   \n",
       "mean       0.052600      0.0006      0.0      0.0      0.0      0.0      0.0   \n",
       "std        2.420004      0.0600      0.0      0.0      0.0      0.0      0.0   \n",
       "min        0.000000      0.0000      0.0      0.0      0.0      0.0      0.0   \n",
       "25%        0.000000      0.0000      0.0      0.0      0.0      0.0      0.0   \n",
       "50%        0.000000      0.0000      0.0      0.0      0.0      0.0      0.0   \n",
       "75%        0.000000      0.0000      0.0      0.0      0.0      0.0      0.0   \n",
       "max      156.000000      6.0000      0.0      0.0      0.0      0.0      0.0   \n",
       "\n",
       "           783  \n",
       "count  10000.0  \n",
       "mean       0.0  \n",
       "std        0.0  \n",
       "min        0.0  \n",
       "25%        0.0  \n",
       "50%        0.0  \n",
       "75%        0.0  \n",
       "max        0.0  \n",
       "\n",
       "[8 rows x 787 columns]"
      ]
     },
     "execution_count": 133,
     "metadata": {},
     "output_type": "execute_result"
    }
   ],
   "source": [
    "test_data = pd.read_csv(\"Documents/Amir/SampleFiles/MNIST_test.csv\", header=0)\n",
    "X_test = test_data.to_numpy()\n",
    "print(X_test.shape)\n",
    "y_test = X_test[:, 2]\n",
    "X_test = X_test[:,3:]\n",
    "test_data.describe()"
   ]
  },
  {
   "cell_type": "markdown",
   "metadata": {},
   "source": [
    "Finding the accuracy of the three classifiers before normalizing data."
   ]
  },
  {
   "cell_type": "code",
   "execution_count": 134,
   "metadata": {},
   "outputs": [],
   "source": [
    "gb = GenBayes()"
   ]
  },
  {
   "cell_type": "code",
   "execution_count": 135,
   "metadata": {},
   "outputs": [
    {
     "name": "stdout",
     "output_type": "stream",
     "text": [
      "Naive Accuracy : 61.73%\n"
     ]
    }
   ],
   "source": [
    "gb.fit(X_train,y_train, 'Naive', epsilon = 0.016)\n",
    "y_hat_test = gb.predict(X_test, 'Naive')\n",
    "print(f'Naive Accuracy : {accuracy(y_test, y_hat_test)*10000/100:.2f}%')"
   ]
  },
  {
   "cell_type": "code",
   "execution_count": 136,
   "metadata": {},
   "outputs": [
    {
     "name": "stdout",
     "output_type": "stream",
     "text": [
      "Gauss Accuracy : 78.75%\n"
     ]
    }
   ],
   "source": [
    "gb.fit(X_train,y_train, 'Gauss', epsilon = 0.016)\n",
    "y_hat_test = gb.predict(X_test, 'Gauss')\n",
    "print(f'Gauss Accuracy : {accuracy(y_test, y_hat_test)*10000/100:.2f}%')"
   ]
  },
  {
   "cell_type": "code",
   "execution_count": 137,
   "metadata": {},
   "outputs": [
    {
     "name": "stderr",
     "output_type": "stream",
     "text": [
      "<ipython-input-131-7f9170a0b508>:68: RuntimeWarning: invalid value encountered in log\n",
      "  P_hat[:,k] = np.log(self.priors[k]) + np.matmul(X, np.log(l[\"mean\"])) + np.matmul((1-X), np.log(l[\"cov\"]))\n"
     ]
    },
    {
     "name": "stdout",
     "output_type": "stream",
     "text": [
      "Bernoulli Accuracy : 9.80%\n"
     ]
    }
   ],
   "source": [
    "gb.fit(X_train,y_train, 'Bernoulli', epsilon = 160)\n",
    "y_hat_test = gb.predict(X_test, 'Bernoulli')\n",
    "print(f'Bernoulli Accuracy : {accuracy(y_test, y_hat_test)*10000/100:.2f}%')"
   ]
  },
  {
   "cell_type": "code",
   "execution_count": 181,
   "metadata": {},
   "outputs": [
    {
     "data": {
      "text/plain": [
       "Text(0, 0.5, 'accuracy (Percent)')"
      ]
     },
     "execution_count": 181,
     "metadata": {},
     "output_type": "execute_result"
    },
    {
     "data": {
      "image/png": "[encoded data removed]",
      "text/plain": [
       "<Figure size 432x288 with 1 Axes>"
      ]
     },
     "metadata": {},
     "output_type": "display_data"
    }
   ],
   "source": [
    "best_accuracies = [61.73, 78.75, 9.80]\n",
    "models = [\"Naive\", \"Gaussian\", \"Bernoulli\"]\n",
    "plt.figure()\n",
    "plt.ylim(0, 100)\n",
    "plt.bar(models, best_accuracies, color=['green', 'blue', 'red'])\n",
    "plt.title(\"Accuracy Before Data Normalization\")\n",
    "plt.xlabel(\"Method\")\n",
    "plt.ylabel(\"accuracy (Percent)\")"
   ]
  },
  {
   "cell_type": "markdown",
   "metadata": {},
   "source": [
    "Normalizing the features between 0 to 1."
   ]
  },
  {
   "cell_type": "code",
   "execution_count": 139,
   "metadata": {},
   "outputs": [],
   "source": [
    "X_train = normalize(X_train)\n",
    "X_test = normalize(X_test)\n"
   ]
  },
  {
   "cell_type": "markdown",
   "metadata": {},
   "source": [
    "Finding the mean value for each digit in training data."
   ]
  },
  {
   "cell_type": "code",
   "execution_count": 140,
   "metadata": {},
   "outputs": [
    {
     "name": "stdout",
     "output_type": "stream",
     "text": [
      "Size of X_ 0 = (5923, 784)\n",
      "pixel_variation max=  0.960438022973519\n",
      "Size of X_ 1 = (6742, 784)\n",
      "pixel_variation max=  0.7930933242916953\n",
      "Size of X_ 2 = (5958, 784)\n",
      "pixel_variation max=  0.9187822293865937\n",
      "Size of X_ 3 = (6131, 784)\n",
      "pixel_variation max=  0.6710578552152299\n",
      "Size of X_ 4 = (5842, 784)\n",
      "pixel_variation max=  0.6949379166971438\n",
      "Size of X_ 5 = (5421, 784)\n",
      "pixel_variation max=  0.8133871071935683\n",
      "Size of X_ 6 = (5918, 784)\n",
      "pixel_variation max=  0.8113985317024253\n",
      "Size of X_ 7 = (6265, 784)\n",
      "pixel_variation max=  0.9716530143850078\n",
      "Size of X_ 8 = (5851, 784)\n",
      "pixel_variation max=  0.7422061463438345\n",
      "Size of X_ 9 = (5949, 784)\n",
      "pixel_variation max=  0.8157084589901266\n"
     ]
    }
   ],
   "source": [
    "digits_pixel_mean = []\n",
    "digit_max_variation = []\n",
    "for digit in range(10):\n",
    "    X_digit = X_train[y_train==digit, :]\n",
    "    print('Size of X_', digit, '=', X_digit.shape)\n",
    "    pixel_mean = np.mean(X_digit, axis=0)\n",
    "    digits_pixel_mean.append(pixel_mean)\n",
    "    pixel_variation = [0]* len(pixel_mean)\n",
    "    max_index = -1\n",
    "    max_variation_sum = 0\n",
    "    for i in range(len(X_digit)):\n",
    "        image = X_digit[i]\n",
    "        pixel_variation = (image - pixel_mean)**2\n",
    "        variation_sum = sum(pixel_variation)\n",
    "        if max_variation_sum < variation_sum:\n",
    "            max_index = i\n",
    "            max_variation_sum = variation_sum\n",
    "    digit_max_variation.append([max_index, X_digit[max_index,:]])\n",
    "    print('pixel_variation max= ',max(pixel_variation))"
   ]
  },
  {
   "cell_type": "code",
   "execution_count": 141,
   "metadata": {},
   "outputs": [
    {
     "data": {
      "image/png": "[encoded data removed]",
      "text/plain": [
       "<Figure size 432x288 with 1 Axes>"
      ]
     },
     "metadata": {
      "needs_background": "light"
     },
     "output_type": "display_data"
    }
   ],
   "source": [
    "show_me(digits_pixel_mean[0])"
   ]
  },
  {
   "cell_type": "code",
   "execution_count": 142,
   "metadata": {},
   "outputs": [
    {
     "data": {
      "image/png": "[encoded data removed]",
      "text/plain": [
       "<Figure size 432x288 with 1 Axes>"
      ]
     },
     "metadata": {
      "needs_background": "light"
     },
     "output_type": "display_data"
    }
   ],
   "source": [
    "show_me(digits_pixel_mean[1])"
   ]
  },
  {
   "cell_type": "code",
   "execution_count": 143,
   "metadata": {},
   "outputs": [
    {
     "data": {
      "image/png": "[encoded data removed]",
      "text/plain": [
       "<Figure size 432x288 with 1 Axes>"
      ]
     },
     "metadata": {
      "needs_background": "light"
     },
     "output_type": "display_data"
    }
   ],
   "source": [
    "show_me(digits_pixel_mean[2])"
   ]
  },
  {
   "cell_type": "code",
   "execution_count": 144,
   "metadata": {},
   "outputs": [
    {
     "data": {
      "image/png": "[encoded data removed]",
      "text/plain": [
       "<Figure size 432x288 with 1 Axes>"
      ]
     },
     "metadata": {
      "needs_background": "light"
     },
     "output_type": "display_data"
    }
   ],
   "source": [
    "show_me(digits_pixel_mean[3])"
   ]
  },
  {
   "cell_type": "code",
   "execution_count": 145,
   "metadata": {},
   "outputs": [
    {
     "data": {
      "image/png": "[encoded data removed]",
      "text/plain": [
       "<Figure size 432x288 with 1 Axes>"
      ]
     },
     "metadata": {
      "needs_background": "light"
     },
     "output_type": "display_data"
    }
   ],
   "source": [
    "show_me(digits_pixel_mean[4])"
   ]
  },
  {
   "cell_type": "code",
   "execution_count": 146,
   "metadata": {},
   "outputs": [
    {
     "data": {
      "image/png": "[encoded data removed]",
      "text/plain": [
       "<Figure size 432x288 with 1 Axes>"
      ]
     },
     "metadata": {
      "needs_background": "light"
     },
     "output_type": "display_data"
    }
   ],
   "source": [
    "show_me(digits_pixel_mean[5])"
   ]
  },
  {
   "cell_type": "code",
   "execution_count": 147,
   "metadata": {},
   "outputs": [
    {
     "data": {
      "image/png": "[encoded data removed]",
      "text/plain": [
       "<Figure size 432x288 with 1 Axes>"
      ]
     },
     "metadata": {
      "needs_background": "light"
     },
     "output_type": "display_data"
    }
   ],
   "source": [
    "show_me(digits_pixel_mean[6])"
   ]
  },
  {
   "cell_type": "code",
   "execution_count": 148,
   "metadata": {},
   "outputs": [
    {
     "data": {
      "image/png": "[encoded data removed]",
      "text/plain": [
       "<Figure size 432x288 with 1 Axes>"
      ]
     },
     "metadata": {
      "needs_background": "light"
     },
     "output_type": "display_data"
    }
   ],
   "source": [
    "show_me(digits_pixel_mean[7])"
   ]
  },
  {
   "cell_type": "code",
   "execution_count": 149,
   "metadata": {},
   "outputs": [
    {
     "data": {
      "image/png": "[encoded data removed]",
      "text/plain": [
       "<Figure size 432x288 with 1 Axes>"
      ]
     },
     "metadata": {
      "needs_background": "light"
     },
     "output_type": "display_data"
    }
   ],
   "source": [
    "show_me(digits_pixel_mean[8])"
   ]
  },
  {
   "cell_type": "code",
   "execution_count": 150,
   "metadata": {},
   "outputs": [
    {
     "data": {
      "image/png": "[encoded data removed]",
      "text/plain": [
       "<Figure size 432x288 with 1 Axes>"
      ]
     },
     "metadata": {
      "needs_background": "light"
     },
     "output_type": "display_data"
    }
   ],
   "source": [
    "show_me(digits_pixel_mean[9])"
   ]
  },
  {
   "cell_type": "code",
   "execution_count": 151,
   "metadata": {},
   "outputs": [
    {
     "data": {
      "image/png": "[encoded data removed]",
      "text/plain": [
       "<Figure size 432x288 with 1 Axes>"
      ]
     },
     "metadata": {
      "needs_background": "light"
     },
     "output_type": "display_data"
    }
   ],
   "source": [
    "show_me(digit_max_variation[0][1])"
   ]
  },
  {
   "cell_type": "code",
   "execution_count": 152,
   "metadata": {},
   "outputs": [
    {
     "data": {
      "image/png": "[encoded data removed]",
      "text/plain": [
       "<Figure size 432x288 with 1 Axes>"
      ]
     },
     "metadata": {
      "needs_background": "light"
     },
     "output_type": "display_data"
    }
   ],
   "source": [
    "show_me(digit_max_variation[1][1])"
   ]
  },
  {
   "cell_type": "code",
   "execution_count": 153,
   "metadata": {},
   "outputs": [
    {
     "data": {
      "image/png": "[encoded data removed]",
      "text/plain": [
       "<Figure size 432x288 with 1 Axes>"
      ]
     },
     "metadata": {
      "needs_background": "light"
     },
     "output_type": "display_data"
    }
   ],
   "source": [
    "show_me(digit_max_variation[2][1])"
   ]
  },
  {
   "cell_type": "code",
   "execution_count": 154,
   "metadata": {},
   "outputs": [
    {
     "data": {
      "image/png": "[encoded data removed]",
      "text/plain": [
       "<Figure size 432x288 with 1 Axes>"
      ]
     },
     "metadata": {
      "needs_background": "light"
     },
     "output_type": "display_data"
    }
   ],
   "source": [
    "show_me(digit_max_variation[3][1])"
   ]
  },
  {
   "cell_type": "code",
   "execution_count": 155,
   "metadata": {},
   "outputs": [
    {
     "data": {
      "image/png": "[encoded data removed]",
      "text/plain": [
       "<Figure size 432x288 with 1 Axes>"
      ]
     },
     "metadata": {
      "needs_background": "light"
     },
     "output_type": "display_data"
    }
   ],
   "source": [
    "show_me(digit_max_variation[4][1])"
   ]
  },
  {
   "cell_type": "code",
   "execution_count": 156,
   "metadata": {},
   "outputs": [
    {
     "data": {
      "image/png": "[encoded data removed]",
      "text/plain": [
       "<Figure size 432x288 with 1 Axes>"
      ]
     },
     "metadata": {
      "needs_background": "light"
     },
     "output_type": "display_data"
    }
   ],
   "source": [
    "show_me(digit_max_variation[5][1])"
   ]
  },
  {
   "cell_type": "code",
   "execution_count": 157,
   "metadata": {},
   "outputs": [
    {
     "data": {
      "image/png": "[encoded data removed]",
      "text/plain": [
       "<Figure size 432x288 with 1 Axes>"
      ]
     },
     "metadata": {
      "needs_background": "light"
     },
     "output_type": "display_data"
    }
   ],
   "source": [
    "show_me(digit_max_variation[6][1])"
   ]
  },
  {
   "cell_type": "code",
   "execution_count": 158,
   "metadata": {},
   "outputs": [
    {
     "data": {
      "image/png": "[encoded data removed]",
      "text/plain": [
       "<Figure size 432x288 with 1 Axes>"
      ]
     },
     "metadata": {
      "needs_background": "light"
     },
     "output_type": "display_data"
    }
   ],
   "source": [
    "show_me(digit_max_variation[7][1])"
   ]
  },
  {
   "cell_type": "code",
   "execution_count": 159,
   "metadata": {},
   "outputs": [
    {
     "data": {
      "image/png": "[encoded data removed]",
      "text/plain": [
       "<Figure size 432x288 with 1 Axes>"
      ]
     },
     "metadata": {
      "needs_background": "light"
     },
     "output_type": "display_data"
    }
   ],
   "source": [
    "show_me(digit_max_variation[8][1])"
   ]
  },
  {
   "cell_type": "code",
   "execution_count": 160,
   "metadata": {},
   "outputs": [
    {
     "data": {
      "image/png": "[encoded data removed]",
      "text/plain": [
       "<Figure size 432x288 with 1 Axes>"
      ]
     },
     "metadata": {
      "needs_background": "light"
     },
     "output_type": "display_data"
    }
   ],
   "source": [
    "show_me(digit_max_variation[9][1])"
   ]
  },
  {
   "cell_type": "markdown",
   "metadata": {},
   "source": [
    "Tuning the epsilon for best performance of the three classifiers."
   ]
  },
  {
   "cell_type": "code",
   "execution_count": 161,
   "metadata": {},
   "outputs": [
    {
     "name": "stdout",
     "output_type": "stream",
     "text": [
      "[5, 6, 7, 8, 9, 10, 11, 12, 13, 14, 15, 16, 17, 18, 19, 20, 21, 22, 23, 24, 25, 26, 27, 28, 29, 30, 31, 32, 33, 34]\n",
      "[80.51, 80.62, 80.84, 81.07, 81.18, 81.41, 81.46, 81.43, 81.45, 81.46, 81.46, 81.54, 81.47, 81.39, 81.44, 81.41, 81.39, 81.38, 81.3, 81.31, 81.31, 81.33, 81.34, 81.24, 81.21, 81.18, 81.12, 81.08, 81.12, 81.08]\n"
     ]
    }
   ],
   "source": [
    "naive_train_epsilons=[]\n",
    "naive_train_accuracies=[]\n",
    "naive_test_epsilons=[]\n",
    "naive_test_accuracies=[]\n",
    "\n",
    "for eps in range(5, 35):\n",
    "    gb.fit(X_train,y_train, 'Naive', epsilon = eps*1e-3)\n",
    "    y_hat_test = gb.predict(X_test, 'Naive')\n",
    "    acc = accuracy(y_test, y_hat_test)\n",
    "    naive_test_epsilons.append(eps)\n",
    "    naive_test_accuracies.append(int(acc * 100000) / 1000)\n",
    "\n",
    "print(naive_test_epsilons)\n",
    "print(naive_test_accuracies)"
   ]
  },
  {
   "cell_type": "markdown",
   "metadata": {},
   "source": [
    "Best epsilon for Naive is 0.016 and its accuracy is 81.54%"
   ]
  },
  {
   "cell_type": "code",
   "execution_count": 162,
   "metadata": {},
   "outputs": [
    {
     "name": "stdout",
     "output_type": "stream",
     "text": [
      "[25, 26, 27, 28, 29, 30, 31, 32, 33, 34, 35, 36, 37, 38, 39, 40, 41, 42, 43, 44, 45, 46, 47, 48, 49, 50, 51, 52, 53, 54, 55, 56, 57, 58, 59]\n",
      "[95.56, 95.59, 95.59, 95.6, 95.59, 95.64, 95.62, 95.65, 95.64, 95.64, 95.64, 95.64, 95.64, 95.66, 95.66, 95.7, 95.7, 95.7, 95.71, 95.71, 95.7, 95.65, 95.65, 95.64, 95.64, 95.63, 95.65, 95.66, 95.65, 95.62, 95.62, 95.65, 95.65, 95.65, 95.69]\n"
     ]
    }
   ],
   "source": [
    "gauss_train_epsilons=[]\n",
    "gauss_train_accuracies=[]\n",
    "gauss_test_epsilons=[]\n",
    "gauss_test_accuracies=[]\n",
    "\n",
    "for eps in range(25, 60):\n",
    "    gb.fit(X_train,y_train, 'Gauss', epsilon = eps*1e-3)\n",
    "    y_hat_test = gb.predict(X_test, 'Gauss')\n",
    "    acc = accuracy(y_test, y_hat_test)\n",
    "    gauss_test_epsilons.append(eps)\n",
    "    gauss_test_accuracies.append(int(acc * 100000) / 1000)\n",
    "\n",
    "print(gauss_test_epsilons)\n",
    "print(gauss_test_accuracies)"
   ]
  },
  {
   "cell_type": "markdown",
   "metadata": {},
   "source": [
    "Best epsilon for Gauss is 0.0435 and its accuracy is 95.71%"
   ]
  },
  {
   "cell_type": "code",
   "execution_count": 163,
   "metadata": {},
   "outputs": [
    {
     "name": "stdout",
     "output_type": "stream",
     "text": [
      "[159000, 159100, 159200, 159300, 159400, 159500, 159600, 159700, 159800, 159900, 160000, 160100, 160200, 160300, 160400, 160500, 160600, 160700, 160800, 160900, 161000, 161100, 161200, 161300, 161400, 161500, 161600, 161700, 161800, 161900, 162000, 162100, 162200, 162300, 162400, 162500, 162600, 162700, 162800, 162900, 163000, 163100, 163200, 163300, 163400, 163500, 163600, 163700, 163800, 163900, 164000, 164100, 164200, 164300, 164400, 164500, 164600, 164700, 164800, 164900, 165000, 165100, 165200, 165300, 165400, 165500, 165600, 165700, 165800, 165900, 166000, 166100, 166200, 166300, 166400, 166500, 166600, 166700, 166800, 166900, 167000, 167100, 167200, 167300, 167400, 167500, 167600, 167700, 167800, 167900, 168000, 168100, 168200, 168300, 168400, 168500, 168600, 168700, 168800, 168900, 169000, 169100, 169200, 169300, 169400, 169500, 169600, 169700, 169800, 169900]\n",
      "[68.99, 68.99, 68.99, 68.99, 68.99, 68.99, 68.99, 68.99, 68.99, 68.99, 69.0, 69.0, 69.0, 69.0, 69.0, 69.0, 69.0, 69.0, 69.0, 69.0, 69.0, 69.0, 69.0, 69.0, 69.0, 69.0, 69.0, 69.0, 69.0, 69.0, 69.0, 69.0, 69.0, 69.0, 69.0, 69.0, 69.0, 69.0, 69.0, 69.0, 69.0, 69.0, 69.0, 69.0, 69.0, 69.0, 69.0, 69.0, 69.0, 69.0, 69.0, 69.0, 69.0, 69.0, 69.0, 69.0, 69.0, 69.0, 69.0, 69.0, 69.0, 69.0, 69.0, 69.0, 69.0, 69.0, 69.0, 69.0, 68.99, 68.99, 68.99, 68.99, 68.99, 68.99, 68.99, 68.99, 68.99, 68.99, 68.99, 68.99, 68.99, 68.99, 68.99, 68.99, 68.99, 68.99, 68.99, 68.99, 68.99, 68.99, 68.99, 68.99, 68.99, 68.99, 68.99, 68.99, 68.99, 68.99, 68.99, 68.99, 68.99, 68.99, 68.99, 68.99, 68.99, 68.99, 68.99, 68.99, 68.99, 68.99]\n"
     ]
    }
   ],
   "source": [
    "bernoulli_train_epsilons=[]\n",
    "bernoulli_train_accuracies=[]\n",
    "bernoulli_test_epsilons=[]\n",
    "bernoulli_test_accuracies=[]\n",
    "\n",
    "for eps in range(159000, 170000, 100):\n",
    "    gb.fit(X_train,y_train, 'Bernoulli', epsilon = eps*1e-3)\n",
    "    y_hat_test = gb.predict(X_test, 'Bernoulli')\n",
    "    acc = accuracy(y_test, y_hat_test)\n",
    "    bernoulli_test_epsilons.append(eps)\n",
    "    bernoulli_test_accuracies.append(int(acc * 100000) / 1000)\n",
    "\n",
    "print(bernoulli_test_epsilons)\n",
    "print(bernoulli_test_accuracies)"
   ]
  },
  {
   "cell_type": "markdown",
   "metadata": {},
   "source": [
    "Best epsilon for Bernoulli is 160 and its accuracy is 69.0%"
   ]
  },
  {
   "cell_type": "markdown",
   "metadata": {},
   "source": [
    "Pltting The three scater plots of epsilon tuning."
   ]
  },
  {
   "cell_type": "code",
   "execution_count": 176,
   "metadata": {},
   "outputs": [
    {
     "data": {
      "text/plain": [
       "Text(0, 0.5, 'accuracy (Percent)')"
      ]
     },
     "execution_count": 176,
     "metadata": {},
     "output_type": "execute_result"
    },
    {
     "data": {
      "image/png": "[encoded data removed]",
      "text/plain": [
       "<Figure size 432x288 with 1 Axes>"
      ]
     },
     "metadata": {},
     "output_type": "display_data"
    }
   ],
   "source": [
    "plt.figure()\n",
    "plt.scatter(naive_test_epsilons, naive_test_accuracies)\n",
    "plt.title(\"Naive\")\n",
    "plt.xlabel(\"epsilon\")\n",
    "plt.ylabel(\"accuracy (Percent)\")"
   ]
  },
  {
   "cell_type": "code",
   "execution_count": 174,
   "metadata": {},
   "outputs": [
    {
     "data": {
      "text/plain": [
       "Text(0, 0.5, 'accuracy (Percent)')"
      ]
     },
     "execution_count": 174,
     "metadata": {},
     "output_type": "execute_result"
    },
    {
     "data": {
      "image/png": "[encoded data removed]",
      "text/plain": [
       "<Figure size 432x288 with 1 Axes>"
      ]
     },
     "metadata": {},
     "output_type": "display_data"
    }
   ],
   "source": [
    "plt.figure()\n",
    "plt.scatter(gauss_test_epsilons, gauss_test_accuracies)\n",
    "plt.title(\"Gaussian\")\n",
    "plt.xlabel(\"epsilon\")\n",
    "plt.ylabel(\"accuracy (Percent)\")"
   ]
  },
  {
   "cell_type": "code",
   "execution_count": 177,
   "metadata": {},
   "outputs": [
    {
     "data": {
      "text/plain": [
       "Text(0, 0.5, 'accuracy (Percent)')"
      ]
     },
     "execution_count": 177,
     "metadata": {},
     "output_type": "execute_result"
    },
    {
     "data": {
      "image/png": "[encoded data removed]",
      "text/plain": [
       "<Figure size 432x288 with 1 Axes>"
      ]
     },
     "metadata": {},
     "output_type": "display_data"
    }
   ],
   "source": [
    "plt.figure()\n",
    "plt.scatter(bernoulli_test_epsilons, bernoulli_test_accuracies)\n",
    "plt.title(\"Bernoulli\")\n",
    "plt.xlabel(\"epsilon\")\n",
    "plt.ylabel(\"accuracy (Percent)\")"
   ]
  },
  {
   "cell_type": "markdown",
   "metadata": {},
   "source": [
    "Comparing all three classifiers after data normalization."
   ]
  },
  {
   "cell_type": "code",
   "execution_count": 180,
   "metadata": {},
   "outputs": [
    {
     "data": {
      "text/plain": [
       "Text(0, 0.5, 'accuracy (Percent)')"
      ]
     },
     "execution_count": 180,
     "metadata": {},
     "output_type": "execute_result"
    },
    {
     "data": {
      "image/png": "[encoded data removed]",
      "text/plain": [
       "<Figure size 432x288 with 1 Axes>"
      ]
     },
     "metadata": {},
     "output_type": "display_data"
    }
   ],
   "source": [
    "best_accuracies = [81.54, 95.71, 69.0]\n",
    "models = [\"Naive\", \"Gaussian\", \"Bernoulli\"]\n",
    "plt.figure()\n",
    "plt.bar(models, best_accuracies, color=['green', 'blue', 'red'])\n",
    "plt.title(\"Accuracy After Data Normalization\")\n",
    "plt.xlabel(\"Method\")\n",
    "plt.ylabel(\"accuracy (Percent)\")"
   ]
  },
  {
   "cell_type": "markdown",
   "metadata": {},
   "source": [
    "Gaussian classifier showed the best test results. It is used as the candidate for final tests. In final step. I split the training data into three equal sets, train three independent Gaussian classifier with those data and test them with the test data simultaneously. Then I poll between the three classifers. I measure the result with indivitual result of the classifiers."
   ]
  },
  {
   "cell_type": "markdown",
   "metadata": {},
   "source": [
    "Now we try to improve the performance of the Gaussian classifier."
   ]
  },
  {
   "cell_type": "code",
   "execution_count": 168,
   "metadata": {},
   "outputs": [],
   "source": [
    "X_train_1 = X_train[:20000,:]\n",
    "y_train_1 = y_train[:20000]\n",
    "X_train_2 = X_train[20000:40000,:]\n",
    "y_train_2 = y_train[20000:40000]\n",
    "X_train_3 = X_train[40000:,:]\n",
    "y_train_3 = y_train[40000:]"
   ]
  },
  {
   "cell_type": "code",
   "execution_count": 169,
   "metadata": {},
   "outputs": [
    {
     "name": "stdout",
     "output_type": "stream",
     "text": [
      "Accuracy of the first classifier= 0.9563\n",
      "Accuracy of the second classifier= 0.9563\n",
      "Accuracy of the third classifier= 0.9563\n",
      "All classifiers agreed on 9784 samples\n",
      "At least two classifiers agreed on 9992 samples\n",
      "Accuracy of the polled data= 0.957\n"
     ]
    }
   ],
   "source": [
    "accuracy_list=[]\n",
    "gb1 = GenBayes()\n",
    "gb1.fit(X_train_1,y_train_1, 'Gauss', epsilon = 0.0435)\n",
    "\n",
    "gb2 = GenBayes()\n",
    "gb2.fit(X_train_2,y_train_2, 'Gauss', epsilon = 0.0435)\n",
    "\n",
    "gb3 = GenBayes()\n",
    "gb3.fit(X_train_3,y_train_3, 'Gauss', epsilon = 0.0435)\n",
    "\n",
    "y_hat_test = predict_gaussian(gb1, gb2, gb3, X_test, y_test)\n",
    "print('Accuracy of the polled data=', accuracy(y_test, y_hat_test))"
   ]
  },
  {
   "cell_type": "markdown",
   "metadata": {},
   "source": [
    "The individual accuracies slightly dropped to 95.63%. The polling increased it to 95.72%. We need to try another idea. I add some randomly selected samples to each of the individual training sets."
   ]
  },
  {
   "cell_type": "code",
   "execution_count": 170,
   "metadata": {},
   "outputs": [
    {
     "name": "stdout",
     "output_type": "stream",
     "text": [
      "Accuracy of the first classifier= 0.1135\n",
      "Accuracy of the second classifier= 0.1135\n",
      "Accuracy of the third classifier= 0.1135\n",
      "All classifiers agreed on 10000 samples\n",
      "At least two classifiers agreed on 10000 samples\n",
      "Accuracy of the polled data= 0.1135\n"
     ]
    }
   ],
   "source": [
    "data_1 = train_data[train_data['index'] > 20000].sample(frac=0.5)\n",
    "X_train_random_1 = data_1.to_numpy()\n",
    "y_train_random_1 = X_train_random_1[:, 2]\n",
    "X_train_random_1 = X_train_random_1[:,3:]\n",
    "new_X_train_1 = np.vstack((X_train_1, X_train_random_1))\n",
    "new_y_train_1 = np.concatenate((y_train_1, y_train_random_1), axis=0)\n",
    "\n",
    "\n",
    "data_2 = pd.concat([train_data[train_data['index'] < 20000], train_data[train_data['index'] > 40000]], ignore_index=True).sample(frac=0.5)\n",
    "X_train_random_2 = data_2.to_numpy()\n",
    "y_train_random_2 = X_train_random_2[:, 2]\n",
    "X_train_random_2 = X_train_random_2[:,3:]\n",
    "new_X_train_2 = np.vstack((X_train_2, X_train_random_2))\n",
    "new_y_train_2 = np.concatenate((y_train_2, y_train_random_2), axis=0)\n",
    "\n",
    "\n",
    "data_3 = train_data[train_data['index'] < 40000].sample(frac=0.5)\n",
    "X_train_random_3 = data_3.to_numpy()\n",
    "y_train_random_3 = X_train_random_3[:, 2]\n",
    "X_train_random_3 = X_train_random_3[:,3:]\n",
    "new_X_train_3 = np.vstack((X_train_3, X_train_random_3))\n",
    "new_y_train_3 = np.concatenate((y_train_3, y_train_random_3), axis=0)\n",
    "\n",
    "\n",
    "accuracy_list=[]\n",
    "gb4 = GenBayes()\n",
    "gb4.fit(new_X_train_1,new_y_train_1, 'Gauss', epsilon = 0.0435)\n",
    "\n",
    "gb5 = GenBayes()\n",
    "gb5.fit(new_X_train_2,new_y_train_2, 'Gauss', epsilon = 0.0435)\n",
    "\n",
    "gb6 = GenBayes()\n",
    "gb6.fit(new_X_train_3,new_y_train_3, 'Gauss', epsilon = 0.0435)\n",
    "\n",
    "new_y_hat_test = predict_gaussian(gb4, gb5, gb6, X_test, y_test)\n",
    "print('Accuracy of the polled data=', accuracy(y_test, new_y_hat_test))"
   ]
  },
  {
   "cell_type": "code",
   "execution_count": 171,
   "metadata": {},
   "outputs": [
    {
     "name": "stdout",
     "output_type": "stream",
     "text": [
      "Accuracy of the first classifier= 0.9571\n",
      "Accuracy of the second classifier= 0.9571\n",
      "Accuracy of the third classifier= 0.9571\n",
      "All classifiers agreed on 9911 samples\n",
      "At least two classifiers agreed on 10000 samples\n",
      "Accuracy of the polled data= 0.9565\n"
     ]
    }
   ],
   "source": [
    "X_train_1_3 = X_train[:40000,:]\n",
    "y_train_1_3 = y_train[:40000]\n",
    "X_train_2_3 = X_train[10000:50000,:]\n",
    "y_train_2_3 = y_train[10000:50000]\n",
    "X_train_3_3 = X_train[20000:,:]\n",
    "y_train_3_3 = y_train[20000:]\n",
    "\n",
    "\n",
    "accuracy_list=[]\n",
    "gb7 = GenBayes()\n",
    "gb7.fit(X_train_1_3,y_train_1_3, 'Gauss', epsilon = 0.0435)\n",
    "\n",
    "gb8 = GenBayes()\n",
    "gb8.fit(X_train_2_3,y_train_2_3, 'Gauss', epsilon = 0.0435)\n",
    "\n",
    "gb9 = GenBayes()\n",
    "gb9.fit(X_train_3_3,y_train_3_3, 'Gauss', epsilon = 0.0435)\n",
    "\n",
    "y_hat_test_3 = predict_gaussian(gb7, gb8, gb9, X_test, y_test)\n",
    "print('Accuracy of the polled data=', accuracy(y_test, y_hat_test_3))"
   ]
  },
  {
   "cell_type": "markdown",
   "metadata": {},
   "source": [
    "In the last step, I find the confusion matrix based on the best of the testing results I had so far."
   ]
  },
  {
   "cell_type": "code",
   "execution_count": 172,
   "metadata": {},
   "outputs": [],
   "source": [
    "reds = plt.get_cmap('Reds', 1200)\n",
    "newcolors = reds(np.linspace(0, 1, 1200))\n",
    "\n",
    "zero_values = np.array([256/256, 256/256, 256/256, 1])\n",
    "newcolors[:1, :] = zero_values\n",
    "\n",
    "below_five_values = np.array([256/256, 240/256, 240/256, 1])\n",
    "newcolors[1:5, :] = below_five_values\n",
    "\n",
    "below_ten_values = np.array([256/256, 225/256, 225/256, 1])\n",
    "newcolors[5:10, :] = below_ten_values\n",
    "\n",
    "below_twnety_values = np.array([256/256, 210/256, 210/256, 1])\n",
    "newcolors[10:20, :] = below_twnety_values\n",
    "\n",
    "below_thirty_values = np.array([256/256, 195/256, 195/256, 1])\n",
    "newcolors[20:30, :] = below_thirty_values\n",
    "\n",
    "below_forty_values = np.array([256/256, 180/256, 180/256, 1])\n",
    "newcolors[30:40, :] = below_forty_values\n",
    "\n",
    "other_values = np.array([256/256, 165/256, 165/256, 1])\n",
    "newcolors[40:100, :] = other_values\n",
    "\n",
    "diagonal_values = np.array([256/256, 256/256, 256/256, 1])\n",
    "newcolors[100:1200, :] = diagonal_values\n",
    "\n",
    "newcmp =  ListedColormap(newcolors)"
   ]
  },
  {
   "cell_type": "code",
   "execution_count": 173,
   "metadata": {},
   "outputs": [
    {
     "name": "stdout",
     "output_type": "stream",
     "text": [
      "The accuracy of Gaussian Bayes classifier is 95.72.\n",
      "y_test.shape= (10000,) , y_hat_test.shape= (10000,)\n"
     ]
    },
    {
     "data": {
      "image/png": "[encoded data removed]",
      "text/plain": [
       "<Figure size 1152x360 with 2 Axes>"
      ]
     },
     "metadata": {},
     "output_type": "display_data"
    }
   ],
   "source": [
    "my_gb = GenBayes()\n",
    "my_gb.fit(X_train, y_train, 'Gauss', epsilon = 0.0435)\n",
    "y_hat_test = my_gb.predict(X_test, 'Gauss')\n",
    "print(f'The accuracy of Gaussian Bayes classifier is {(accuracy(y_test, y_hat_test)*100):0.2f}.')\n",
    "print('y_test.shape=', y_test.shape, ', y_hat_test.shape=', y_hat_test.shape)\n",
    "\n",
    "confusion_matrix = pd.crosstab(y_hat_test, y_test, rownames=['Actual'], colnames=['Predicted'])\n",
    "\n",
    "sn.set(font_scale=1.7)\n",
    "plt.figure(figsize=(16,5))\n",
    "heatmap = sn.heatmap(confusion_matrix, cmap=newcmp, fmt=\".0f\", annot=True, annot_kws={\"size\": 15},\n",
    "                    cbar_kws={'label': 'Number of match/mis-match'})\n",
    "plt.show()"
   ]
  },
  {
   "cell_type": "code",
   "execution_count": null,
   "metadata": {},
   "outputs": [],
   "source": []
  }
 ],
 "metadata": {
  "kernelspec": {
   "display_name": "Python 3",
   "language": "python",
   "name": "python3"
  },
  "language_info": {
   "codemirror_mode": {
    "name": "ipython",
    "version": 3
   },
   "file_extension": ".py",
   "mimetype": "text/x-python",
   "name": "python",
   "nbconvert_exporter": "python",
   "pygments_lexer": "ipython3",
   "version": "3.8.5"
  }
 },
 "nbformat": 4,
 "nbformat_minor": 4
}
