{
 "cells": [
  {
   "cell_type": "code",
   "execution_count": 265,
   "metadata": {},
   "outputs": [
    {
     "data": {
      "text/html": [
       "<div>\n",
       "<style scoped>\n",
       "    .dataframe tbody tr th:only-of-type {\n",
       "        vertical-align: middle;\n",
       "    }\n",
       "\n",
       "    .dataframe tbody tr th {\n",
       "        vertical-align: top;\n",
       "    }\n",
       "\n",
       "    .dataframe thead th {\n",
       "        text-align: right;\n",
       "    }\n",
       "</style>\n",
       "<table border=\"1\" class=\"dataframe\">\n",
       "  <thead>\n",
       "    <tr style=\"text-align: right;\">\n",
       "      <th></th>\n",
       "      <th>MLS</th>\n",
       "      <th>sold_price</th>\n",
       "      <th>zipcode</th>\n",
       "      <th>longitude</th>\n",
       "      <th>latitude</th>\n",
       "      <th>lot_acres</th>\n",
       "      <th>taxes</th>\n",
       "      <th>year_built</th>\n",
       "      <th>bedrooms</th>\n",
       "      <th>bathrooms</th>\n",
       "      <th>sqrt_ft</th>\n",
       "      <th>garage</th>\n",
       "      <th>kitchen_features</th>\n",
       "      <th>fireplaces</th>\n",
       "      <th>floor_covering</th>\n",
       "      <th>HOA</th>\n",
       "    </tr>\n",
       "  </thead>\n",
       "  <tbody>\n",
       "    <tr>\n",
       "      <th>0</th>\n",
       "      <td>21530491</td>\n",
       "      <td>5300000.0</td>\n",
       "      <td>85637</td>\n",
       "      <td>-110.378200</td>\n",
       "      <td>31.356362</td>\n",
       "      <td>2154.00</td>\n",
       "      <td>5272.00</td>\n",
       "      <td>1941</td>\n",
       "      <td>13</td>\n",
       "      <td>10</td>\n",
       "      <td>10500</td>\n",
       "      <td>0</td>\n",
       "      <td>Dishwasher, Freezer, Refrigerator, Oven</td>\n",
       "      <td>6</td>\n",
       "      <td>Mexican Tile, Wood</td>\n",
       "      <td>0</td>\n",
       "    </tr>\n",
       "    <tr>\n",
       "      <th>1</th>\n",
       "      <td>21529082</td>\n",
       "      <td>4200000.0</td>\n",
       "      <td>85646</td>\n",
       "      <td>-111.045371</td>\n",
       "      <td>31.594213</td>\n",
       "      <td>1707.00</td>\n",
       "      <td>10422.36</td>\n",
       "      <td>1997</td>\n",
       "      <td>2</td>\n",
       "      <td>2</td>\n",
       "      <td>7300</td>\n",
       "      <td>0</td>\n",
       "      <td>Dishwasher, Garbage Disposal</td>\n",
       "      <td>5</td>\n",
       "      <td>Natural Stone, Other</td>\n",
       "      <td>0</td>\n",
       "    </tr>\n",
       "    <tr>\n",
       "      <th>2</th>\n",
       "      <td>3054672</td>\n",
       "      <td>4200000.0</td>\n",
       "      <td>85646</td>\n",
       "      <td>-111.040707</td>\n",
       "      <td>31.594844</td>\n",
       "      <td>1707.00</td>\n",
       "      <td>10482.00</td>\n",
       "      <td>1997</td>\n",
       "      <td>2</td>\n",
       "      <td>3</td>\n",
       "      <td>None</td>\n",
       "      <td>None</td>\n",
       "      <td>Dishwasher, Garbage Disposal, Refrigerator</td>\n",
       "      <td>5</td>\n",
       "      <td>Natural Stone, Other: Rock</td>\n",
       "      <td>None</td>\n",
       "    </tr>\n",
       "    <tr>\n",
       "      <th>3</th>\n",
       "      <td>21919321</td>\n",
       "      <td>4500000.0</td>\n",
       "      <td>85646</td>\n",
       "      <td>-111.035925</td>\n",
       "      <td>31.645878</td>\n",
       "      <td>636.67</td>\n",
       "      <td>8418.58</td>\n",
       "      <td>1930</td>\n",
       "      <td>7</td>\n",
       "      <td>5</td>\n",
       "      <td>9019</td>\n",
       "      <td>4</td>\n",
       "      <td>Dishwasher, Double Sink, Pantry: Butler, Refri...</td>\n",
       "      <td>4</td>\n",
       "      <td>Ceramic Tile, Laminate, Wood</td>\n",
       "      <td>None</td>\n",
       "    </tr>\n",
       "    <tr>\n",
       "      <th>4</th>\n",
       "      <td>21306357</td>\n",
       "      <td>3411450.0</td>\n",
       "      <td>85750</td>\n",
       "      <td>-110.813768</td>\n",
       "      <td>32.285162</td>\n",
       "      <td>3.21</td>\n",
       "      <td>15393.00</td>\n",
       "      <td>1995</td>\n",
       "      <td>4</td>\n",
       "      <td>6</td>\n",
       "      <td>6396</td>\n",
       "      <td>3</td>\n",
       "      <td>Dishwasher, Garbage Disposal, Refrigerator, Mi...</td>\n",
       "      <td>5</td>\n",
       "      <td>Carpet, Concrete</td>\n",
       "      <td>55</td>\n",
       "    </tr>\n",
       "    <tr>\n",
       "      <th>...</th>\n",
       "      <td>...</td>\n",
       "      <td>...</td>\n",
       "      <td>...</td>\n",
       "      <td>...</td>\n",
       "      <td>...</td>\n",
       "      <td>...</td>\n",
       "      <td>...</td>\n",
       "      <td>...</td>\n",
       "      <td>...</td>\n",
       "      <td>...</td>\n",
       "      <td>...</td>\n",
       "      <td>...</td>\n",
       "      <td>...</td>\n",
       "      <td>...</td>\n",
       "      <td>...</td>\n",
       "      <td>...</td>\n",
       "    </tr>\n",
       "    <tr>\n",
       "      <th>4995</th>\n",
       "      <td>21810382</td>\n",
       "      <td>495000.0</td>\n",
       "      <td>85641</td>\n",
       "      <td>-110.661829</td>\n",
       "      <td>31.907917</td>\n",
       "      <td>4.98</td>\n",
       "      <td>2017.00</td>\n",
       "      <td>2005</td>\n",
       "      <td>5</td>\n",
       "      <td>3</td>\n",
       "      <td>3601</td>\n",
       "      <td>3</td>\n",
       "      <td>Dishwasher, Double Sink, Garbage Disposal, Gas...</td>\n",
       "      <td>1</td>\n",
       "      <td>Carpet, Ceramic Tile</td>\n",
       "      <td>None</td>\n",
       "    </tr>\n",
       "    <tr>\n",
       "      <th>4996</th>\n",
       "      <td>21908591</td>\n",
       "      <td>550000.0</td>\n",
       "      <td>85750</td>\n",
       "      <td>-110.858556</td>\n",
       "      <td>32.316373</td>\n",
       "      <td>1.42</td>\n",
       "      <td>4822.01</td>\n",
       "      <td>1990</td>\n",
       "      <td>4</td>\n",
       "      <td>3</td>\n",
       "      <td>2318</td>\n",
       "      <td>3</td>\n",
       "      <td>Dishwasher, Double Sink, Electric Range, Garba...</td>\n",
       "      <td>1</td>\n",
       "      <td>Carpet, Ceramic Tile</td>\n",
       "      <td>43</td>\n",
       "    </tr>\n",
       "    <tr>\n",
       "      <th>4997</th>\n",
       "      <td>21832452</td>\n",
       "      <td>475000.0</td>\n",
       "      <td>85192</td>\n",
       "      <td>-110.755428</td>\n",
       "      <td>32.964708</td>\n",
       "      <td>12.06</td>\n",
       "      <td>1000.00</td>\n",
       "      <td>1969</td>\n",
       "      <td>3</td>\n",
       "      <td>2</td>\n",
       "      <td>1772</td>\n",
       "      <td>0</td>\n",
       "      <td>Dishwasher, Electric Range, Island, Refrigerat...</td>\n",
       "      <td>0</td>\n",
       "      <td>Ceramic Tile</td>\n",
       "      <td>None</td>\n",
       "    </tr>\n",
       "    <tr>\n",
       "      <th>4998</th>\n",
       "      <td>21900515</td>\n",
       "      <td>550000.0</td>\n",
       "      <td>85745</td>\n",
       "      <td>-111.055528</td>\n",
       "      <td>32.296871</td>\n",
       "      <td>1.01</td>\n",
       "      <td>5822.93</td>\n",
       "      <td>2009</td>\n",
       "      <td>4</td>\n",
       "      <td>4</td>\n",
       "      <td>3724</td>\n",
       "      <td>3</td>\n",
       "      <td>Dishwasher, Double Sink, Garbage Disposal, Gas...</td>\n",
       "      <td>1</td>\n",
       "      <td>Carpet, Ceramic Tile</td>\n",
       "      <td>None</td>\n",
       "    </tr>\n",
       "    <tr>\n",
       "      <th>4999</th>\n",
       "      <td>4111490</td>\n",
       "      <td>450000.0</td>\n",
       "      <td>85621</td>\n",
       "      <td>-110.913054</td>\n",
       "      <td>31.385259</td>\n",
       "      <td>4.16</td>\n",
       "      <td>2814.48</td>\n",
       "      <td>1988</td>\n",
       "      <td>4</td>\n",
       "      <td>4</td>\n",
       "      <td>4317</td>\n",
       "      <td>None</td>\n",
       "      <td>Compactor, Dishwasher, Double Sink, Island, Ap...</td>\n",
       "      <td>3</td>\n",
       "      <td>Carpet, Mexican Tile</td>\n",
       "      <td>None</td>\n",
       "    </tr>\n",
       "  </tbody>\n",
       "</table>\n",
       "<p>5000 rows × 16 columns</p>\n",
       "</div>"
      ],
      "text/plain": [
       "           MLS  sold_price  zipcode   longitude   latitude  lot_acres  \\\n",
       "0     21530491   5300000.0    85637 -110.378200  31.356362    2154.00   \n",
       "1     21529082   4200000.0    85646 -111.045371  31.594213    1707.00   \n",
       "2      3054672   4200000.0    85646 -111.040707  31.594844    1707.00   \n",
       "3     21919321   4500000.0    85646 -111.035925  31.645878     636.67   \n",
       "4     21306357   3411450.0    85750 -110.813768  32.285162       3.21   \n",
       "...        ...         ...      ...         ...        ...        ...   \n",
       "4995  21810382    495000.0    85641 -110.661829  31.907917       4.98   \n",
       "4996  21908591    550000.0    85750 -110.858556  32.316373       1.42   \n",
       "4997  21832452    475000.0    85192 -110.755428  32.964708      12.06   \n",
       "4998  21900515    550000.0    85745 -111.055528  32.296871       1.01   \n",
       "4999   4111490    450000.0    85621 -110.913054  31.385259       4.16   \n",
       "\n",
       "         taxes  year_built  bedrooms bathrooms sqrt_ft garage  \\\n",
       "0      5272.00        1941        13        10   10500      0   \n",
       "1     10422.36        1997         2         2    7300      0   \n",
       "2     10482.00        1997         2         3    None   None   \n",
       "3      8418.58        1930         7         5    9019      4   \n",
       "4     15393.00        1995         4         6    6396      3   \n",
       "...        ...         ...       ...       ...     ...    ...   \n",
       "4995   2017.00        2005         5         3    3601      3   \n",
       "4996   4822.01        1990         4         3    2318      3   \n",
       "4997   1000.00        1969         3         2    1772      0   \n",
       "4998   5822.93        2009         4         4    3724      3   \n",
       "4999   2814.48        1988         4         4    4317   None   \n",
       "\n",
       "                                       kitchen_features fireplaces  \\\n",
       "0               Dishwasher, Freezer, Refrigerator, Oven          6   \n",
       "1                          Dishwasher, Garbage Disposal          5   \n",
       "2            Dishwasher, Garbage Disposal, Refrigerator          5   \n",
       "3     Dishwasher, Double Sink, Pantry: Butler, Refri...          4   \n",
       "4     Dishwasher, Garbage Disposal, Refrigerator, Mi...          5   \n",
       "...                                                 ...        ...   \n",
       "4995  Dishwasher, Double Sink, Garbage Disposal, Gas...          1   \n",
       "4996  Dishwasher, Double Sink, Electric Range, Garba...          1   \n",
       "4997  Dishwasher, Electric Range, Island, Refrigerat...          0   \n",
       "4998  Dishwasher, Double Sink, Garbage Disposal, Gas...          1   \n",
       "4999  Compactor, Dishwasher, Double Sink, Island, Ap...          3   \n",
       "\n",
       "                    floor_covering   HOA  \n",
       "0               Mexican Tile, Wood     0  \n",
       "1             Natural Stone, Other     0  \n",
       "2       Natural Stone, Other: Rock  None  \n",
       "3     Ceramic Tile, Laminate, Wood  None  \n",
       "4                 Carpet, Concrete    55  \n",
       "...                            ...   ...  \n",
       "4995          Carpet, Ceramic Tile  None  \n",
       "4996          Carpet, Ceramic Tile    43  \n",
       "4997                  Ceramic Tile  None  \n",
       "4998          Carpet, Ceramic Tile  None  \n",
       "4999          Carpet, Mexican Tile  None  \n",
       "\n",
       "[5000 rows x 16 columns]"
      ]
     },
     "execution_count": 265,
     "metadata": {},
     "output_type": "execute_result"
    }
   ],
   "source": [
    "import numpy as np\n",
    "import pandas as pd\n",
    "from matplotlib import pyplot as plt\n",
    "from matplotlib import style\n",
    "%matplotlib inline\n",
    "style.use('ggplot')\n",
    "df = pd.read_csv(\"raw_house_data.csv\", delimiter=',')\n",
    "df"
   ]
  },
  {
   "cell_type": "code",
   "execution_count": 266,
   "metadata": {},
   "outputs": [
    {
     "name": "stdout",
     "output_type": "stream",
     "text": [
      "<class 'pandas.core.frame.DataFrame'>\n",
      "RangeIndex: 5000 entries, 0 to 4999\n",
      "Data columns (total 16 columns):\n",
      " #   Column            Non-Null Count  Dtype  \n",
      "---  ------            --------------  -----  \n",
      " 0   MLS               5000 non-null   int64  \n",
      " 1   sold_price        5000 non-null   float64\n",
      " 2   zipcode           5000 non-null   int64  \n",
      " 3   longitude         5000 non-null   float64\n",
      " 4   latitude          5000 non-null   float64\n",
      " 5   lot_acres         4990 non-null   float64\n",
      " 6   taxes             5000 non-null   float64\n",
      " 7   year_built        5000 non-null   int64  \n",
      " 8   bedrooms          5000 non-null   int64  \n",
      " 9   bathrooms         5000 non-null   object \n",
      " 10  sqrt_ft           5000 non-null   object \n",
      " 11  garage            5000 non-null   object \n",
      " 12  kitchen_features  5000 non-null   object \n",
      " 13  fireplaces        5000 non-null   object \n",
      " 14  floor_covering    5000 non-null   object \n",
      " 15  HOA               5000 non-null   object \n",
      "dtypes: float64(5), int64(4), object(7)\n",
      "memory usage: 625.1+ KB\n"
     ]
    },
    {
     "data": {
      "text/html": [
       "<div>\n",
       "<style scoped>\n",
       "    .dataframe tbody tr th:only-of-type {\n",
       "        vertical-align: middle;\n",
       "    }\n",
       "\n",
       "    .dataframe tbody tr th {\n",
       "        vertical-align: top;\n",
       "    }\n",
       "\n",
       "    .dataframe thead th {\n",
       "        text-align: right;\n",
       "    }\n",
       "</style>\n",
       "<table border=\"1\" class=\"dataframe\">\n",
       "  <thead>\n",
       "    <tr style=\"text-align: right;\">\n",
       "      <th></th>\n",
       "      <th>MLS</th>\n",
       "      <th>sold_price</th>\n",
       "      <th>zipcode</th>\n",
       "      <th>longitude</th>\n",
       "      <th>latitude</th>\n",
       "      <th>lot_acres</th>\n",
       "      <th>taxes</th>\n",
       "      <th>year_built</th>\n",
       "      <th>bedrooms</th>\n",
       "    </tr>\n",
       "  </thead>\n",
       "  <tbody>\n",
       "    <tr>\n",
       "      <th>count</th>\n",
       "      <td>5.000000e+03</td>\n",
       "      <td>5.000000e+03</td>\n",
       "      <td>5000.000000</td>\n",
       "      <td>5000.000000</td>\n",
       "      <td>5000.000000</td>\n",
       "      <td>4990.000000</td>\n",
       "      <td>5.000000e+03</td>\n",
       "      <td>5000.00000</td>\n",
       "      <td>5000.000000</td>\n",
       "    </tr>\n",
       "    <tr>\n",
       "      <th>mean</th>\n",
       "      <td>2.127070e+07</td>\n",
       "      <td>7.746262e+05</td>\n",
       "      <td>85723.025600</td>\n",
       "      <td>-110.912107</td>\n",
       "      <td>32.308512</td>\n",
       "      <td>4.661317</td>\n",
       "      <td>9.402828e+03</td>\n",
       "      <td>1992.32800</td>\n",
       "      <td>3.933800</td>\n",
       "    </tr>\n",
       "    <tr>\n",
       "      <th>std</th>\n",
       "      <td>2.398508e+06</td>\n",
       "      <td>3.185556e+05</td>\n",
       "      <td>38.061712</td>\n",
       "      <td>0.120629</td>\n",
       "      <td>0.178028</td>\n",
       "      <td>51.685230</td>\n",
       "      <td>1.729385e+05</td>\n",
       "      <td>65.48614</td>\n",
       "      <td>1.245362</td>\n",
       "    </tr>\n",
       "    <tr>\n",
       "      <th>min</th>\n",
       "      <td>3.042851e+06</td>\n",
       "      <td>1.690000e+05</td>\n",
       "      <td>85118.000000</td>\n",
       "      <td>-112.520168</td>\n",
       "      <td>31.356362</td>\n",
       "      <td>0.000000</td>\n",
       "      <td>0.000000e+00</td>\n",
       "      <td>0.00000</td>\n",
       "      <td>1.000000</td>\n",
       "    </tr>\n",
       "    <tr>\n",
       "      <th>25%</th>\n",
       "      <td>2.140718e+07</td>\n",
       "      <td>5.850000e+05</td>\n",
       "      <td>85718.000000</td>\n",
       "      <td>-110.979260</td>\n",
       "      <td>32.277484</td>\n",
       "      <td>0.580000</td>\n",
       "      <td>4.803605e+03</td>\n",
       "      <td>1987.00000</td>\n",
       "      <td>3.000000</td>\n",
       "    </tr>\n",
       "    <tr>\n",
       "      <th>50%</th>\n",
       "      <td>2.161469e+07</td>\n",
       "      <td>6.750000e+05</td>\n",
       "      <td>85737.000000</td>\n",
       "      <td>-110.923420</td>\n",
       "      <td>32.318517</td>\n",
       "      <td>0.990000</td>\n",
       "      <td>6.223760e+03</td>\n",
       "      <td>1999.00000</td>\n",
       "      <td>4.000000</td>\n",
       "    </tr>\n",
       "    <tr>\n",
       "      <th>75%</th>\n",
       "      <td>2.180480e+07</td>\n",
       "      <td>8.350000e+05</td>\n",
       "      <td>85749.000000</td>\n",
       "      <td>-110.859078</td>\n",
       "      <td>32.394334</td>\n",
       "      <td>1.757500</td>\n",
       "      <td>8.082830e+03</td>\n",
       "      <td>2006.00000</td>\n",
       "      <td>4.000000</td>\n",
       "    </tr>\n",
       "    <tr>\n",
       "      <th>max</th>\n",
       "      <td>2.192856e+07</td>\n",
       "      <td>5.300000e+06</td>\n",
       "      <td>86323.000000</td>\n",
       "      <td>-109.454637</td>\n",
       "      <td>34.927884</td>\n",
       "      <td>2154.000000</td>\n",
       "      <td>1.221508e+07</td>\n",
       "      <td>2019.00000</td>\n",
       "      <td>36.000000</td>\n",
       "    </tr>\n",
       "  </tbody>\n",
       "</table>\n",
       "</div>"
      ],
      "text/plain": [
       "                MLS    sold_price       zipcode    longitude     latitude  \\\n",
       "count  5.000000e+03  5.000000e+03   5000.000000  5000.000000  5000.000000   \n",
       "mean   2.127070e+07  7.746262e+05  85723.025600  -110.912107    32.308512   \n",
       "std    2.398508e+06  3.185556e+05     38.061712     0.120629     0.178028   \n",
       "min    3.042851e+06  1.690000e+05  85118.000000  -112.520168    31.356362   \n",
       "25%    2.140718e+07  5.850000e+05  85718.000000  -110.979260    32.277484   \n",
       "50%    2.161469e+07  6.750000e+05  85737.000000  -110.923420    32.318517   \n",
       "75%    2.180480e+07  8.350000e+05  85749.000000  -110.859078    32.394334   \n",
       "max    2.192856e+07  5.300000e+06  86323.000000  -109.454637    34.927884   \n",
       "\n",
       "         lot_acres         taxes  year_built     bedrooms  \n",
       "count  4990.000000  5.000000e+03  5000.00000  5000.000000  \n",
       "mean      4.661317  9.402828e+03  1992.32800     3.933800  \n",
       "std      51.685230  1.729385e+05    65.48614     1.245362  \n",
       "min       0.000000  0.000000e+00     0.00000     1.000000  \n",
       "25%       0.580000  4.803605e+03  1987.00000     3.000000  \n",
       "50%       0.990000  6.223760e+03  1999.00000     4.000000  \n",
       "75%       1.757500  8.082830e+03  2006.00000     4.000000  \n",
       "max    2154.000000  1.221508e+07  2019.00000    36.000000  "
      ]
     },
     "execution_count": 266,
     "metadata": {},
     "output_type": "execute_result"
    }
   ],
   "source": [
    "# There are 5000 rows and 16 columns (variables) in this data frame.\n",
    "# For each column, I will take these two steps:\n",
    "#    1) Understand what it is, of what type it is, etc.\n",
    "#    2) Plot its histogram to see how the values are distributed.\n",
    "#        2.a) If it has a normal distribution, determine its mean and standard deviation.\n",
    "#    3) See if it has any missing values. Also, decide what to do with them.\n",
    "df.info()\n",
    "df.describe()"
   ]
  },
  {
   "cell_type": "code",
   "execution_count": 267,
   "metadata": {},
   "outputs": [
    {
     "data": {
      "text/html": [
       "<div>\n",
       "<style scoped>\n",
       "    .dataframe tbody tr th:only-of-type {\n",
       "        vertical-align: middle;\n",
       "    }\n",
       "\n",
       "    .dataframe tbody tr th {\n",
       "        vertical-align: top;\n",
       "    }\n",
       "\n",
       "    .dataframe thead th {\n",
       "        text-align: right;\n",
       "    }\n",
       "</style>\n",
       "<table border=\"1\" class=\"dataframe\">\n",
       "  <thead>\n",
       "    <tr style=\"text-align: right;\">\n",
       "      <th></th>\n",
       "      <th>MLS</th>\n",
       "      <th>sold_price</th>\n",
       "      <th>zipcode</th>\n",
       "      <th>longitude</th>\n",
       "      <th>latitude</th>\n",
       "      <th>lot_acres</th>\n",
       "      <th>taxes</th>\n",
       "      <th>year_built</th>\n",
       "      <th>bedrooms</th>\n",
       "      <th>bathrooms</th>\n",
       "      <th>sqrt_ft</th>\n",
       "      <th>garage</th>\n",
       "      <th>kitchen_features</th>\n",
       "      <th>fireplaces</th>\n",
       "      <th>floor_covering</th>\n",
       "      <th>HOA</th>\n",
       "    </tr>\n",
       "  </thead>\n",
       "  <tbody>\n",
       "    <tr>\n",
       "      <th>2025</th>\n",
       "      <td>3044867</td>\n",
       "      <td>660000.0</td>\n",
       "      <td>85614</td>\n",
       "      <td>-110.969465</td>\n",
       "      <td>31.836723</td>\n",
       "      <td>3.60</td>\n",
       "      <td>5526.00</td>\n",
       "      <td>2007</td>\n",
       "      <td>3</td>\n",
       "      <td>None</td>\n",
       "      <td>None</td>\n",
       "      <td>3</td>\n",
       "      <td>Desk, Dishwasher, Garbage Disposal, Gas Range,...</td>\n",
       "      <td></td>\n",
       "      <td>Carpet, Other: Tile-Other</td>\n",
       "      <td>1,000</td>\n",
       "    </tr>\n",
       "    <tr>\n",
       "      <th>2766</th>\n",
       "      <td>3042851</td>\n",
       "      <td>575000.0</td>\n",
       "      <td>85614</td>\n",
       "      <td>-110.960497</td>\n",
       "      <td>31.854446</td>\n",
       "      <td>0.87</td>\n",
       "      <td>4623.05</td>\n",
       "      <td>2002</td>\n",
       "      <td>3</td>\n",
       "      <td>None</td>\n",
       "      <td>None</td>\n",
       "      <td>3</td>\n",
       "      <td>Dishwasher, Garbage Disposal, Gas Range, Islan...</td>\n",
       "      <td></td>\n",
       "      <td>Carpet, Other</td>\n",
       "      <td>250</td>\n",
       "    </tr>\n",
       "    <tr>\n",
       "      <th>3108</th>\n",
       "      <td>3047540</td>\n",
       "      <td>610000.0</td>\n",
       "      <td>85614</td>\n",
       "      <td>-111.002544</td>\n",
       "      <td>31.840061</td>\n",
       "      <td>1.70</td>\n",
       "      <td>3800.00</td>\n",
       "      <td>2007</td>\n",
       "      <td>3</td>\n",
       "      <td>None</td>\n",
       "      <td>None</td>\n",
       "      <td>3</td>\n",
       "      <td>None</td>\n",
       "      <td></td>\n",
       "      <td>None</td>\n",
       "      <td>1,200</td>\n",
       "    </tr>\n",
       "    <tr>\n",
       "      <th>3529</th>\n",
       "      <td>3046317</td>\n",
       "      <td>535000.0</td>\n",
       "      <td>85614</td>\n",
       "      <td>-110.986426</td>\n",
       "      <td>31.806614</td>\n",
       "      <td>4.27</td>\n",
       "      <td>3826.25</td>\n",
       "      <td>2006</td>\n",
       "      <td>2</td>\n",
       "      <td>None</td>\n",
       "      <td>None</td>\n",
       "      <td>3</td>\n",
       "      <td>Dishwasher, Garbage Disposal, Gas Range, Islan...</td>\n",
       "      <td></td>\n",
       "      <td>Carpet, Other: Tile-Other</td>\n",
       "      <td>None</td>\n",
       "    </tr>\n",
       "    <tr>\n",
       "      <th>3822</th>\n",
       "      <td>3045347</td>\n",
       "      <td>550000.0</td>\n",
       "      <td>85614</td>\n",
       "      <td>-111.008754</td>\n",
       "      <td>31.841141</td>\n",
       "      <td>0.99</td>\n",
       "      <td>3702.07</td>\n",
       "      <td>2007</td>\n",
       "      <td>2</td>\n",
       "      <td>None</td>\n",
       "      <td>None</td>\n",
       "      <td>3</td>\n",
       "      <td>Dishwasher, Garbage Disposal, Island, Lazy Sus...</td>\n",
       "      <td></td>\n",
       "      <td>Carpet, Other: Tile-Other</td>\n",
       "      <td>1,200</td>\n",
       "    </tr>\n",
       "    <tr>\n",
       "      <th>4812</th>\n",
       "      <td>3046287</td>\n",
       "      <td>500000.0</td>\n",
       "      <td>85646</td>\n",
       "      <td>-111.051431</td>\n",
       "      <td>31.636207</td>\n",
       "      <td>1.03</td>\n",
       "      <td>8102.00</td>\n",
       "      <td>1999</td>\n",
       "      <td>4</td>\n",
       "      <td>None</td>\n",
       "      <td>None</td>\n",
       "      <td>2</td>\n",
       "      <td>Dishwasher, Electric Range, Garbage Disposal, ...</td>\n",
       "      <td></td>\n",
       "      <td>Carpet, Mexican Tile</td>\n",
       "      <td>250</td>\n",
       "    </tr>\n",
       "  </tbody>\n",
       "</table>\n",
       "</div>"
      ],
      "text/plain": [
       "          MLS  sold_price  zipcode   longitude   latitude  lot_acres    taxes  \\\n",
       "2025  3044867    660000.0    85614 -110.969465  31.836723       3.60  5526.00   \n",
       "2766  3042851    575000.0    85614 -110.960497  31.854446       0.87  4623.05   \n",
       "3108  3047540    610000.0    85614 -111.002544  31.840061       1.70  3800.00   \n",
       "3529  3046317    535000.0    85614 -110.986426  31.806614       4.27  3826.25   \n",
       "3822  3045347    550000.0    85614 -111.008754  31.841141       0.99  3702.07   \n",
       "4812  3046287    500000.0    85646 -111.051431  31.636207       1.03  8102.00   \n",
       "\n",
       "      year_built  bedrooms bathrooms sqrt_ft garage  \\\n",
       "2025        2007         3      None    None      3   \n",
       "2766        2002         3      None    None      3   \n",
       "3108        2007         3      None    None      3   \n",
       "3529        2006         2      None    None      3   \n",
       "3822        2007         2      None    None      3   \n",
       "4812        1999         4      None    None      2   \n",
       "\n",
       "                                       kitchen_features fireplaces  \\\n",
       "2025  Desk, Dishwasher, Garbage Disposal, Gas Range,...              \n",
       "2766  Dishwasher, Garbage Disposal, Gas Range, Islan...              \n",
       "3108                                               None              \n",
       "3529  Dishwasher, Garbage Disposal, Gas Range, Islan...              \n",
       "3822  Dishwasher, Garbage Disposal, Island, Lazy Sus...              \n",
       "4812  Dishwasher, Electric Range, Garbage Disposal, ...              \n",
       "\n",
       "                 floor_covering    HOA  \n",
       "2025  Carpet, Other: Tile-Other  1,000  \n",
       "2766              Carpet, Other    250  \n",
       "3108                       None  1,200  \n",
       "3529  Carpet, Other: Tile-Other   None  \n",
       "3822  Carpet, Other: Tile-Other  1,200  \n",
       "4812       Carpet, Mexican Tile    250  "
      ]
     },
     "execution_count": 267,
     "metadata": {},
     "output_type": "execute_result"
    }
   ],
   "source": [
    "# Columns bathroom to HOA objects therefore their statistical measures does not exist.\n",
    "# First I need to change the type of these columns.\n",
    "\n",
    "# for 'bathrooms' there are 6 'None' values. I chose to set them equal to their 'bedrooms' value.\n",
    "# This might not be ideal and might skew the results, but it is still better than \n",
    "# deleting them or replacing them with median or mean values.\n",
    "df[df['bathrooms'] == 'None']"
   ]
  },
  {
   "cell_type": "code",
   "execution_count": 268,
   "metadata": {},
   "outputs": [
    {
     "data": {
      "text/html": [
       "<div>\n",
       "<style scoped>\n",
       "    .dataframe tbody tr th:only-of-type {\n",
       "        vertical-align: middle;\n",
       "    }\n",
       "\n",
       "    .dataframe tbody tr th {\n",
       "        vertical-align: top;\n",
       "    }\n",
       "\n",
       "    .dataframe thead th {\n",
       "        text-align: right;\n",
       "    }\n",
       "</style>\n",
       "<table border=\"1\" class=\"dataframe\">\n",
       "  <thead>\n",
       "    <tr style=\"text-align: right;\">\n",
       "      <th></th>\n",
       "      <th>MLS</th>\n",
       "      <th>sold_price</th>\n",
       "      <th>zipcode</th>\n",
       "      <th>longitude</th>\n",
       "      <th>latitude</th>\n",
       "      <th>lot_acres</th>\n",
       "      <th>taxes</th>\n",
       "      <th>year_built</th>\n",
       "      <th>bedrooms</th>\n",
       "      <th>bathrooms</th>\n",
       "      <th>sqrt_ft</th>\n",
       "      <th>garage</th>\n",
       "      <th>kitchen_features</th>\n",
       "      <th>fireplaces</th>\n",
       "      <th>floor_covering</th>\n",
       "      <th>HOA</th>\n",
       "    </tr>\n",
       "  </thead>\n",
       "  <tbody>\n",
       "  </tbody>\n",
       "</table>\n",
       "</div>"
      ],
      "text/plain": [
       "Empty DataFrame\n",
       "Columns: [MLS, sold_price, zipcode, longitude, latitude, lot_acres, taxes, year_built, bedrooms, bathrooms, sqrt_ft, garage, kitchen_features, fireplaces, floor_covering, HOA]\n",
       "Index: []"
      ]
     },
     "execution_count": 268,
     "metadata": {},
     "output_type": "execute_result"
    }
   ],
   "source": [
    "# I estimated the number of bathrooms with the number of bedrooms.\n",
    "df.loc[df['bathrooms'] == 'None', 'bathrooms'] = df['bedrooms']\n",
    "df[df['bathrooms'] == 'None']"
   ]
  },
  {
   "cell_type": "code",
   "execution_count": 269,
   "metadata": {},
   "outputs": [
    {
     "data": {
      "text/html": [
       "<div>\n",
       "<style scoped>\n",
       "    .dataframe tbody tr th:only-of-type {\n",
       "        vertical-align: middle;\n",
       "    }\n",
       "\n",
       "    .dataframe tbody tr th {\n",
       "        vertical-align: top;\n",
       "    }\n",
       "\n",
       "    .dataframe thead th {\n",
       "        text-align: right;\n",
       "    }\n",
       "</style>\n",
       "<table border=\"1\" class=\"dataframe\">\n",
       "  <thead>\n",
       "    <tr style=\"text-align: right;\">\n",
       "      <th></th>\n",
       "      <th>MLS</th>\n",
       "      <th>sold_price</th>\n",
       "      <th>zipcode</th>\n",
       "      <th>longitude</th>\n",
       "      <th>latitude</th>\n",
       "      <th>lot_acres</th>\n",
       "      <th>taxes</th>\n",
       "      <th>year_built</th>\n",
       "      <th>bedrooms</th>\n",
       "      <th>bathrooms</th>\n",
       "    </tr>\n",
       "  </thead>\n",
       "  <tbody>\n",
       "    <tr>\n",
       "      <th>count</th>\n",
       "      <td>5.000000e+03</td>\n",
       "      <td>5.000000e+03</td>\n",
       "      <td>5000.000000</td>\n",
       "      <td>5000.000000</td>\n",
       "      <td>5000.000000</td>\n",
       "      <td>4990.000000</td>\n",
       "      <td>5.000000e+03</td>\n",
       "      <td>5000.00000</td>\n",
       "      <td>5000.000000</td>\n",
       "      <td>5000.000000</td>\n",
       "    </tr>\n",
       "    <tr>\n",
       "      <th>mean</th>\n",
       "      <td>2.127070e+07</td>\n",
       "      <td>7.746262e+05</td>\n",
       "      <td>85723.025600</td>\n",
       "      <td>-110.912107</td>\n",
       "      <td>32.308512</td>\n",
       "      <td>4.661317</td>\n",
       "      <td>9.402828e+03</td>\n",
       "      <td>1992.32800</td>\n",
       "      <td>3.933800</td>\n",
       "      <td>3.828700</td>\n",
       "    </tr>\n",
       "    <tr>\n",
       "      <th>std</th>\n",
       "      <td>2.398508e+06</td>\n",
       "      <td>3.185556e+05</td>\n",
       "      <td>38.061712</td>\n",
       "      <td>0.120629</td>\n",
       "      <td>0.178028</td>\n",
       "      <td>51.685230</td>\n",
       "      <td>1.729385e+05</td>\n",
       "      <td>65.48614</td>\n",
       "      <td>1.245362</td>\n",
       "      <td>1.386864</td>\n",
       "    </tr>\n",
       "    <tr>\n",
       "      <th>min</th>\n",
       "      <td>3.042851e+06</td>\n",
       "      <td>1.690000e+05</td>\n",
       "      <td>85118.000000</td>\n",
       "      <td>-112.520168</td>\n",
       "      <td>31.356362</td>\n",
       "      <td>0.000000</td>\n",
       "      <td>0.000000e+00</td>\n",
       "      <td>0.00000</td>\n",
       "      <td>1.000000</td>\n",
       "      <td>1.000000</td>\n",
       "    </tr>\n",
       "    <tr>\n",
       "      <th>25%</th>\n",
       "      <td>2.140718e+07</td>\n",
       "      <td>5.850000e+05</td>\n",
       "      <td>85718.000000</td>\n",
       "      <td>-110.979260</td>\n",
       "      <td>32.277484</td>\n",
       "      <td>0.580000</td>\n",
       "      <td>4.803605e+03</td>\n",
       "      <td>1987.00000</td>\n",
       "      <td>3.000000</td>\n",
       "      <td>3.000000</td>\n",
       "    </tr>\n",
       "    <tr>\n",
       "      <th>50%</th>\n",
       "      <td>2.161469e+07</td>\n",
       "      <td>6.750000e+05</td>\n",
       "      <td>85737.000000</td>\n",
       "      <td>-110.923420</td>\n",
       "      <td>32.318517</td>\n",
       "      <td>0.990000</td>\n",
       "      <td>6.223760e+03</td>\n",
       "      <td>1999.00000</td>\n",
       "      <td>4.000000</td>\n",
       "      <td>4.000000</td>\n",
       "    </tr>\n",
       "    <tr>\n",
       "      <th>75%</th>\n",
       "      <td>2.180480e+07</td>\n",
       "      <td>8.350000e+05</td>\n",
       "      <td>85749.000000</td>\n",
       "      <td>-110.859078</td>\n",
       "      <td>32.394334</td>\n",
       "      <td>1.757500</td>\n",
       "      <td>8.082830e+03</td>\n",
       "      <td>2006.00000</td>\n",
       "      <td>4.000000</td>\n",
       "      <td>4.000000</td>\n",
       "    </tr>\n",
       "    <tr>\n",
       "      <th>max</th>\n",
       "      <td>2.192856e+07</td>\n",
       "      <td>5.300000e+06</td>\n",
       "      <td>86323.000000</td>\n",
       "      <td>-109.454637</td>\n",
       "      <td>34.927884</td>\n",
       "      <td>2154.000000</td>\n",
       "      <td>1.221508e+07</td>\n",
       "      <td>2019.00000</td>\n",
       "      <td>36.000000</td>\n",
       "      <td>36.000000</td>\n",
       "    </tr>\n",
       "  </tbody>\n",
       "</table>\n",
       "</div>"
      ],
      "text/plain": [
       "                MLS    sold_price       zipcode    longitude     latitude  \\\n",
       "count  5.000000e+03  5.000000e+03   5000.000000  5000.000000  5000.000000   \n",
       "mean   2.127070e+07  7.746262e+05  85723.025600  -110.912107    32.308512   \n",
       "std    2.398508e+06  3.185556e+05     38.061712     0.120629     0.178028   \n",
       "min    3.042851e+06  1.690000e+05  85118.000000  -112.520168    31.356362   \n",
       "25%    2.140718e+07  5.850000e+05  85718.000000  -110.979260    32.277484   \n",
       "50%    2.161469e+07  6.750000e+05  85737.000000  -110.923420    32.318517   \n",
       "75%    2.180480e+07  8.350000e+05  85749.000000  -110.859078    32.394334   \n",
       "max    2.192856e+07  5.300000e+06  86323.000000  -109.454637    34.927884   \n",
       "\n",
       "         lot_acres         taxes  year_built     bedrooms    bathrooms  \n",
       "count  4990.000000  5.000000e+03  5000.00000  5000.000000  5000.000000  \n",
       "mean      4.661317  9.402828e+03  1992.32800     3.933800     3.828700  \n",
       "std      51.685230  1.729385e+05    65.48614     1.245362     1.386864  \n",
       "min       0.000000  0.000000e+00     0.00000     1.000000     1.000000  \n",
       "25%       0.580000  4.803605e+03  1987.00000     3.000000     3.000000  \n",
       "50%       0.990000  6.223760e+03  1999.00000     4.000000     4.000000  \n",
       "75%       1.757500  8.082830e+03  2006.00000     4.000000     4.000000  \n",
       "max    2154.000000  1.221508e+07  2019.00000    36.000000    36.000000  "
      ]
     },
     "execution_count": 269,
     "metadata": {},
     "output_type": "execute_result"
    }
   ],
   "source": [
    "# Now I change the type of column 'bathroom'\n",
    "df['bathrooms'] = df['bathrooms'].astype(float)\n",
    "df.describe()"
   ]
  },
  {
   "cell_type": "code",
   "execution_count": 270,
   "metadata": {},
   "outputs": [
    {
     "data": {
      "text/html": [
       "<div>\n",
       "<style scoped>\n",
       "    .dataframe tbody tr th:only-of-type {\n",
       "        vertical-align: middle;\n",
       "    }\n",
       "\n",
       "    .dataframe tbody tr th {\n",
       "        vertical-align: top;\n",
       "    }\n",
       "\n",
       "    .dataframe thead th {\n",
       "        text-align: right;\n",
       "    }\n",
       "</style>\n",
       "<table border=\"1\" class=\"dataframe\">\n",
       "  <thead>\n",
       "    <tr style=\"text-align: right;\">\n",
       "      <th></th>\n",
       "      <th>MLS</th>\n",
       "      <th>sold_price</th>\n",
       "      <th>zipcode</th>\n",
       "      <th>longitude</th>\n",
       "      <th>latitude</th>\n",
       "      <th>lot_acres</th>\n",
       "      <th>taxes</th>\n",
       "      <th>year_built</th>\n",
       "      <th>bedrooms</th>\n",
       "      <th>bathrooms</th>\n",
       "      <th>sqrt_ft</th>\n",
       "      <th>garage</th>\n",
       "      <th>kitchen_features</th>\n",
       "      <th>fireplaces</th>\n",
       "      <th>floor_covering</th>\n",
       "      <th>HOA</th>\n",
       "    </tr>\n",
       "  </thead>\n",
       "  <tbody>\n",
       "  </tbody>\n",
       "</table>\n",
       "</div>"
      ],
      "text/plain": [
       "Empty DataFrame\n",
       "Columns: [MLS, sold_price, zipcode, longitude, latitude, lot_acres, taxes, year_built, bedrooms, bathrooms, sqrt_ft, garage, kitchen_features, fireplaces, floor_covering, HOA]\n",
       "Index: []"
      ]
     },
     "execution_count": 270,
     "metadata": {},
     "output_type": "execute_result"
    }
   ],
   "source": [
    "# Now I repeat this for column sqrt_ft.\n",
    "len(df[df['sqrt_ft'] == 'None'])\n",
    "df[df['sqrt_ft'] == 'None']\n",
    "# There are 56 records with sqrt = None. One option is to replace them with lot_acres\n",
    "# (with acres to square feet conversion). This does not look like a good idea as it\n",
    "# adds some very large and unrealistic numbers in this column.\n",
    "# They consist around 1% of the whole data frame; therefore, I decided to delete them.\n",
    "df.drop(df[df.sqrt_ft == 'None'].index, inplace=True)\n",
    "df[df['sqrt_ft'] == 'None']"
   ]
  },
  {
   "cell_type": "code",
   "execution_count": 271,
   "metadata": {},
   "outputs": [],
   "source": [
    "# Now I can change the type of the column to float.\n",
    "df['sqrt_ft'] = df['sqrt_ft'].astype(float)"
   ]
  },
  {
   "cell_type": "code",
   "execution_count": 272,
   "metadata": {},
   "outputs": [
    {
     "data": {
      "text/html": [
       "<div>\n",
       "<style scoped>\n",
       "    .dataframe tbody tr th:only-of-type {\n",
       "        vertical-align: middle;\n",
       "    }\n",
       "\n",
       "    .dataframe tbody tr th {\n",
       "        vertical-align: top;\n",
       "    }\n",
       "\n",
       "    .dataframe thead th {\n",
       "        text-align: right;\n",
       "    }\n",
       "</style>\n",
       "<table border=\"1\" class=\"dataframe\">\n",
       "  <thead>\n",
       "    <tr style=\"text-align: right;\">\n",
       "      <th></th>\n",
       "      <th>MLS</th>\n",
       "      <th>sold_price</th>\n",
       "      <th>zipcode</th>\n",
       "      <th>longitude</th>\n",
       "      <th>latitude</th>\n",
       "      <th>lot_acres</th>\n",
       "      <th>taxes</th>\n",
       "      <th>year_built</th>\n",
       "      <th>bedrooms</th>\n",
       "      <th>bathrooms</th>\n",
       "      <th>sqrt_ft</th>\n",
       "      <th>garage</th>\n",
       "      <th>kitchen_features</th>\n",
       "      <th>fireplaces</th>\n",
       "      <th>floor_covering</th>\n",
       "      <th>HOA</th>\n",
       "    </tr>\n",
       "  </thead>\n",
       "  <tbody>\n",
       "    <tr>\n",
       "      <th>263</th>\n",
       "      <td>4115554</td>\n",
       "      <td>1200000.0</td>\n",
       "      <td>85646</td>\n",
       "      <td>-111.040612</td>\n",
       "      <td>31.594683</td>\n",
       "      <td>91.70</td>\n",
       "      <td>8473.86</td>\n",
       "      <td>1925</td>\n",
       "      <td>6</td>\n",
       "      <td>5.0</td>\n",
       "      <td>6884.0</td>\n",
       "      <td>None</td>\n",
       "      <td>Dishwasher, Double Sink, Island, Prep Sink, Re...</td>\n",
       "      <td>7</td>\n",
       "      <td>Carpet, Concrete</td>\n",
       "      <td>None</td>\n",
       "    </tr>\n",
       "    <tr>\n",
       "      <th>590</th>\n",
       "      <td>4113651</td>\n",
       "      <td>900000.0</td>\n",
       "      <td>85646</td>\n",
       "      <td>-111.037399</td>\n",
       "      <td>31.574636</td>\n",
       "      <td>34.45</td>\n",
       "      <td>3354.10</td>\n",
       "      <td>1964</td>\n",
       "      <td>3</td>\n",
       "      <td>3.0</td>\n",
       "      <td>2759.0</td>\n",
       "      <td>None</td>\n",
       "      <td>Dishwasher, Double Sink, Garbage Disposal, Ref...</td>\n",
       "      <td>2</td>\n",
       "      <td>Concrete</td>\n",
       "      <td>None</td>\n",
       "    </tr>\n",
       "    <tr>\n",
       "      <th>4275</th>\n",
       "      <td>4116010</td>\n",
       "      <td>490000.0</td>\n",
       "      <td>85601</td>\n",
       "      <td>-111.299663</td>\n",
       "      <td>31.584173</td>\n",
       "      <td>38.98</td>\n",
       "      <td>5739.00</td>\n",
       "      <td>1977</td>\n",
       "      <td>4</td>\n",
       "      <td>3.0</td>\n",
       "      <td>2811.0</td>\n",
       "      <td>None</td>\n",
       "      <td>Dishwasher, Double Sink, Electric Range, Garba...</td>\n",
       "      <td>1</td>\n",
       "      <td>Carpet, Vinyl</td>\n",
       "      <td>None</td>\n",
       "    </tr>\n",
       "    <tr>\n",
       "      <th>4999</th>\n",
       "      <td>4111490</td>\n",
       "      <td>450000.0</td>\n",
       "      <td>85621</td>\n",
       "      <td>-110.913054</td>\n",
       "      <td>31.385259</td>\n",
       "      <td>4.16</td>\n",
       "      <td>2814.48</td>\n",
       "      <td>1988</td>\n",
       "      <td>4</td>\n",
       "      <td>4.0</td>\n",
       "      <td>4317.0</td>\n",
       "      <td>None</td>\n",
       "      <td>Compactor, Dishwasher, Double Sink, Island, Ap...</td>\n",
       "      <td>3</td>\n",
       "      <td>Carpet, Mexican Tile</td>\n",
       "      <td>None</td>\n",
       "    </tr>\n",
       "  </tbody>\n",
       "</table>\n",
       "</div>"
      ],
      "text/plain": [
       "          MLS  sold_price  zipcode   longitude   latitude  lot_acres    taxes  \\\n",
       "263   4115554   1200000.0    85646 -111.040612  31.594683      91.70  8473.86   \n",
       "590   4113651    900000.0    85646 -111.037399  31.574636      34.45  3354.10   \n",
       "4275  4116010    490000.0    85601 -111.299663  31.584173      38.98  5739.00   \n",
       "4999  4111490    450000.0    85621 -110.913054  31.385259       4.16  2814.48   \n",
       "\n",
       "      year_built  bedrooms  bathrooms  sqrt_ft garage  \\\n",
       "263         1925         6        5.0   6884.0   None   \n",
       "590         1964         3        3.0   2759.0   None   \n",
       "4275        1977         4        3.0   2811.0   None   \n",
       "4999        1988         4        4.0   4317.0   None   \n",
       "\n",
       "                                       kitchen_features fireplaces  \\\n",
       "263   Dishwasher, Double Sink, Island, Prep Sink, Re...          7   \n",
       "590   Dishwasher, Double Sink, Garbage Disposal, Ref...          2   \n",
       "4275  Dishwasher, Double Sink, Electric Range, Garba...          1   \n",
       "4999  Compactor, Dishwasher, Double Sink, Island, Ap...          3   \n",
       "\n",
       "            floor_covering   HOA  \n",
       "263       Carpet, Concrete  None  \n",
       "590               Concrete  None  \n",
       "4275         Carpet, Vinyl  None  \n",
       "4999  Carpet, Mexican Tile  None  "
      ]
     },
     "execution_count": 272,
     "metadata": {},
     "output_type": "execute_result"
    }
   ],
   "source": [
    "# Now I repeat this for column garage.\n",
    "len(df[df['garage'] == 'None'])\n",
    "df[df['garage'] == 'None']"
   ]
  },
  {
   "cell_type": "code",
   "execution_count": 273,
   "metadata": {},
   "outputs": [],
   "source": [
    "# The best solution looks like to replace them with zeros. It looks like all these records\n",
    "# belong to large properties. Therefore, it is very probable that they have many parking places.\n",
    "# But I think the best solution is to put zero instead of none.\n",
    "df.loc[df['garage'] == 'None', 'garage'] = 0\n",
    "df['garage'] = df['garage'].astype(float)"
   ]
  },
  {
   "cell_type": "code",
   "execution_count": 274,
   "metadata": {},
   "outputs": [
    {
     "name": "stdout",
     "output_type": "stream",
     "text": [
      "32\n"
     ]
    }
   ],
   "source": [
    "# Next column is kitchen_features. A string type looks like the best choice for it.\n",
    "print(len(df[df['kitchen_features'] == 'None']))\n",
    "# There are 32 records with kitchen_features=None. I can accept it as a valid\n",
    "# value meaing that the kitchen has no known features."
   ]
  },
  {
   "cell_type": "code",
   "execution_count": 275,
   "metadata": {},
   "outputs": [],
   "source": [
    "df['kitchen_features'] = df['kitchen_features'].astype(str)"
   ]
  },
  {
   "cell_type": "code",
   "execution_count": 276,
   "metadata": {},
   "outputs": [
    {
     "name": "stdout",
     "output_type": "stream",
     "text": [
      "0\n"
     ]
    }
   ],
   "source": [
    "# Next column is fireplaces. An integer type looks like the best choice for it.\n",
    "print(len(df[df['fireplaces'] == 'None']))\n",
    "# There is no record with fireplaces=None. Its type can be changed to int now."
   ]
  },
  {
   "cell_type": "code",
   "execution_count": 277,
   "metadata": {},
   "outputs": [],
   "source": [
    "df['fireplaces'] = df['fireplaces'].astype(int)"
   ]
  },
  {
   "cell_type": "code",
   "execution_count": 278,
   "metadata": {},
   "outputs": [
    {
     "name": "stdout",
     "output_type": "stream",
     "text": [
      "0\n"
     ]
    }
   ],
   "source": [
    "# Next column is floor_covering. A string type looks like the best choice for it.\n",
    "print(len(df[df['floor_covering'] == 'None']))\n",
    "# There is no record with floor_covering=None."
   ]
  },
  {
   "cell_type": "code",
   "execution_count": 279,
   "metadata": {},
   "outputs": [],
   "source": [
    "df['floor_covering'] = df['floor_covering'].astype(str)"
   ]
  },
  {
   "cell_type": "code",
   "execution_count": 280,
   "metadata": {},
   "outputs": [
    {
     "name": "stdout",
     "output_type": "stream",
     "text": [
      "544\n",
      "0\n"
     ]
    }
   ],
   "source": [
    "# The last column is HOA. An int type looks like the best choice for it.\n",
    "print(len(df[df['HOA'] == 'None']))\n",
    "# There are 544 records with HOA=None. I should first change all th None\n",
    "# values to 0 (Note: there are originally no record with HOA=0).\n",
    "# Later on, I will find a better estimation for those values.\n",
    "print(len(df[df['HOA'] == 0]))"
   ]
  },
  {
   "cell_type": "code",
   "execution_count": 281,
   "metadata": {},
   "outputs": [],
   "source": [
    "df.loc[df['HOA'] == 'None', 'HOA'] = 0\n",
    "# Some records in have character ',' in their HOA.\n",
    "df['HOA'] = df['HOA'].str.replace(',', '')\n",
    "df['HOA'] = df['HOA'].astype(float)"
   ]
  },
  {
   "cell_type": "code",
   "execution_count": 282,
   "metadata": {},
   "outputs": [
    {
     "name": "stdout",
     "output_type": "stream",
     "text": [
      "<class 'pandas.core.frame.DataFrame'>\n",
      "Int64Index: 4944 entries, 0 to 4999\n",
      "Data columns (total 16 columns):\n",
      " #   Column            Non-Null Count  Dtype  \n",
      "---  ------            --------------  -----  \n",
      " 0   MLS               4944 non-null   int64  \n",
      " 1   sold_price        4944 non-null   float64\n",
      " 2   zipcode           4944 non-null   int64  \n",
      " 3   longitude         4944 non-null   float64\n",
      " 4   latitude          4944 non-null   float64\n",
      " 5   lot_acres         4944 non-null   float64\n",
      " 6   taxes             4944 non-null   float64\n",
      " 7   year_built        4944 non-null   int64  \n",
      " 8   bedrooms          4944 non-null   int64  \n",
      " 9   bathrooms         4944 non-null   float64\n",
      " 10  sqrt_ft           4944 non-null   float64\n",
      " 11  garage            4944 non-null   float64\n",
      " 12  kitchen_features  4944 non-null   object \n",
      " 13  fireplaces        4944 non-null   int64  \n",
      " 14  floor_covering    4944 non-null   object \n",
      " 15  HOA               4400 non-null   float64\n",
      "dtypes: float64(9), int64(5), object(2)\n",
      "memory usage: 656.6+ KB\n"
     ]
    },
    {
     "data": {
      "text/html": [
       "<div>\n",
       "<style scoped>\n",
       "    .dataframe tbody tr th:only-of-type {\n",
       "        vertical-align: middle;\n",
       "    }\n",
       "\n",
       "    .dataframe tbody tr th {\n",
       "        vertical-align: top;\n",
       "    }\n",
       "\n",
       "    .dataframe thead th {\n",
       "        text-align: right;\n",
       "    }\n",
       "</style>\n",
       "<table border=\"1\" class=\"dataframe\">\n",
       "  <thead>\n",
       "    <tr style=\"text-align: right;\">\n",
       "      <th></th>\n",
       "      <th>MLS</th>\n",
       "      <th>sold_price</th>\n",
       "      <th>zipcode</th>\n",
       "      <th>longitude</th>\n",
       "      <th>latitude</th>\n",
       "      <th>lot_acres</th>\n",
       "      <th>taxes</th>\n",
       "      <th>year_built</th>\n",
       "      <th>bedrooms</th>\n",
       "      <th>bathrooms</th>\n",
       "      <th>sqrt_ft</th>\n",
       "      <th>garage</th>\n",
       "      <th>fireplaces</th>\n",
       "      <th>HOA</th>\n",
       "    </tr>\n",
       "  </thead>\n",
       "  <tbody>\n",
       "    <tr>\n",
       "      <th>count</th>\n",
       "      <td>4.944000e+03</td>\n",
       "      <td>4.944000e+03</td>\n",
       "      <td>4944.000000</td>\n",
       "      <td>4944.000000</td>\n",
       "      <td>4944.000000</td>\n",
       "      <td>4944.000000</td>\n",
       "      <td>4.944000e+03</td>\n",
       "      <td>4944.000000</td>\n",
       "      <td>4944.000000</td>\n",
       "      <td>4944.000000</td>\n",
       "      <td>4944.000000</td>\n",
       "      <td>4944.000000</td>\n",
       "      <td>4944.000000</td>\n",
       "      <td>4400.000000</td>\n",
       "    </tr>\n",
       "    <tr>\n",
       "      <th>mean</th>\n",
       "      <td>2.147703e+07</td>\n",
       "      <td>7.757358e+05</td>\n",
       "      <td>85724.128236</td>\n",
       "      <td>-110.910942</td>\n",
       "      <td>32.314540</td>\n",
       "      <td>4.270884</td>\n",
       "      <td>9.444989e+03</td>\n",
       "      <td>1992.259506</td>\n",
       "      <td>3.935477</td>\n",
       "      <td>3.824939</td>\n",
       "      <td>3716.366828</td>\n",
       "      <td>2.813309</td>\n",
       "      <td>1.883495</td>\n",
       "      <td>102.468702</td>\n",
       "    </tr>\n",
       "    <tr>\n",
       "      <th>std</th>\n",
       "      <td>1.419951e+06</td>\n",
       "      <td>3.160465e+05</td>\n",
       "      <td>36.803079</td>\n",
       "      <td>0.120604</td>\n",
       "      <td>0.169380</td>\n",
       "      <td>45.851750</td>\n",
       "      <td>1.739144e+05</td>\n",
       "      <td>65.830904</td>\n",
       "      <td>1.160795</td>\n",
       "      <td>1.318048</td>\n",
       "      <td>1120.683515</td>\n",
       "      <td>1.199474</td>\n",
       "      <td>1.135463</td>\n",
       "      <td>549.054089</td>\n",
       "    </tr>\n",
       "    <tr>\n",
       "      <th>min</th>\n",
       "      <td>4.110917e+06</td>\n",
       "      <td>1.690000e+05</td>\n",
       "      <td>85118.000000</td>\n",
       "      <td>-112.520168</td>\n",
       "      <td>31.356362</td>\n",
       "      <td>0.000000</td>\n",
       "      <td>0.000000e+00</td>\n",
       "      <td>0.000000</td>\n",
       "      <td>1.000000</td>\n",
       "      <td>1.000000</td>\n",
       "      <td>1100.000000</td>\n",
       "      <td>0.000000</td>\n",
       "      <td>0.000000</td>\n",
       "      <td>0.000000</td>\n",
       "    </tr>\n",
       "    <tr>\n",
       "      <th>25%</th>\n",
       "      <td>2.140945e+07</td>\n",
       "      <td>5.850000e+05</td>\n",
       "      <td>85718.000000</td>\n",
       "      <td>-110.978591</td>\n",
       "      <td>32.280278</td>\n",
       "      <td>0.580000</td>\n",
       "      <td>4.819410e+03</td>\n",
       "      <td>1987.000000</td>\n",
       "      <td>3.000000</td>\n",
       "      <td>3.000000</td>\n",
       "      <td>3047.000000</td>\n",
       "      <td>2.000000</td>\n",
       "      <td>1.000000</td>\n",
       "      <td>8.000000</td>\n",
       "    </tr>\n",
       "    <tr>\n",
       "      <th>50%</th>\n",
       "      <td>2.161620e+07</td>\n",
       "      <td>6.790000e+05</td>\n",
       "      <td>85737.000000</td>\n",
       "      <td>-110.922462</td>\n",
       "      <td>32.319136</td>\n",
       "      <td>0.980000</td>\n",
       "      <td>6.248770e+03</td>\n",
       "      <td>1999.000000</td>\n",
       "      <td>4.000000</td>\n",
       "      <td>4.000000</td>\n",
       "      <td>3512.000000</td>\n",
       "      <td>3.000000</td>\n",
       "      <td>2.000000</td>\n",
       "      <td>55.000000</td>\n",
       "    </tr>\n",
       "    <tr>\n",
       "      <th>75%</th>\n",
       "      <td>2.180543e+07</td>\n",
       "      <td>8.400000e+05</td>\n",
       "      <td>85750.000000</td>\n",
       "      <td>-110.858578</td>\n",
       "      <td>32.396124</td>\n",
       "      <td>1.740000</td>\n",
       "      <td>8.106153e+03</td>\n",
       "      <td>2006.000000</td>\n",
       "      <td>4.000000</td>\n",
       "      <td>4.000000</td>\n",
       "      <td>4130.250000</td>\n",
       "      <td>3.000000</td>\n",
       "      <td>3.000000</td>\n",
       "      <td>135.000000</td>\n",
       "    </tr>\n",
       "    <tr>\n",
       "      <th>max</th>\n",
       "      <td>2.192856e+07</td>\n",
       "      <td>5.300000e+06</td>\n",
       "      <td>86323.000000</td>\n",
       "      <td>-109.454637</td>\n",
       "      <td>34.927884</td>\n",
       "      <td>2154.000000</td>\n",
       "      <td>1.221508e+07</td>\n",
       "      <td>2019.000000</td>\n",
       "      <td>36.000000</td>\n",
       "      <td>36.000000</td>\n",
       "      <td>22408.000000</td>\n",
       "      <td>30.000000</td>\n",
       "      <td>9.000000</td>\n",
       "      <td>20000.000000</td>\n",
       "    </tr>\n",
       "  </tbody>\n",
       "</table>\n",
       "</div>"
      ],
      "text/plain": [
       "                MLS    sold_price       zipcode    longitude     latitude  \\\n",
       "count  4.944000e+03  4.944000e+03   4944.000000  4944.000000  4944.000000   \n",
       "mean   2.147703e+07  7.757358e+05  85724.128236  -110.910942    32.314540   \n",
       "std    1.419951e+06  3.160465e+05     36.803079     0.120604     0.169380   \n",
       "min    4.110917e+06  1.690000e+05  85118.000000  -112.520168    31.356362   \n",
       "25%    2.140945e+07  5.850000e+05  85718.000000  -110.978591    32.280278   \n",
       "50%    2.161620e+07  6.790000e+05  85737.000000  -110.922462    32.319136   \n",
       "75%    2.180543e+07  8.400000e+05  85750.000000  -110.858578    32.396124   \n",
       "max    2.192856e+07  5.300000e+06  86323.000000  -109.454637    34.927884   \n",
       "\n",
       "         lot_acres         taxes   year_built     bedrooms    bathrooms  \\\n",
       "count  4944.000000  4.944000e+03  4944.000000  4944.000000  4944.000000   \n",
       "mean      4.270884  9.444989e+03  1992.259506     3.935477     3.824939   \n",
       "std      45.851750  1.739144e+05    65.830904     1.160795     1.318048   \n",
       "min       0.000000  0.000000e+00     0.000000     1.000000     1.000000   \n",
       "25%       0.580000  4.819410e+03  1987.000000     3.000000     3.000000   \n",
       "50%       0.980000  6.248770e+03  1999.000000     4.000000     4.000000   \n",
       "75%       1.740000  8.106153e+03  2006.000000     4.000000     4.000000   \n",
       "max    2154.000000  1.221508e+07  2019.000000    36.000000    36.000000   \n",
       "\n",
       "            sqrt_ft       garage   fireplaces           HOA  \n",
       "count   4944.000000  4944.000000  4944.000000   4400.000000  \n",
       "mean    3716.366828     2.813309     1.883495    102.468702  \n",
       "std     1120.683515     1.199474     1.135463    549.054089  \n",
       "min     1100.000000     0.000000     0.000000      0.000000  \n",
       "25%     3047.000000     2.000000     1.000000      8.000000  \n",
       "50%     3512.000000     3.000000     2.000000     55.000000  \n",
       "75%     4130.250000     3.000000     3.000000    135.000000  \n",
       "max    22408.000000    30.000000     9.000000  20000.000000  "
      ]
     },
     "execution_count": 282,
     "metadata": {},
     "output_type": "execute_result"
    }
   ],
   "source": [
    "df.info()\n",
    "df.describe()"
   ]
  },
  {
   "cell_type": "code",
   "execution_count": null,
   "metadata": {},
   "outputs": [],
   "source": []
  },
  {
   "cell_type": "code",
   "execution_count": 283,
   "metadata": {},
   "outputs": [
    {
     "data": {
      "text/html": [
       "<div>\n",
       "<style scoped>\n",
       "    .dataframe tbody tr th:only-of-type {\n",
       "        vertical-align: middle;\n",
       "    }\n",
       "\n",
       "    .dataframe tbody tr th {\n",
       "        vertical-align: top;\n",
       "    }\n",
       "\n",
       "    .dataframe thead th {\n",
       "        text-align: right;\n",
       "    }\n",
       "</style>\n",
       "<table border=\"1\" class=\"dataframe\">\n",
       "  <thead>\n",
       "    <tr style=\"text-align: right;\">\n",
       "      <th></th>\n",
       "      <th>MLS</th>\n",
       "      <th>sold_price</th>\n",
       "      <th>zipcode</th>\n",
       "      <th>longitude</th>\n",
       "      <th>latitude</th>\n",
       "      <th>lot_acres</th>\n",
       "      <th>taxes</th>\n",
       "      <th>year_built</th>\n",
       "      <th>bedrooms</th>\n",
       "      <th>bathrooms</th>\n",
       "      <th>sqrt_ft</th>\n",
       "      <th>garage</th>\n",
       "      <th>fireplaces</th>\n",
       "      <th>HOA</th>\n",
       "    </tr>\n",
       "  </thead>\n",
       "  <tbody>\n",
       "    <tr>\n",
       "      <th>MLS</th>\n",
       "      <td>1.000000</td>\n",
       "      <td>0.007850</td>\n",
       "      <td>0.182158</td>\n",
       "      <td>0.076804</td>\n",
       "      <td>0.330857</td>\n",
       "      <td>-0.042810</td>\n",
       "      <td>0.002470</td>\n",
       "      <td>0.008159</td>\n",
       "      <td>-0.041226</td>\n",
       "      <td>-0.056862</td>\n",
       "      <td>-0.086821</td>\n",
       "      <td>0.016818</td>\n",
       "      <td>-0.070055</td>\n",
       "      <td>-0.017537</td>\n",
       "    </tr>\n",
       "    <tr>\n",
       "      <th>sold_price</th>\n",
       "      <td>0.007850</td>\n",
       "      <td>1.000000</td>\n",
       "      <td>-0.053015</td>\n",
       "      <td>-0.040086</td>\n",
       "      <td>0.029247</td>\n",
       "      <td>0.300248</td>\n",
       "      <td>0.023486</td>\n",
       "      <td>-0.013887</td>\n",
       "      <td>0.130610</td>\n",
       "      <td>0.353143</td>\n",
       "      <td>0.531191</td>\n",
       "      <td>0.100402</td>\n",
       "      <td>0.384483</td>\n",
       "      <td>0.172274</td>\n",
       "    </tr>\n",
       "    <tr>\n",
       "      <th>zipcode</th>\n",
       "      <td>0.182158</td>\n",
       "      <td>-0.053015</td>\n",
       "      <td>1.000000</td>\n",
       "      <td>0.026744</td>\n",
       "      <td>0.409302</td>\n",
       "      <td>-0.131448</td>\n",
       "      <td>-0.002000</td>\n",
       "      <td>0.042472</td>\n",
       "      <td>0.049453</td>\n",
       "      <td>-0.050693</td>\n",
       "      <td>-0.008548</td>\n",
       "      <td>0.091523</td>\n",
       "      <td>-0.015192</td>\n",
       "      <td>-0.022371</td>\n",
       "    </tr>\n",
       "    <tr>\n",
       "      <th>longitude</th>\n",
       "      <td>0.076804</td>\n",
       "      <td>-0.040086</td>\n",
       "      <td>0.026744</td>\n",
       "      <td>1.000000</td>\n",
       "      <td>-0.300697</td>\n",
       "      <td>0.156190</td>\n",
       "      <td>-0.001164</td>\n",
       "      <td>-0.008676</td>\n",
       "      <td>0.064030</td>\n",
       "      <td>0.019989</td>\n",
       "      <td>0.058771</td>\n",
       "      <td>-0.038414</td>\n",
       "      <td>0.048043</td>\n",
       "      <td>-0.021025</td>\n",
       "    </tr>\n",
       "    <tr>\n",
       "      <th>latitude</th>\n",
       "      <td>0.330857</td>\n",
       "      <td>0.029247</td>\n",
       "      <td>0.409302</td>\n",
       "      <td>-0.300697</td>\n",
       "      <td>1.000000</td>\n",
       "      <td>-0.203413</td>\n",
       "      <td>0.000163</td>\n",
       "      <td>0.087878</td>\n",
       "      <td>-0.107225</td>\n",
       "      <td>-0.075212</td>\n",
       "      <td>-0.123644</td>\n",
       "      <td>0.074509</td>\n",
       "      <td>-0.084295</td>\n",
       "      <td>0.035685</td>\n",
       "    </tr>\n",
       "    <tr>\n",
       "      <th>lot_acres</th>\n",
       "      <td>-0.042810</td>\n",
       "      <td>0.300248</td>\n",
       "      <td>-0.131448</td>\n",
       "      <td>0.156190</td>\n",
       "      <td>-0.203413</td>\n",
       "      <td>1.000000</td>\n",
       "      <td>-0.000728</td>\n",
       "      <td>-0.045200</td>\n",
       "      <td>0.092419</td>\n",
       "      <td>0.065943</td>\n",
       "      <td>0.121918</td>\n",
       "      <td>-0.061810</td>\n",
       "      <td>0.076359</td>\n",
       "      <td>-0.008499</td>\n",
       "    </tr>\n",
       "    <tr>\n",
       "      <th>taxes</th>\n",
       "      <td>0.002470</td>\n",
       "      <td>0.023486</td>\n",
       "      <td>-0.002000</td>\n",
       "      <td>-0.001164</td>\n",
       "      <td>0.000163</td>\n",
       "      <td>-0.000728</td>\n",
       "      <td>1.000000</td>\n",
       "      <td>0.000065</td>\n",
       "      <td>0.005001</td>\n",
       "      <td>0.008969</td>\n",
       "      <td>0.037630</td>\n",
       "      <td>0.005630</td>\n",
       "      <td>0.022588</td>\n",
       "      <td>0.004596</td>\n",
       "    </tr>\n",
       "    <tr>\n",
       "      <th>year_built</th>\n",
       "      <td>0.008159</td>\n",
       "      <td>-0.013887</td>\n",
       "      <td>0.042472</td>\n",
       "      <td>-0.008676</td>\n",
       "      <td>0.087878</td>\n",
       "      <td>-0.045200</td>\n",
       "      <td>0.000065</td>\n",
       "      <td>1.000000</td>\n",
       "      <td>-0.087183</td>\n",
       "      <td>-0.066130</td>\n",
       "      <td>-0.046397</td>\n",
       "      <td>0.107476</td>\n",
       "      <td>-0.032458</td>\n",
       "      <td>0.014803</td>\n",
       "    </tr>\n",
       "    <tr>\n",
       "      <th>bedrooms</th>\n",
       "      <td>-0.041226</td>\n",
       "      <td>0.130610</td>\n",
       "      <td>0.049453</td>\n",
       "      <td>0.064030</td>\n",
       "      <td>-0.107225</td>\n",
       "      <td>0.092419</td>\n",
       "      <td>0.005001</td>\n",
       "      <td>-0.087183</td>\n",
       "      <td>1.000000</td>\n",
       "      <td>0.649127</td>\n",
       "      <td>0.590305</td>\n",
       "      <td>0.052154</td>\n",
       "      <td>0.163442</td>\n",
       "      <td>-0.066924</td>\n",
       "    </tr>\n",
       "    <tr>\n",
       "      <th>bathrooms</th>\n",
       "      <td>-0.056862</td>\n",
       "      <td>0.353143</td>\n",
       "      <td>-0.050693</td>\n",
       "      <td>0.019989</td>\n",
       "      <td>-0.075212</td>\n",
       "      <td>0.065943</td>\n",
       "      <td>0.008969</td>\n",
       "      <td>-0.066130</td>\n",
       "      <td>0.649127</td>\n",
       "      <td>1.000000</td>\n",
       "      <td>0.701917</td>\n",
       "      <td>0.113366</td>\n",
       "      <td>0.240841</td>\n",
       "      <td>0.004980</td>\n",
       "    </tr>\n",
       "    <tr>\n",
       "      <th>sqrt_ft</th>\n",
       "      <td>-0.086821</td>\n",
       "      <td>0.531191</td>\n",
       "      <td>-0.008548</td>\n",
       "      <td>0.058771</td>\n",
       "      <td>-0.123644</td>\n",
       "      <td>0.121918</td>\n",
       "      <td>0.037630</td>\n",
       "      <td>-0.046397</td>\n",
       "      <td>0.590305</td>\n",
       "      <td>0.701917</td>\n",
       "      <td>1.000000</td>\n",
       "      <td>0.179441</td>\n",
       "      <td>0.407701</td>\n",
       "      <td>0.002485</td>\n",
       "    </tr>\n",
       "    <tr>\n",
       "      <th>garage</th>\n",
       "      <td>0.016818</td>\n",
       "      <td>0.100402</td>\n",
       "      <td>0.091523</td>\n",
       "      <td>-0.038414</td>\n",
       "      <td>0.074509</td>\n",
       "      <td>-0.061810</td>\n",
       "      <td>0.005630</td>\n",
       "      <td>0.107476</td>\n",
       "      <td>0.052154</td>\n",
       "      <td>0.113366</td>\n",
       "      <td>0.179441</td>\n",
       "      <td>1.000000</td>\n",
       "      <td>0.061639</td>\n",
       "      <td>-0.039979</td>\n",
       "    </tr>\n",
       "    <tr>\n",
       "      <th>fireplaces</th>\n",
       "      <td>-0.070055</td>\n",
       "      <td>0.384483</td>\n",
       "      <td>-0.015192</td>\n",
       "      <td>0.048043</td>\n",
       "      <td>-0.084295</td>\n",
       "      <td>0.076359</td>\n",
       "      <td>0.022588</td>\n",
       "      <td>-0.032458</td>\n",
       "      <td>0.163442</td>\n",
       "      <td>0.240841</td>\n",
       "      <td>0.407701</td>\n",
       "      <td>0.061639</td>\n",
       "      <td>1.000000</td>\n",
       "      <td>0.006363</td>\n",
       "    </tr>\n",
       "    <tr>\n",
       "      <th>HOA</th>\n",
       "      <td>-0.017537</td>\n",
       "      <td>0.172274</td>\n",
       "      <td>-0.022371</td>\n",
       "      <td>-0.021025</td>\n",
       "      <td>0.035685</td>\n",
       "      <td>-0.008499</td>\n",
       "      <td>0.004596</td>\n",
       "      <td>0.014803</td>\n",
       "      <td>-0.066924</td>\n",
       "      <td>0.004980</td>\n",
       "      <td>0.002485</td>\n",
       "      <td>-0.039979</td>\n",
       "      <td>0.006363</td>\n",
       "      <td>1.000000</td>\n",
       "    </tr>\n",
       "  </tbody>\n",
       "</table>\n",
       "</div>"
      ],
      "text/plain": [
       "                 MLS  sold_price   zipcode  longitude  latitude  lot_acres  \\\n",
       "MLS         1.000000    0.007850  0.182158   0.076804  0.330857  -0.042810   \n",
       "sold_price  0.007850    1.000000 -0.053015  -0.040086  0.029247   0.300248   \n",
       "zipcode     0.182158   -0.053015  1.000000   0.026744  0.409302  -0.131448   \n",
       "longitude   0.076804   -0.040086  0.026744   1.000000 -0.300697   0.156190   \n",
       "latitude    0.330857    0.029247  0.409302  -0.300697  1.000000  -0.203413   \n",
       "lot_acres  -0.042810    0.300248 -0.131448   0.156190 -0.203413   1.000000   \n",
       "taxes       0.002470    0.023486 -0.002000  -0.001164  0.000163  -0.000728   \n",
       "year_built  0.008159   -0.013887  0.042472  -0.008676  0.087878  -0.045200   \n",
       "bedrooms   -0.041226    0.130610  0.049453   0.064030 -0.107225   0.092419   \n",
       "bathrooms  -0.056862    0.353143 -0.050693   0.019989 -0.075212   0.065943   \n",
       "sqrt_ft    -0.086821    0.531191 -0.008548   0.058771 -0.123644   0.121918   \n",
       "garage      0.016818    0.100402  0.091523  -0.038414  0.074509  -0.061810   \n",
       "fireplaces -0.070055    0.384483 -0.015192   0.048043 -0.084295   0.076359   \n",
       "HOA        -0.017537    0.172274 -0.022371  -0.021025  0.035685  -0.008499   \n",
       "\n",
       "               taxes  year_built  bedrooms  bathrooms   sqrt_ft    garage  \\\n",
       "MLS         0.002470    0.008159 -0.041226  -0.056862 -0.086821  0.016818   \n",
       "sold_price  0.023486   -0.013887  0.130610   0.353143  0.531191  0.100402   \n",
       "zipcode    -0.002000    0.042472  0.049453  -0.050693 -0.008548  0.091523   \n",
       "longitude  -0.001164   -0.008676  0.064030   0.019989  0.058771 -0.038414   \n",
       "latitude    0.000163    0.087878 -0.107225  -0.075212 -0.123644  0.074509   \n",
       "lot_acres  -0.000728   -0.045200  0.092419   0.065943  0.121918 -0.061810   \n",
       "taxes       1.000000    0.000065  0.005001   0.008969  0.037630  0.005630   \n",
       "year_built  0.000065    1.000000 -0.087183  -0.066130 -0.046397  0.107476   \n",
       "bedrooms    0.005001   -0.087183  1.000000   0.649127  0.590305  0.052154   \n",
       "bathrooms   0.008969   -0.066130  0.649127   1.000000  0.701917  0.113366   \n",
       "sqrt_ft     0.037630   -0.046397  0.590305   0.701917  1.000000  0.179441   \n",
       "garage      0.005630    0.107476  0.052154   0.113366  0.179441  1.000000   \n",
       "fireplaces  0.022588   -0.032458  0.163442   0.240841  0.407701  0.061639   \n",
       "HOA         0.004596    0.014803 -0.066924   0.004980  0.002485 -0.039979   \n",
       "\n",
       "            fireplaces       HOA  \n",
       "MLS          -0.070055 -0.017537  \n",
       "sold_price    0.384483  0.172274  \n",
       "zipcode      -0.015192 -0.022371  \n",
       "longitude     0.048043 -0.021025  \n",
       "latitude     -0.084295  0.035685  \n",
       "lot_acres     0.076359 -0.008499  \n",
       "taxes         0.022588  0.004596  \n",
       "year_built   -0.032458  0.014803  \n",
       "bedrooms      0.163442 -0.066924  \n",
       "bathrooms     0.240841  0.004980  \n",
       "sqrt_ft       0.407701  0.002485  \n",
       "garage        0.061639 -0.039979  \n",
       "fireplaces    1.000000  0.006363  \n",
       "HOA           0.006363  1.000000  "
      ]
     },
     "execution_count": 283,
     "metadata": {},
     "output_type": "execute_result"
    }
   ],
   "source": [
    "# I decided to look at the correlations only after converting the columns and removing of invalid and null values.\n",
    "df.corr()"
   ]
  },
  {
   "cell_type": "code",
   "execution_count": null,
   "metadata": {},
   "outputs": [],
   "source": [
    "# The matrix shows that the majority of the columns are not strongly correlated.\n",
    "# This is not of a surprise as the properties are sold on different years and places.\n",
    "# They also, have different sizes and features.\n",
    "# The only columns that have some degree of correlation are:\n",
    "# sold_price and sqrt_ft\n",
    "# bedrooms and bathrooms\n",
    "# bedrooms and sqrt_ft\n",
    "# bathrooms and sqrt_ft\n",
    "# and to an even lesser degree between:\n",
    "# latitude and zipcode\n",
    "# fireplaces and sqrt_ft\n",
    "#\n",
    "# If there was some data about the year the properties are sold, then it would be\n",
    "# a chance to find a stronger correlation between some of the columns."
   ]
  },
  {
   "cell_type": "code",
   "execution_count": 284,
   "metadata": {},
   "outputs": [
    {
     "data": {
      "text/plain": [
       "<AxesSubplot:>"
      ]
     },
     "execution_count": 284,
     "metadata": {},
     "output_type": "execute_result"
    },
    {
     "data": {
      "image/png": "[encoded data removed]",
      "text/plain": [
       "<Figure size 432x288 with 1 Axes>"
      ]
     },
     "metadata": {},
     "output_type": "display_data"
    }
   ],
   "source": [
    "# Now I can look at each column one by one.\n",
    "\n",
    "# I start with the first column: MLS\n",
    "# MLS is a number assigned to a property when it is going to be sold.\n",
    "# First let's have a look at its box plot.\n",
    "df.boxplot(column='MLS')"
   ]
  },
  {
   "cell_type": "code",
   "execution_count": 285,
   "metadata": {},
   "outputs": [
    {
     "data": {
      "text/plain": [
       "[]"
      ]
     },
     "execution_count": 285,
     "metadata": {},
     "output_type": "execute_result"
    },
    {
     "data": {
      "image/png": "[encoded data removed]",
      "text/plain": [
       "<Figure size 432x288 with 1 Axes>"
      ]
     },
     "metadata": {},
     "output_type": "display_data"
    }
   ],
   "source": [
    "# Both the boxplot and the histograms below show that there is a small group of outlier values for MLS.\n",
    "# here is its histogram:\n",
    "hist = df['MLS'].hist(bins=500)\n",
    "hist.set_title('MLS')\n",
    "hist.set_xlabel('MLS')\n",
    "hist.set_ylabel('Count')\n",
    "plt.semilogy()"
   ]
  },
  {
   "cell_type": "code",
   "execution_count": 286,
   "metadata": {},
   "outputs": [
    {
     "data": {
      "text/plain": [
       "[]"
      ]
     },
     "execution_count": 286,
     "metadata": {},
     "output_type": "execute_result"
    },
    {
     "data": {
      "image/png": "[encoded data removed]",
      "text/plain": [
       "<Figure size 432x288 with 1 Axes>"
      ]
     },
     "metadata": {},
     "output_type": "display_data"
    }
   ],
   "source": [
    "# It looks like its values are split into two separate ranges.\n",
    "# I plot them separately\n",
    "new_df = df[df['MLS'] < 20000000]\n",
    "hist = new_df['MLS'].hist(bins=400)\n",
    "hist.set_title('Low MLS')\n",
    "hist.set_xlabel('MLS')\n",
    "hist.set_ylabel('Count')\n",
    "plt.plot()\n",
    "# This part of the data has a uniform distribution."
   ]
  },
  {
   "cell_type": "code",
   "execution_count": 287,
   "metadata": {},
   "outputs": [
    {
     "data": {
      "text/plain": [
       "[]"
      ]
     },
     "execution_count": 287,
     "metadata": {},
     "output_type": "execute_result"
    },
    {
     "data": {
      "image/png": "[encoded data removed]",
      "text/plain": [
       "<Figure size 432x288 with 1 Axes>"
      ]
     },
     "metadata": {},
     "output_type": "display_data"
    }
   ],
   "source": [
    "new_df = df[df['MLS'] >= 20000000]\n",
    "hist = new_df['MLS'].hist(bins=500)\n",
    "hist.set_title('High MLS')\n",
    "hist.set_xlabel('MLS')\n",
    "hist.set_ylabel('Count')\n",
    "plt.plot()\n",
    "# The MLS has a periodic nature. Each period has a sharp normal distribution with some skew to sides."
   ]
  },
  {
   "cell_type": "code",
   "execution_count": 288,
   "metadata": {},
   "outputs": [
    {
     "data": {
      "text/plain": [
       "<AxesSubplot:>"
      ]
     },
     "execution_count": 288,
     "metadata": {},
     "output_type": "execute_result"
    },
    {
     "data": {
      "image/png": "[encoded data removed]",
      "text/plain": [
       "<Figure size 432x288 with 1 Axes>"
      ]
     },
     "metadata": {},
     "output_type": "display_data"
    }
   ],
   "source": [
    "# Column 2 is sold_price\n",
    "df.boxplot(column='sold_price')"
   ]
  },
  {
   "cell_type": "code",
   "execution_count": 289,
   "metadata": {},
   "outputs": [
    {
     "data": {
      "text/plain": [
       "[]"
      ]
     },
     "execution_count": 289,
     "metadata": {},
     "output_type": "execute_result"
    },
    {
     "data": {
      "image/png": "[encoded data removed]",
      "text/plain": [
       "<Figure size 432x288 with 1 Axes>"
      ]
     },
     "metadata": {},
     "output_type": "display_data"
    }
   ],
   "source": [
    "# Again, both the boxplot and the histogram show that there are a large number of outlier values among high values.\n",
    "hist = df['sold_price'].hist(bins=1000)\n",
    "hist.set_title('Sold Price')\n",
    "hist.set_xlabel('Sold Price')\n",
    "hist.set_ylabel('Count')\n",
    "plt.semilogy()"
   ]
  },
  {
   "cell_type": "code",
   "execution_count": 290,
   "metadata": {},
   "outputs": [
    {
     "name": "stdout",
     "output_type": "stream",
     "text": [
      "48\n",
      "7\n"
     ]
    }
   ],
   "source": [
    "# It looks like it has a normal distribution that is skewed to the right.\n",
    "# There are irregularities in the prices above $2M that does not follow the normal distribution.\n",
    "new_df = df[df['sold_price'] > 2000000]\n",
    "print(len(new_df))\n",
    "new_df = new_df[new_df['sold_price'] > 3000000]\n",
    "print(len(new_df))"
   ]
  },
  {
   "cell_type": "code",
   "execution_count": 291,
   "metadata": {},
   "outputs": [
    {
     "data": {
      "text/plain": [
       "[]"
      ]
     },
     "execution_count": 291,
     "metadata": {},
     "output_type": "execute_result"
    },
    {
     "data": {
      "image/png": "[encoded data removed]",
      "text/plain": [
       "<Figure size 432x288 with 1 Axes>"
      ]
     },
     "metadata": {},
     "output_type": "display_data"
    }
   ],
   "source": [
    "# Here is the non-logarithmic histogram of sold_porice:\n",
    "hist = df['sold_price'].hist(bins=1000)\n",
    "hist.set_title('Sold Price')\n",
    "hist.set_xlabel('Sold Price')\n",
    "hist.set_ylabel('Count')\n",
    "plt.plot()"
   ]
  },
  {
   "cell_type": "code",
   "execution_count": 292,
   "metadata": {},
   "outputs": [
    {
     "data": {
      "text/plain": [
       "<AxesSubplot:>"
      ]
     },
     "execution_count": 292,
     "metadata": {},
     "output_type": "execute_result"
    },
    {
     "data": {
      "image/png": "[encoded data removed]",
      "text/plain": [
       "<Figure size 432x288 with 1 Axes>"
      ]
     },
     "metadata": {},
     "output_type": "display_data"
    }
   ],
   "source": [
    "# Column 3 is zipcode\n",
    "df.boxplot(column='zipcode')"
   ]
  },
  {
   "cell_type": "code",
   "execution_count": 293,
   "metadata": {},
   "outputs": [
    {
     "data": {
      "text/plain": [
       "[]"
      ]
     },
     "execution_count": 293,
     "metadata": {},
     "output_type": "execute_result"
    },
    {
     "data": {
      "image/png": "[encoded data removed]",
      "text/plain": [
       "<Figure size 432x288 with 1 Axes>"
      ]
     },
     "metadata": {},
     "output_type": "display_data"
    }
   ],
   "source": [
    "# The outliers are on both sides of the main distribution.\n",
    "hist = df['zipcode'].hist(bins=100)\n",
    "hist.set_title('Zipcode')\n",
    "hist.set_xlabel('Zipcode')\n",
    "hist.set_ylabel('Count')\n",
    "plt.semilogy()"
   ]
  },
  {
   "cell_type": "code",
   "execution_count": 294,
   "metadata": {},
   "outputs": [
    {
     "data": {
      "text/plain": [
       "[]"
      ]
     },
     "execution_count": 294,
     "metadata": {},
     "output_type": "execute_result"
    },
    {
     "data": {
      "image/png": "[encoded data removed]",
      "text/plain": [
       "<Figure size 432x288 with 1 Axes>"
      ]
     },
     "metadata": {},
     "output_type": "display_data"
    }
   ],
   "source": [
    "# It has a sharp normal distribution at the center with some skew towards left.\n",
    "# There are small number of scattered values at the two ends of the histogram.\n",
    "# Here is a closer look at the distribution at the center of the spectrum:\n",
    "new_df = df[df['zipcode'] > 85500]\n",
    "new_df = new_df[new_df['zipcode'] < 85800]\n",
    "hist = new_df['zipcode'].hist(bins=100)\n",
    "hist.set_title('Zipcode')\n",
    "hist.set_xlabel('Zipcode')\n",
    "hist.set_ylabel('Count')\n",
    "plt.semilogy()"
   ]
  },
  {
   "cell_type": "code",
   "execution_count": 295,
   "metadata": {},
   "outputs": [
    {
     "data": {
      "text/plain": [
       "<AxesSubplot:>"
      ]
     },
     "execution_count": 295,
     "metadata": {},
     "output_type": "execute_result"
    },
    {
     "data": {
      "image/png": "[encoded data removed]",
      "text/plain": [
       "<Figure size 432x288 with 1 Axes>"
      ]
     },
     "metadata": {},
     "output_type": "display_data"
    }
   ],
   "source": [
    "# Column 4 is longitude.\n",
    "df.boxplot(column='longitude')"
   ]
  },
  {
   "cell_type": "code",
   "execution_count": 296,
   "metadata": {},
   "outputs": [
    {
     "data": {
      "text/plain": [
       "[]"
      ]
     },
     "execution_count": 296,
     "metadata": {},
     "output_type": "execute_result"
    },
    {
     "data": {
      "image/png": "[encoded data removed]",
      "text/plain": [
       "<Figure size 432x288 with 1 Axes>"
      ]
     },
     "metadata": {},
     "output_type": "display_data"
    }
   ],
   "source": [
    "# The outliers are more to the top of the boxplot.\n",
    "hist = df['longitude'].hist(bins=100)\n",
    "hist.set_title('longitude')\n",
    "hist.set_xlabel('longitude')\n",
    "hist.set_ylabel('Count')\n",
    "plt.semilogy()"
   ]
  },
  {
   "cell_type": "code",
   "execution_count": 297,
   "metadata": {},
   "outputs": [
    {
     "data": {
      "image/png": "[encoded data removed]",
      "text/plain": [
       "<Figure size 432x288 with 1 Axes>"
      ]
     },
     "metadata": {},
     "output_type": "display_data"
    }
   ],
   "source": [
    "# It has a normal distribution around -110.9.\n",
    "# There are some scattered values near the edges of the histogram\n",
    "# which do not fit into the normal distribution.\n",
    "hist = df['longitude'].hist(bins=100)\n",
    "hist.set_title('longitude')\n",
    "hist.set_xlabel('longitude')\n",
    "hist.set_ylabel('Count')\n",
    "plt.show()"
   ]
  },
  {
   "cell_type": "code",
   "execution_count": 298,
   "metadata": {},
   "outputs": [
    {
     "data": {
      "text/plain": [
       "<AxesSubplot:>"
      ]
     },
     "execution_count": 298,
     "metadata": {},
     "output_type": "execute_result"
    },
    {
     "data": {
      "image/png": "[encoded data removed]",
      "text/plain": [
       "<Figure size 432x288 with 1 Axes>"
      ]
     },
     "metadata": {},
     "output_type": "display_data"
    }
   ],
   "source": [
    "# Column 5 is latitude.\n",
    "df.boxplot(column='latitude')"
   ]
  },
  {
   "cell_type": "code",
   "execution_count": 299,
   "metadata": {},
   "outputs": [
    {
     "data": {
      "image/png": "[encoded data removed]",
      "text/plain": [
       "<Figure size 432x288 with 1 Axes>"
      ]
     },
     "metadata": {},
     "output_type": "display_data"
    }
   ],
   "source": [
    "# The majority of the outliers are below the main box.\n",
    "hist = df['latitude'].hist(bins=100)\n",
    "hist.set_title('latitude')\n",
    "hist.set_xlabel('latitude')\n",
    "hist.set_ylabel('Count')\n",
    "plt.show()"
   ]
  },
  {
   "cell_type": "code",
   "execution_count": 300,
   "metadata": {},
   "outputs": [
    {
     "data": {
      "image/png": "[encoded data removed]",
      "text/plain": [
       "<Figure size 432x288 with 1 Axes>"
      ]
     },
     "metadata": {},
     "output_type": "display_data"
    }
   ],
   "source": [
    "# It has a normal distribution around -32.3. it is skewed a bit to left.\n",
    "# The skew to the left can be regarded as two small normal distributions as shown below.\n",
    "# There are some scattered values to the right of the histogram which do not fit into the normal distribution.\n",
    "new_df = df[df['latitude'] < 32]\n",
    "hist = new_df['latitude'].hist(bins=100)\n",
    "hist.set_title('latitude')\n",
    "hist.set_xlabel('latitude')\n",
    "hist.set_ylabel('Count')\n",
    "plt.show()"
   ]
  },
  {
   "cell_type": "code",
   "execution_count": 301,
   "metadata": {},
   "outputs": [
    {
     "data": {
      "text/plain": [
       "<AxesSubplot:>"
      ]
     },
     "execution_count": 301,
     "metadata": {},
     "output_type": "execute_result"
    },
    {
     "data": {
      "image/png": "[encoded data removed]",
      "text/plain": [
       "<Figure size 432x288 with 1 Axes>"
      ]
     },
     "metadata": {},
     "output_type": "display_data"
    }
   ],
   "source": [
    "# Column 6 is lot_acres.\n",
    "df.boxplot(column='lot_acres')"
   ]
  },
  {
   "cell_type": "code",
   "execution_count": 302,
   "metadata": {},
   "outputs": [
    {
     "data": {
      "text/plain": [
       "[]"
      ]
     },
     "execution_count": 302,
     "metadata": {},
     "output_type": "execute_result"
    },
    {
     "data": {
      "image/png": "[encoded data removed]",
      "text/plain": [
       "<Figure size 432x288 with 1 Axes>"
      ]
     },
     "metadata": {},
     "output_type": "display_data"
    }
   ],
   "source": [
    "# The small box shows how tight the majority of the values are\n",
    "# concentrated in a small range with some outliers above the box.\n",
    "hist = df['lot_acres'].hist(bins=100)\n",
    "hist.set_title('lot_acres')\n",
    "hist.set_xlabel('lot_acres')\n",
    "hist.set_ylabel('Count')\n",
    "plt.semilogy()"
   ]
  },
  {
   "cell_type": "code",
   "execution_count": 303,
   "metadata": {},
   "outputs": [
    {
     "name": "stdout",
     "output_type": "stream",
     "text": [
      "There are 5 data points with lot_acres above 500\n",
      "There are 35 data points with lot_acres = 0\n"
     ]
    }
   ],
   "source": [
    "# The majority of the values are below 500.\n",
    "new_df = df[df['lot_acres'] > 500]\n",
    "print(f'There are {len(new_df)} data points with lot_acres above 500')\n",
    "# Aslo there are 35 data poisnt with lot_acres = 0 which is apparently a wrong value.\n",
    "# I replace these values with their sqrt_ft value converted to acres.\n",
    "new_df = df[df['lot_acres'] == 0]\n",
    "print(f'There are {len(new_df)} data points with lot_acres = 0')\n",
    "# I decided to convert sqrt_ft into acres and replace those zero acres with that."
   ]
  },
  {
   "cell_type": "code",
   "execution_count": 304,
   "metadata": {},
   "outputs": [
    {
     "data": {
      "text/html": [
       "<div>\n",
       "<style scoped>\n",
       "    .dataframe tbody tr th:only-of-type {\n",
       "        vertical-align: middle;\n",
       "    }\n",
       "\n",
       "    .dataframe tbody tr th {\n",
       "        vertical-align: top;\n",
       "    }\n",
       "\n",
       "    .dataframe thead th {\n",
       "        text-align: right;\n",
       "    }\n",
       "</style>\n",
       "<table border=\"1\" class=\"dataframe\">\n",
       "  <thead>\n",
       "    <tr style=\"text-align: right;\">\n",
       "      <th></th>\n",
       "      <th>MLS</th>\n",
       "      <th>sold_price</th>\n",
       "      <th>zipcode</th>\n",
       "      <th>longitude</th>\n",
       "      <th>latitude</th>\n",
       "      <th>lot_acres</th>\n",
       "      <th>taxes</th>\n",
       "      <th>year_built</th>\n",
       "      <th>bedrooms</th>\n",
       "      <th>bathrooms</th>\n",
       "      <th>sqrt_ft</th>\n",
       "      <th>garage</th>\n",
       "      <th>kitchen_features</th>\n",
       "      <th>fireplaces</th>\n",
       "      <th>floor_covering</th>\n",
       "      <th>HOA</th>\n",
       "    </tr>\n",
       "  </thead>\n",
       "  <tbody>\n",
       "  </tbody>\n",
       "</table>\n",
       "</div>"
      ],
      "text/plain": [
       "Empty DataFrame\n",
       "Columns: [MLS, sold_price, zipcode, longitude, latitude, lot_acres, taxes, year_built, bedrooms, bathrooms, sqrt_ft, garage, kitchen_features, fireplaces, floor_covering, HOA]\n",
       "Index: []"
      ]
     },
     "execution_count": 304,
     "metadata": {},
     "output_type": "execute_result"
    }
   ],
   "source": [
    "df.loc[df['lot_acres'] == 0, 'lot_acres'] = df['sqrt_ft']*0.00002296\n",
    "df[df['lot_acres'].isnull()]"
   ]
  },
  {
   "cell_type": "code",
   "execution_count": 305,
   "metadata": {},
   "outputs": [
    {
     "data": {
      "text/plain": [
       "[]"
      ]
     },
     "execution_count": 305,
     "metadata": {},
     "output_type": "execute_result"
    },
    {
     "data": {
      "image/png": "[encoded data removed]",
      "text/plain": [
       "<Figure size 432x288 with 1 Axes>"
      ]
     },
     "metadata": {},
     "output_type": "display_data"
    }
   ],
   "source": [
    "new_df = df[df['lot_acres'] <= 500]\n",
    "hist = new_df['lot_acres'].hist(bins=100)\n",
    "hist.set_title('lot_acres')\n",
    "hist.set_xlabel('lot_acres')\n",
    "hist.set_ylabel('Count')\n",
    "plt.semilogy()\n",
    "# Note: The diagram below has a logarithmic Y axis. A large majority of values are concentrated near 0."
   ]
  },
  {
   "cell_type": "code",
   "execution_count": 306,
   "metadata": {},
   "outputs": [
    {
     "data": {
      "text/plain": [
       "<AxesSubplot:>"
      ]
     },
     "execution_count": 306,
     "metadata": {},
     "output_type": "execute_result"
    },
    {
     "data": {
      "image/png": "[encoded data removed]",
      "text/plain": [
       "<Figure size 432x288 with 1 Axes>"
      ]
     },
     "metadata": {},
     "output_type": "display_data"
    }
   ],
   "source": [
    "# Column 7 is taxes.\n",
    "df.boxplot(column='taxes')"
   ]
  },
  {
   "cell_type": "code",
   "execution_count": 307,
   "metadata": {},
   "outputs": [
    {
     "data": {
      "text/plain": [
       "[]"
      ]
     },
     "execution_count": 307,
     "metadata": {},
     "output_type": "execute_result"
    },
    {
     "data": {
      "image/png": "[encoded data removed]",
      "text/plain": [
       "<Figure size 432x288 with 1 Axes>"
      ]
     },
     "metadata": {},
     "output_type": "display_data"
    }
   ],
   "source": [
    "# The boxplot shows how concentrated the values are around the\n",
    "# lower values. Very few outliers with large values are there.\n",
    "hist = df['taxes'].hist(bins=50)\n",
    "hist.set_title('taxes')\n",
    "hist.set_xlabel('taxes')\n",
    "hist.set_ylabel('Count')\n",
    "plt.semilogy()"
   ]
  },
  {
   "cell_type": "code",
   "execution_count": 308,
   "metadata": {},
   "outputs": [
    {
     "name": "stdout",
     "output_type": "stream",
     "text": [
      "The number of data points with taxes higher than $40K is 2.\n",
      "The number of data points with zero taxes is 22.\n",
      "The number of data points with blank taxes is 0.\n",
      "The number of data points with \"None\" taxes is 0.\n"
     ]
    }
   ],
   "source": [
    "print(f'The number of data points with taxes higher than $40K is {len(df[df[\"taxes\"] > 40000])}.')\n",
    "print(f'The number of data points with zero taxes is {len(df[df[\"taxes\"] == 0])}.')\n",
    "print(f'The number of data points with blank taxes is {len(df[df[\"taxes\"].isnull()])}.')\n",
    "print(f'The number of data points with \"None\" taxes is {len(df[df[\"taxes\"] == \"None\"])}.')\n",
    "# I am unable to make a correct estimation of the taxes when they are 0; therefore, it is better to drop them.\n",
    "df.drop(df[df.taxes == 'None'].index, inplace=True)"
   ]
  },
  {
   "cell_type": "code",
   "execution_count": 309,
   "metadata": {},
   "outputs": [
    {
     "data": {
      "image/png": "[encoded data removed]",
      "text/plain": [
       "<Figure size 432x288 with 1 Axes>"
      ]
     },
     "metadata": {},
     "output_type": "display_data"
    }
   ],
   "source": [
    "# Here is a histogram of non-zero value which are below $40K.\n",
    "# It has a normal distribution with a right skew.\n",
    "# The approximate peak of the distribution is $60K.\n",
    "new_df = df[df['taxes'] != 0]\n",
    "new_df = new_df[new_df['taxes'] <= 40000]\n",
    "hist = new_df['taxes'].hist(bins=50)\n",
    "hist.set_title('Non-Zero low taxes')\n",
    "hist.set_xlabel('taxes')\n",
    "hist.set_ylabel('Count')\n",
    "plt.show()"
   ]
  },
  {
   "cell_type": "code",
   "execution_count": 310,
   "metadata": {},
   "outputs": [
    {
     "data": {
      "text/plain": [
       "<AxesSubplot:>"
      ]
     },
     "execution_count": 310,
     "metadata": {},
     "output_type": "execute_result"
    },
    {
     "data": {
      "image/png": "[encoded data removed]",
      "text/plain": [
       "<Figure size 432x288 with 1 Axes>"
      ]
     },
     "metadata": {},
     "output_type": "display_data"
    }
   ],
   "source": [
    "# Column 8 is year_built.\n",
    "df.boxplot(column='year_built')"
   ]
  },
  {
   "cell_type": "code",
   "execution_count": 311,
   "metadata": {},
   "outputs": [
    {
     "data": {
      "text/plain": [
       "[]"
      ]
     },
     "execution_count": 311,
     "metadata": {},
     "output_type": "execute_result"
    },
    {
     "data": {
      "image/png": "[encoded data removed]",
      "text/plain": [
       "<Figure size 432x288 with 1 Axes>"
      ]
     },
     "metadata": {},
     "output_type": "display_data"
    }
   ],
   "source": [
    "# Both the boxplot and the histogram show the left skew of lower values.\n",
    "hist = df['year_built'].hist(bins=300)\n",
    "hist.set_title('Year Built')\n",
    "hist.set_xlabel('year_built')\n",
    "hist.set_ylabel('Count')\n",
    "plt.semilogy()"
   ]
  },
  {
   "cell_type": "code",
   "execution_count": 312,
   "metadata": {},
   "outputs": [
    {
     "name": "stdout",
     "output_type": "stream",
     "text": [
      "The number of data points with year built = 0 is 5.\n",
      "The number of data points with blank year built is 0.\n",
      "The number of data points with \"None\" year built is 0.\n"
     ]
    }
   ],
   "source": [
    "print(f'The number of data points with year built = 0 is {len(df[df[\"year_built\"] == 0])}.')\n",
    "print(f'The number of data points with blank year built is {len(df[df[\"year_built\"].isnull()])}.')\n",
    "print(f'The number of data points with \"None\" year built is {len(df[df[\"year_built\"] == \"None\"])}.')"
   ]
  },
  {
   "cell_type": "code",
   "execution_count": 313,
   "metadata": {},
   "outputs": [
    {
     "name": "stdout",
     "output_type": "stream",
     "text": [
      "The number of data points with year built = 0 is 0.\n"
     ]
    },
    {
     "data": {
      "image/png": "[encoded data removed]",
      "text/plain": [
       "<Figure size 432x288 with 1 Axes>"
      ]
     },
     "metadata": {},
     "output_type": "display_data"
    }
   ],
   "source": [
    "# I don't have any way to replace the zero values for year built.\n",
    "# They are just 5 records. So, it's better to just delete them.\n",
    "df = df[df.year_built != 0]\n",
    "print(f'The number of data points with year built = 0 is {len(df[df[\"year_built\"] == 0])}.')\n",
    "hist = df['year_built'].hist(bins=100)\n",
    "hist.set_title('Non-zero year built')\n",
    "hist.set_xlabel('year_built')\n",
    "hist.set_ylabel('Count')\n",
    "plt.show()\n",
    "# This feature has a normal distribution with a left skew.\n",
    "# The peak of the distribution is around 2005."
   ]
  },
  {
   "cell_type": "code",
   "execution_count": 314,
   "metadata": {},
   "outputs": [
    {
     "data": {
      "text/plain": [
       "<AxesSubplot:>"
      ]
     },
     "execution_count": 314,
     "metadata": {},
     "output_type": "execute_result"
    },
    {
     "data": {
      "image/png": "[encoded data removed]",
      "text/plain": [
       "<Figure size 432x288 with 1 Axes>"
      ]
     },
     "metadata": {},
     "output_type": "display_data"
    }
   ],
   "source": [
    "# Column 9 is bedrooms.\n",
    "df.boxplot(column='bedrooms')"
   ]
  },
  {
   "cell_type": "code",
   "execution_count": 315,
   "metadata": {},
   "outputs": [
    {
     "data": {
      "text/plain": [
       "[]"
      ]
     },
     "execution_count": 315,
     "metadata": {},
     "output_type": "execute_result"
    },
    {
     "data": {
      "image/png": "[encoded data removed]",
      "text/plain": [
       "<Figure size 432x288 with 1 Axes>"
      ]
     },
     "metadata": {},
     "output_type": "display_data"
    }
   ],
   "source": [
    "# There are only a few properties with large number of bedrooms.\n",
    "hist = df['bedrooms'].hist(bins=40)\n",
    "hist.set_title('Bedrooms')\n",
    "hist.set_xlabel('bedrooms')\n",
    "hist.set_ylabel('Count')\n",
    "plt.semilogy()"
   ]
  },
  {
   "cell_type": "code",
   "execution_count": 316,
   "metadata": {},
   "outputs": [
    {
     "name": "stdout",
     "output_type": "stream",
     "text": [
      "The number of data points with blank bedrooms is 0.\n",
      "The number of data points with \"None\" bedrooms is 0.\n",
      "The number of data points with more than 15 bedrooms is 4.\n"
     ]
    },
    {
     "data": {
      "text/plain": [
       "[]"
      ]
     },
     "execution_count": 316,
     "metadata": {},
     "output_type": "execute_result"
    },
    {
     "data": {
      "image/png": "[encoded data removed]",
      "text/plain": [
       "<Figure size 432x288 with 1 Axes>"
      ]
     },
     "metadata": {},
     "output_type": "display_data"
    }
   ],
   "source": [
    "print(f'The number of data points with blank bedrooms is {len(df[df[\"bedrooms\"].isnull()])}.')\n",
    "print(f'The number of data points with \"None\" bedrooms is {len(df[df[\"bedrooms\"] == \"None\"])}.')\n",
    "# It looks like all the values in this column are valid.\n",
    "# There are 4 records with more than 15 bedrooms. These do not fit into the normal distribution\n",
    "# of the rest of this column.\n",
    "# The rest of the records are all below 15.\n",
    "print(f'The number of data points with more than 15 bedrooms is {len(df[df[\"bedrooms\"] > 15])}.')\n",
    "# Here is the histogram of the records with bedrooms below 15.\n",
    "hist = df[df[\"bedrooms\"] <= 15]['bedrooms'].hist(bins=15)\n",
    "hist.set_title('Low Number of Bedrooms')\n",
    "hist.set_xlabel('bedrooms')\n",
    "hist.set_ylabel('Count')\n",
    "plt.semilogy()\n",
    "# A normal distribution with a right skew is observed.\n",
    "# The peak is in 4.\n",
    "# It is plotted in logarithmic scale to show the low\n",
    "# values at the right side of the histogram. "
   ]
  },
  {
   "cell_type": "code",
   "execution_count": 317,
   "metadata": {},
   "outputs": [
    {
     "data": {
      "text/plain": [
       "<AxesSubplot:>"
      ]
     },
     "execution_count": 317,
     "metadata": {},
     "output_type": "execute_result"
    },
    {
     "data": {
      "image/png": "[encoded data removed]",
      "text/plain": [
       "<Figure size 432x288 with 1 Axes>"
      ]
     },
     "metadata": {},
     "output_type": "display_data"
    }
   ],
   "source": [
    "# Column 10 is bathrooms.\n",
    "df.boxplot(column='bathrooms')"
   ]
  },
  {
   "cell_type": "code",
   "execution_count": 318,
   "metadata": {},
   "outputs": [
    {
     "name": "stdout",
     "output_type": "stream",
     "text": [
      "The number of data points with more than 20 bedrooms is 3.\n"
     ]
    },
    {
     "data": {
      "image/png": "[encoded data removed]",
      "text/plain": [
       "<Figure size 432x288 with 1 Axes>"
      ]
     },
     "metadata": {},
     "output_type": "display_data"
    }
   ],
   "source": [
    "# There are only a few properties with large number of bathrooms.\n",
    "hist = df['bathrooms'].hist(bins=35)\n",
    "hist.set_title('Bathrooms')\n",
    "hist.set_xlabel('bathrooms')\n",
    "hist.set_ylabel('Count')\n",
    "plt.semilogy()\n",
    "# This column has a sharp normal distribution with a bit of skew to right.\n",
    "# The peak is at 3. The three records with 35 bedrooms don't fit in the normal distribution.\n",
    "print(f'The number of data points with more than 20 bedrooms is {len(df[df[\"bathrooms\"] > 20])}.')"
   ]
  },
  {
   "cell_type": "code",
   "execution_count": 319,
   "metadata": {},
   "outputs": [
    {
     "data": {
      "text/plain": [
       "<AxesSubplot:>"
      ]
     },
     "execution_count": 319,
     "metadata": {},
     "output_type": "execute_result"
    },
    {
     "data": {
      "image/png": "[encoded data removed]",
      "text/plain": [
       "<Figure size 432x288 with 1 Axes>"
      ]
     },
     "metadata": {},
     "output_type": "display_data"
    }
   ],
   "source": [
    "# Column 11 is sqrt_ft.\n",
    "df.boxplot(column='sqrt_ft')"
   ]
  },
  {
   "cell_type": "code",
   "execution_count": 320,
   "metadata": {},
   "outputs": [
    {
     "data": {
      "image/png": "[encoded data removed]",
      "text/plain": [
       "<Figure size 432x288 with 1 Axes>"
      ]
     },
     "metadata": {},
     "output_type": "display_data"
    }
   ],
   "source": [
    "# Like the last two columns, with the majority of the data points having low\n",
    "# values, there is a skew of larger values in the boxplot\n",
    "hist = df['sqrt_ft'].hist(bins=100)\n",
    "hist.set_title('square feet')\n",
    "hist.set_xlabel('sqrt_ft')\n",
    "hist.set_ylabel('Count')\n",
    "plt.show()\n",
    "# This column has a normal distribution with a long skew to right."
   ]
  },
  {
   "cell_type": "code",
   "execution_count": 321,
   "metadata": {},
   "outputs": [
    {
     "data": {
      "text/plain": [
       "<AxesSubplot:>"
      ]
     },
     "execution_count": 321,
     "metadata": {},
     "output_type": "execute_result"
    },
    {
     "data": {
      "image/png": "[encoded data removed]",
      "text/plain": [
       "<Figure size 432x288 with 1 Axes>"
      ]
     },
     "metadata": {},
     "output_type": "display_data"
    }
   ],
   "source": [
    "# Column 12 is garage.\n",
    "df.boxplot(column='garage')"
   ]
  },
  {
   "cell_type": "code",
   "execution_count": 322,
   "metadata": {},
   "outputs": [
    {
     "data": {
      "image/png": "[encoded data removed]",
      "text/plain": [
       "<Figure size 432x288 with 1 Axes>"
      ]
     },
     "metadata": {},
     "output_type": "display_data"
    }
   ],
   "source": [
    "# there are very few properties with high number of garages.\n",
    "hist = df['garage'].hist(bins=100)\n",
    "hist.set_title('Garage')\n",
    "hist.set_xlabel('garage')\n",
    "hist.set_ylabel('Count')\n",
    "plt.show()\n",
    "# This column has a normal distribution. There are a few unexpected spikes at lower values."
   ]
  },
  {
   "cell_type": "code",
   "execution_count": 323,
   "metadata": {},
   "outputs": [
    {
     "data": {
      "text/plain": [
       "[]"
      ]
     },
     "execution_count": 323,
     "metadata": {},
     "output_type": "execute_result"
    },
    {
     "data": {
      "image/png": "[encoded data removed]",
      "text/plain": [
       "<Figure size 432x288 with 1 Axes>"
      ]
     },
     "metadata": {},
     "output_type": "display_data"
    }
   ],
   "source": [
    "# As mentioned before, there are a few irregularities in high values (above 15).\n",
    "# They can be seen in the logarithmic scale.\n",
    "hist = df['garage'].hist(bins=100)\n",
    "hist.set_title('Garage')\n",
    "hist.set_xlabel('garage')\n",
    "hist.set_ylabel('Count')\n",
    "plt.semilogy()"
   ]
  },
  {
   "cell_type": "code",
   "execution_count": 324,
   "metadata": {},
   "outputs": [],
   "source": [
    "# Column 13 is kitchen_features.\n",
    "# I have no boxplot for this variable."
   ]
  },
  {
   "cell_type": "code",
   "execution_count": 325,
   "metadata": {},
   "outputs": [
    {
     "name": "stdout",
     "output_type": "stream",
     "text": [
      "column kitchen_features has 1817 values\n"
     ]
    }
   ],
   "source": [
    "# This column consists of strings. In total there are 1817 unique combinations of features.\n",
    "# To analyze them I thought of:\n",
    "#    1) Converting each unique combination into a unique code.\n",
    "#    2) Finding the most important ones (maybe, the most frequent ones) and add them to the\n",
    "#.      table in either one column or multiple columns.\n",
    "print(f'column kitchen_features has {len(df[\"kitchen_features\"].unique())} values')"
   ]
  },
  {
   "cell_type": "code",
   "execution_count": 336,
   "metadata": {},
   "outputs": [
    {
     "name": "stdout",
     "output_type": "stream",
     "text": [
      "Number of rows with blank fireplaces is 0\n"
     ]
    },
    {
     "data": {
      "text/plain": [
       "<AxesSubplot:>"
      ]
     },
     "execution_count": 336,
     "metadata": {},
     "output_type": "execute_result"
    },
    {
     "data": {
      "image/png": "[encoded data removed]",
      "text/plain": [
       "<Figure size 432x288 with 1 Axes>"
      ]
     },
     "metadata": {},
     "output_type": "display_data"
    }
   ],
   "source": [
    "# Column 14 is fireplaces.\n",
    "print(f'Number of rows with blank fireplaces is {len(df[df[\"fireplaces\"].isnull()])}')\n",
    "df.boxplot(column='fireplaces')"
   ]
  },
  {
   "cell_type": "code",
   "execution_count": 327,
   "metadata": {},
   "outputs": [
    {
     "data": {
      "image/png": "[encoded data removed]",
      "text/plain": [
       "<Figure size 432x288 with 1 Axes>"
      ]
     },
     "metadata": {},
     "output_type": "display_data"
    }
   ],
   "source": [
    "# The normal distribution is wider with a few outliers.\n",
    "hist = df['fireplaces'].hist(bins=100)\n",
    "hist.set_title('Fireplaces')\n",
    "hist.set_xlabel('fireplaces')\n",
    "hist.set_ylabel('Count')\n",
    "plt.show()\n",
    "# This variable has a normal distribution with a right skew."
   ]
  },
  {
   "cell_type": "code",
   "execution_count": 328,
   "metadata": {},
   "outputs": [],
   "source": [
    "# Column 15 is floor_covering.\n",
    "# There is no boxplot for this variable."
   ]
  },
  {
   "cell_type": "code",
   "execution_count": 329,
   "metadata": {},
   "outputs": [
    {
     "name": "stdout",
     "output_type": "stream",
     "text": [
      "column floor_covering has 295 values\n"
     ]
    },
    {
     "data": {
      "image/png": "[encoded data removed]",
      "text/plain": [
       "<Figure size 432x288 with 1 Axes>"
      ]
     },
     "metadata": {},
     "output_type": "display_data"
    }
   ],
   "source": [
    "print(f'column floor_covering has {len(df[\"floor_covering\"].unique())} values')\n",
    "hist = df['floor_covering'].hist(bins=100)\n",
    "hist.set_title('Floor Covering')\n",
    "hist.set_xlabel('floor_covering')\n",
    "hist.set_ylabel('Count')\n",
    "plt.show()\n",
    "# This variable has a normal distribution with a right skew with an unexpected spike at the right.\n",
    "# Like kitchen_features, this column also has lots of unique values. The same two solutions can be considered."
   ]
  },
  {
   "cell_type": "code",
   "execution_count": 331,
   "metadata": {},
   "outputs": [
    {
     "data": {
      "text/plain": [
       "<AxesSubplot:>"
      ]
     },
     "execution_count": 331,
     "metadata": {},
     "output_type": "execute_result"
    },
    {
     "data": {
      "image/png": "[encoded data removed]",
      "text/plain": [
       "<Figure size 432x288 with 1 Axes>"
      ]
     },
     "metadata": {},
     "output_type": "display_data"
    }
   ],
   "source": [
    "# Column 16 is HOA.\n",
    "df.boxplot(column='HOA')"
   ]
  },
  {
   "cell_type": "code",
   "execution_count": 332,
   "metadata": {},
   "outputs": [
    {
     "data": {
      "text/plain": [
       "[]"
      ]
     },
     "execution_count": 332,
     "metadata": {},
     "output_type": "execute_result"
    },
    {
     "data": {
      "image/png": "[encoded data removed]",
      "text/plain": [
       "<Figure size 432x288 with 1 Axes>"
      ]
     },
     "metadata": {},
     "output_type": "display_data"
    }
   ],
   "source": [
    "# The normal distribution has a very large standard deviation and there are a few outlier values above the box.\n",
    "new_df = df[df['HOA'] != 0]\n",
    "hist = new_df['HOA'].hist(bins=100)\n",
    "hist.set_title('HOA')\n",
    "hist.set_xlabel('HOA')\n",
    "hist.set_ylabel('Count')\n",
    "plt.semilogy()"
   ]
  },
  {
   "cell_type": "code",
   "execution_count": null,
   "metadata": {},
   "outputs": [],
   "source": []
  },
  {
   "cell_type": "code",
   "execution_count": 333,
   "metadata": {},
   "outputs": [
    {
     "name": "stdout",
     "output_type": "stream",
     "text": [
      "There are 5 records with HOA above $2500.\n"
     ]
    }
   ],
   "source": [
    "# The majority of the values are below $2500. There are 5\n",
    "print(f'There are {len(df[df[\"HOA\"] > 2500])} records with HOA above $2500.')"
   ]
  },
  {
   "cell_type": "code",
   "execution_count": null,
   "metadata": {},
   "outputs": [],
   "source": [
    "# For missed HOAs (HOA = 0), I found no very good estimation.\n",
    "# The very low correlation between HOA and other columns reinforces this conclusion.\n",
    "# That is mainly because we don't know when the properties were sold.\n",
    "# This is one major factor that affects the HOA as well as taxes.\n",
    "# One solution is to assign the median of the HOAs with the same zipcode with close MLSs.\n",
    "# That is based on the assumption that properties sold on same years have close MLSs.\n",
    "# This assumption is disputable. I have not implemented this option."
   ]
  },
  {
   "cell_type": "code",
   "execution_count": null,
   "metadata": {},
   "outputs": [],
   "source": []
  },
  {
   "cell_type": "code",
   "execution_count": null,
   "metadata": {},
   "outputs": [],
   "source": []
  },
  {
   "cell_type": "code",
   "execution_count": null,
   "metadata": {},
   "outputs": [],
   "source": []
  },
  {
   "cell_type": "code",
   "execution_count": null,
   "metadata": {},
   "outputs": [],
   "source": []
  },
  {
   "cell_type": "code",
   "execution_count": null,
   "metadata": {},
   "outputs": [],
   "source": []
  },
  {
   "cell_type": "code",
   "execution_count": null,
   "metadata": {},
   "outputs": [],
   "source": []
  },
  {
   "cell_type": "code",
   "execution_count": null,
   "metadata": {},
   "outputs": [],
   "source": []
  },
  {
   "cell_type": "code",
   "execution_count": null,
   "metadata": {},
   "outputs": [],
   "source": []
  },
  {
   "cell_type": "code",
   "execution_count": null,
   "metadata": {},
   "outputs": [],
   "source": []
  },
  {
   "cell_type": "code",
   "execution_count": null,
   "metadata": {},
   "outputs": [],
   "source": []
  },
  {
   "cell_type": "code",
   "execution_count": null,
   "metadata": {},
   "outputs": [],
   "source": []
  },
  {
   "cell_type": "code",
   "execution_count": null,
   "metadata": {},
   "outputs": [],
   "source": []
  },
  {
   "cell_type": "code",
   "execution_count": null,
   "metadata": {},
   "outputs": [],
   "source": []
  },
  {
   "cell_type": "code",
   "execution_count": null,
   "metadata": {},
   "outputs": [],
   "source": []
  },
  {
   "cell_type": "code",
   "execution_count": null,
   "metadata": {},
   "outputs": [],
   "source": []
  },
  {
   "cell_type": "code",
   "execution_count": null,
   "metadata": {},
   "outputs": [],
   "source": []
  },
  {
   "cell_type": "code",
   "execution_count": null,
   "metadata": {},
   "outputs": [],
   "source": []
  },
  {
   "cell_type": "code",
   "execution_count": null,
   "metadata": {},
   "outputs": [],
   "source": []
  },
  {
   "cell_type": "code",
   "execution_count": null,
   "metadata": {},
   "outputs": [],
   "source": []
  },
  {
   "cell_type": "code",
   "execution_count": null,
   "metadata": {},
   "outputs": [],
   "source": []
  },
  {
   "cell_type": "code",
   "execution_count": null,
   "metadata": {},
   "outputs": [],
   "source": []
  },
  {
   "cell_type": "code",
   "execution_count": null,
   "metadata": {},
   "outputs": [],
   "source": []
  },
  {
   "cell_type": "code",
   "execution_count": null,
   "metadata": {},
   "outputs": [],
   "source": []
  },
  {
   "cell_type": "code",
   "execution_count": null,
   "metadata": {},
   "outputs": [],
   "source": []
  },
  {
   "cell_type": "code",
   "execution_count": null,
   "metadata": {},
   "outputs": [],
   "source": []
  },
  {
   "cell_type": "code",
   "execution_count": null,
   "metadata": {},
   "outputs": [],
   "source": []
  },
  {
   "cell_type": "code",
   "execution_count": null,
   "metadata": {},
   "outputs": [],
   "source": []
  },
  {
   "cell_type": "code",
   "execution_count": null,
   "metadata": {},
   "outputs": [],
   "source": []
  },
  {
   "cell_type": "code",
   "execution_count": null,
   "metadata": {},
   "outputs": [],
   "source": []
  },
  {
   "cell_type": "code",
   "execution_count": null,
   "metadata": {},
   "outputs": [],
   "source": []
  },
  {
   "cell_type": "code",
   "execution_count": null,
   "metadata": {},
   "outputs": [],
   "source": []
  },
  {
   "cell_type": "code",
   "execution_count": null,
   "metadata": {},
   "outputs": [],
   "source": []
  },
  {
   "cell_type": "code",
   "execution_count": null,
   "metadata": {},
   "outputs": [],
   "source": []
  },
  {
   "cell_type": "code",
   "execution_count": null,
   "metadata": {},
   "outputs": [],
   "source": []
  },
  {
   "cell_type": "code",
   "execution_count": null,
   "metadata": {},
   "outputs": [],
   "source": []
  },
  {
   "cell_type": "code",
   "execution_count": null,
   "metadata": {},
   "outputs": [],
   "source": []
  },
  {
   "cell_type": "code",
   "execution_count": null,
   "metadata": {},
   "outputs": [],
   "source": []
  },
  {
   "cell_type": "code",
   "execution_count": null,
   "metadata": {},
   "outputs": [],
   "source": []
  },
  {
   "cell_type": "code",
   "execution_count": null,
   "metadata": {},
   "outputs": [],
   "source": []
  },
  {
   "cell_type": "code",
   "execution_count": null,
   "metadata": {},
   "outputs": [],
   "source": []
  },
  {
   "cell_type": "code",
   "execution_count": null,
   "metadata": {},
   "outputs": [],
   "source": []
  },
  {
   "cell_type": "code",
   "execution_count": null,
   "metadata": {},
   "outputs": [],
   "source": []
  },
  {
   "cell_type": "code",
   "execution_count": null,
   "metadata": {},
   "outputs": [],
   "source": []
  },
  {
   "cell_type": "code",
   "execution_count": null,
   "metadata": {},
   "outputs": [],
   "source": []
  },
  {
   "cell_type": "code",
   "execution_count": null,
   "metadata": {},
   "outputs": [],
   "source": []
  },
  {
   "cell_type": "code",
   "execution_count": null,
   "metadata": {},
   "outputs": [],
   "source": []
  },
  {
   "cell_type": "code",
   "execution_count": null,
   "metadata": {},
   "outputs": [],
   "source": []
  },
  {
   "cell_type": "code",
   "execution_count": null,
   "metadata": {},
   "outputs": [],
   "source": []
  },
  {
   "cell_type": "code",
   "execution_count": null,
   "metadata": {},
   "outputs": [],
   "source": []
  },
  {
   "cell_type": "code",
   "execution_count": null,
   "metadata": {},
   "outputs": [],
   "source": []
  },
  {
   "cell_type": "code",
   "execution_count": null,
   "metadata": {},
   "outputs": [],
   "source": []
  },
  {
   "cell_type": "code",
   "execution_count": null,
   "metadata": {},
   "outputs": [],
   "source": []
  },
  {
   "cell_type": "code",
   "execution_count": null,
   "metadata": {},
   "outputs": [],
   "source": []
  },
  {
   "cell_type": "code",
   "execution_count": null,
   "metadata": {},
   "outputs": [],
   "source": []
  },
  {
   "cell_type": "code",
   "execution_count": null,
   "metadata": {},
   "outputs": [],
   "source": []
  },
  {
   "cell_type": "code",
   "execution_count": null,
   "metadata": {},
   "outputs": [],
   "source": []
  },
  {
   "cell_type": "code",
   "execution_count": null,
   "metadata": {},
   "outputs": [],
   "source": []
  },
  {
   "cell_type": "code",
   "execution_count": null,
   "metadata": {},
   "outputs": [],
   "source": []
  },
  {
   "cell_type": "code",
   "execution_count": null,
   "metadata": {},
   "outputs": [],
   "source": []
  },
  {
   "cell_type": "code",
   "execution_count": null,
   "metadata": {},
   "outputs": [],
   "source": []
  },
  {
   "cell_type": "code",
   "execution_count": null,
   "metadata": {},
   "outputs": [],
   "source": []
  },
  {
   "cell_type": "code",
   "execution_count": null,
   "metadata": {},
   "outputs": [],
   "source": []
  },
  {
   "cell_type": "code",
   "execution_count": null,
   "metadata": {},
   "outputs": [],
   "source": []
  },
  {
   "cell_type": "code",
   "execution_count": null,
   "metadata": {},
   "outputs": [],
   "source": []
  },
  {
   "cell_type": "code",
   "execution_count": null,
   "metadata": {},
   "outputs": [],
   "source": []
  },
  {
   "cell_type": "code",
   "execution_count": null,
   "metadata": {},
   "outputs": [],
   "source": []
  },
  {
   "cell_type": "code",
   "execution_count": null,
   "metadata": {},
   "outputs": [],
   "source": []
  },
  {
   "cell_type": "code",
   "execution_count": null,
   "metadata": {},
   "outputs": [],
   "source": []
  },
  {
   "cell_type": "code",
   "execution_count": null,
   "metadata": {},
   "outputs": [],
   "source": []
  },
  {
   "cell_type": "code",
   "execution_count": null,
   "metadata": {},
   "outputs": [],
   "source": []
  },
  {
   "cell_type": "code",
   "execution_count": null,
   "metadata": {},
   "outputs": [],
   "source": []
  },
  {
   "cell_type": "code",
   "execution_count": null,
   "metadata": {},
   "outputs": [],
   "source": []
  },
  {
   "cell_type": "code",
   "execution_count": null,
   "metadata": {},
   "outputs": [],
   "source": []
  },
  {
   "cell_type": "code",
   "execution_count": null,
   "metadata": {},
   "outputs": [],
   "source": []
  },
  {
   "cell_type": "code",
   "execution_count": null,
   "metadata": {},
   "outputs": [],
   "source": []
  },
  {
   "cell_type": "code",
   "execution_count": null,
   "metadata": {},
   "outputs": [],
   "source": []
  },
  {
   "cell_type": "code",
   "execution_count": null,
   "metadata": {},
   "outputs": [],
   "source": []
  },
  {
   "cell_type": "code",
   "execution_count": null,
   "metadata": {},
   "outputs": [],
   "source": []
  },
  {
   "cell_type": "code",
   "execution_count": null,
   "metadata": {},
   "outputs": [],
   "source": []
  },
  {
   "cell_type": "code",
   "execution_count": null,
   "metadata": {},
   "outputs": [],
   "source": []
  },
  {
   "cell_type": "code",
   "execution_count": null,
   "metadata": {},
   "outputs": [],
   "source": []
  },
  {
   "cell_type": "code",
   "execution_count": null,
   "metadata": {},
   "outputs": [],
   "source": []
  },
  {
   "cell_type": "code",
   "execution_count": null,
   "metadata": {},
   "outputs": [],
   "source": []
  },
  {
   "cell_type": "code",
   "execution_count": null,
   "metadata": {},
   "outputs": [],
   "source": []
  },
  {
   "cell_type": "code",
   "execution_count": null,
   "metadata": {},
   "outputs": [],
   "source": []
  },
  {
   "cell_type": "code",
   "execution_count": null,
   "metadata": {},
   "outputs": [],
   "source": []
  },
  {
   "cell_type": "code",
   "execution_count": null,
   "metadata": {},
   "outputs": [],
   "source": []
  },
  {
   "cell_type": "code",
   "execution_count": null,
   "metadata": {},
   "outputs": [],
   "source": []
  },
  {
   "cell_type": "code",
   "execution_count": null,
   "metadata": {},
   "outputs": [],
   "source": []
  },
  {
   "cell_type": "code",
   "execution_count": null,
   "metadata": {},
   "outputs": [],
   "source": []
  },
  {
   "cell_type": "code",
   "execution_count": null,
   "metadata": {},
   "outputs": [],
   "source": []
  },
  {
   "cell_type": "code",
   "execution_count": null,
   "metadata": {},
   "outputs": [],
   "source": []
  },
  {
   "cell_type": "code",
   "execution_count": null,
   "metadata": {},
   "outputs": [],
   "source": []
  },
  {
   "cell_type": "code",
   "execution_count": null,
   "metadata": {},
   "outputs": [],
   "source": []
  },
  {
   "cell_type": "code",
   "execution_count": null,
   "metadata": {},
   "outputs": [],
   "source": []
  },
  {
   "cell_type": "code",
   "execution_count": null,
   "metadata": {},
   "outputs": [],
   "source": []
  },
  {
   "cell_type": "code",
   "execution_count": null,
   "metadata": {},
   "outputs": [],
   "source": []
  },
  {
   "cell_type": "code",
   "execution_count": null,
   "metadata": {},
   "outputs": [],
   "source": []
  },
  {
   "cell_type": "code",
   "execution_count": null,
   "metadata": {},
   "outputs": [],
   "source": []
  },
  {
   "cell_type": "code",
   "execution_count": null,
   "metadata": {},
   "outputs": [],
   "source": []
  },
  {
   "cell_type": "code",
   "execution_count": null,
   "metadata": {},
   "outputs": [],
   "source": []
  },
  {
   "cell_type": "code",
   "execution_count": null,
   "metadata": {},
   "outputs": [],
   "source": []
  },
  {
   "cell_type": "code",
   "execution_count": null,
   "metadata": {},
   "outputs": [],
   "source": []
  },
  {
   "cell_type": "code",
   "execution_count": null,
   "metadata": {},
   "outputs": [],
   "source": []
  },
  {
   "cell_type": "code",
   "execution_count": null,
   "metadata": {},
   "outputs": [],
   "source": []
  },
  {
   "cell_type": "code",
   "execution_count": null,
   "metadata": {},
   "outputs": [],
   "source": []
  },
  {
   "cell_type": "code",
   "execution_count": null,
   "metadata": {},
   "outputs": [],
   "source": []
  },
  {
   "cell_type": "code",
   "execution_count": null,
   "metadata": {},
   "outputs": [],
   "source": []
  },
  {
   "cell_type": "code",
   "execution_count": null,
   "metadata": {},
   "outputs": [],
   "source": []
  },
  {
   "cell_type": "code",
   "execution_count": null,
   "metadata": {},
   "outputs": [],
   "source": []
  },
  {
   "cell_type": "code",
   "execution_count": null,
   "metadata": {},
   "outputs": [],
   "source": []
  },
  {
   "cell_type": "code",
   "execution_count": null,
   "metadata": {},
   "outputs": [],
   "source": []
  },
  {
   "cell_type": "code",
   "execution_count": null,
   "metadata": {},
   "outputs": [],
   "source": []
  },
  {
   "cell_type": "code",
   "execution_count": null,
   "metadata": {},
   "outputs": [],
   "source": []
  },
  {
   "cell_type": "code",
   "execution_count": null,
   "metadata": {},
   "outputs": [],
   "source": []
  },
  {
   "cell_type": "code",
   "execution_count": null,
   "metadata": {},
   "outputs": [],
   "source": []
  },
  {
   "cell_type": "code",
   "execution_count": null,
   "metadata": {},
   "outputs": [],
   "source": []
  },
  {
   "cell_type": "code",
   "execution_count": null,
   "metadata": {},
   "outputs": [],
   "source": []
  },
  {
   "cell_type": "code",
   "execution_count": null,
   "metadata": {},
   "outputs": [],
   "source": []
  },
  {
   "cell_type": "code",
   "execution_count": null,
   "metadata": {},
   "outputs": [],
   "source": []
  },
  {
   "cell_type": "code",
   "execution_count": null,
   "metadata": {},
   "outputs": [],
   "source": []
  }
 ],
 "metadata": {
  "kernelspec": {
   "display_name": "Python 3",
   "language": "python",
   "name": "python3"
  },
  "language_info": {
   "codemirror_mode": {
    "name": "ipython",
    "version": 3
   },
   "file_extension": ".py",
   "mimetype": "text/x-python",
   "name": "python",
   "nbconvert_exporter": "python",
   "pygments_lexer": "ipython3",
   "version": "3.8.5"
  }
 },
 "nbformat": 4,
 "nbformat_minor": 4
}
